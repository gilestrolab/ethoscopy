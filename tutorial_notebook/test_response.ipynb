{
 "cells": [
  {
   "attachments": {},
   "cell_type": "markdown",
   "id": "5285f95c-d7d5-4317-8c61-5bbe68cfe75a",
   "metadata": {},
   "source": [
    "## Tutorial number 1\n",
    "### Working with ethoscope data\n",
    "The tutorial will guide you through loading data, visualisation and plotting using the common sleep functions"
   ]
  },
  {
   "attachments": {},
   "cell_type": "markdown",
   "id": "ef5052a3-fb5f-4e52-98c6-14d14ab86265",
   "metadata": {},
   "source": [
    "## 1. Load the dummy dataset"
   ]
  },
  {
   "cell_type": "code",
   "execution_count": null,
   "id": "40f284e5-2ef0-483b-bff5-670f3b13eabf",
   "metadata": {},
   "outputs": [],
   "source": [
    "import pandas as pd\n",
    "import numpy as np \n",
    "\n",
    "import ethoscopy as etho"
   ]
  },
  {
   "cell_type": "code",
   "execution_count": null,
   "id": "b979d172-8b6b-4dd2-92a7-c3a7f4ac6993",
   "metadata": {},
   "outputs": [],
   "source": [
    "# This tutorial requires version 1.1.7 or greater\n",
    "etho.__version__"
   ]
  },
  {
   "cell_type": "code",
   "execution_count": null,
   "id": "20cb03a2-4b54-4cde-a22c-05561c58484f",
   "metadata": {},
   "outputs": [],
   "source": [
    "df1 = pd.read_pickle('/home/lab/Desktop/test_ago_hmm/pickles/air_1_data_c.pkl')\n",
    "df2 = pd.read_pickle('/home/lab/Desktop/test_ago_hmm/pickles/air_2_data_c.pkl')\n",
    "pdf1 = pd.read_pickle('/home/lab/Desktop/test_ago_hmm/pickles/air_1_puff_c.pkl')\n",
    "pdf2 = pd.read_pickle('/home/lab/Desktop/test_ago_hmm/pickles/air_2_puff_c.pkl')\n",
    "df = etho.concat(df1, df2)\n",
    "pdf = etho.concat(pdf1, pdf2)\n",
    "df = etho.behavpy(df, df.meta, check = True, canvas = 'seaborn')\n",
    "pdfs = etho.behavpy(pdf, pdf.meta, check = True, canvas = 'seaborn')\n",
    "pdfp = etho.behavpy(pdf, pdf.meta, check = True, canvas = 'plotly')"
   ]
  },
  {
   "cell_type": "code",
   "execution_count": null,
   "id": "fdab9ceb",
   "metadata": {},
   "outputs": [],
   "source": [
    "# df = pd.read_pickle('/home/lab/Desktop/test_ago_hmm/pickles/acv_response_data.pkl')\n",
    "# pdf = pd.read_pickle('/home/lab/Desktop/test_ago_hmm/pickles/acv_response_puff.pkl')\n",
    "# df = etho.behavpy(df, df.meta)\n",
    "# pdfs = etho.behavpy(pdf, pdf.meta, check = True, canvas = 'seaborn')\n",
    "# pdfp = etho.behavpy(pdf, pdf.meta, check = True, canvas = 'plotly')"
   ]
  },
  {
   "cell_type": "code",
   "execution_count": null,
   "id": "c74353a8",
   "metadata": {},
   "outputs": [],
   "source": [
    "from ethoscopy.misc.get_HMM import get_HMM\n",
    "h = get_HMM('M')"
   ]
  },
  {
   "cell_type": "code",
   "execution_count": null,
   "id": "e52feff9",
   "metadata": {},
   "outputs": [],
   "source": [
    "pdfp = pdfp[pdfp['has_interacted'] == 1]\n",
    "pdfs = pdfs[pdfs['has_interacted'] == 1]"
   ]
  },
  {
   "cell_type": "code",
   "execution_count": null,
   "id": "da88a13b",
   "metadata": {},
   "outputs": [],
   "source": [
    "f, x = pdfs.plot_hmm_response(df, hmm = h);"
   ]
  },
  {
   "cell_type": "code",
   "execution_count": null,
   "id": "25352bac",
   "metadata": {},
   "outputs": [],
   "source": [
    "f, x = pdfs.plot_hmm_response(df, hmm = h, facet_col='machine_name');"
   ]
  },
  {
   "cell_type": "code",
   "execution_count": null,
   "id": "c29fb07c",
   "metadata": {},
   "outputs": [],
   "source": [
    "f, x = pdfp.plot_hmm_response(df, hmm = h);#, facet_col='machine_name');\n",
    "f"
   ]
  },
  {
   "cell_type": "code",
   "execution_count": null,
   "id": "8fe1c242",
   "metadata": {},
   "outputs": [],
   "source": [
    "f, x = pdfp.plot_hmm_response(df, hmm = h, facet_col='machine_name', col_uniform=True);\n",
    "f"
   ]
  },
  {
   "cell_type": "code",
   "execution_count": null,
   "id": "3be7b00d",
   "metadata": {},
   "outputs": [],
   "source": [
    "f, x = pdfs.plot_hmm_response(df, hmm = h, facet_col='machine_name');"
   ]
  },
  {
   "cell_type": "code",
   "execution_count": null,
   "id": "5c30b57d",
   "metadata": {},
   "outputs": [],
   "source": [
    "# pdfs = pdfs[pdfs['has_interacted'] == 1]\n",
    "pdfs.plot_habituation(plot_type = 'number', x_limit = 20, title = 'what', facet_col='machine_name');"
   ]
  },
  {
   "cell_type": "code",
   "execution_count": null,
   "id": "3c46b70e",
   "metadata": {},
   "outputs": [],
   "source": [
    "f = pdfs.plot_response_overtime(wrapped = True)#, facet_col='machine_name')\n",
    "f.show()"
   ]
  },
  {
   "cell_type": "code",
   "execution_count": null,
   "id": "de970c20",
   "metadata": {},
   "outputs": [],
   "source": [
    "f = pdfp.plot_response_overtime(wrapped = True)#, facet_col='machine_name')\n",
    "f.show()"
   ]
  },
  {
   "cell_type": "code",
   "execution_count": null,
   "id": "c00568fc",
   "metadata": {},
   "outputs": [],
   "source": [
    "# pdfp.plot_response_over_hmm_bouts(df, hmm=h, variable = 'moving', response_col = 'has_responded')"
   ]
  },
  {
   "cell_type": "code",
   "execution_count": null,
   "id": "e71c1384",
   "metadata": {},
   "outputs": [],
   "source": [
    "f = pdfs.plot_response_over_activity(df, activity = 'active', variable = 'moving', response_col = 'has_responded');#, facet_col = 'machine_name');\n",
    "f.show()"
   ]
  },
  {
   "cell_type": "code",
   "execution_count": null,
   "id": "f1d9f4d2",
   "metadata": {},
   "outputs": [],
   "source": [
    "f = pdfp.plot_response_over_activity(df, activity = 'both', variable = 'moving', response_col = 'has_responded', facet_col = 'machine_name');\n",
    "f.show()"
   ]
  },
  {
   "cell_type": "code",
   "execution_count": null,
   "id": "bd34571c",
   "metadata": {},
   "outputs": [],
   "source": [
    "f = pdfp.plot_response_over_hmm_bouts(df, hmm=h, variable = 'moving', response_col = 'has_responded', labels = None, colours =  ['darkgreen', 'green', 'orange', 'yellow'])#, x_limit = 30, t_bin = 60, func = 'max', title = '', grids = False, t_column = 't', figsize = (0,0)):\n",
    "f\n"
   ]
  },
  {
   "cell_type": "code",
   "execution_count": null,
   "id": "cab1054b",
   "metadata": {},
   "outputs": [],
   "source": [
    "# pdfs = pdfs[pdfs['has_interacted'] == 1]\n",
    "pdfs.plot_habituation(plot_type = 'number', x_limit = 20, title = 'what', facet_col='machine_name');"
   ]
  },
  {
   "cell_type": "code",
   "execution_count": null,
   "id": "c9460f12",
   "metadata": {},
   "outputs": [],
   "source": [
    "f, x = pdfs.plot_response_quantify(facet_col='machine_name')"
   ]
  },
  {
   "cell_type": "code",
   "execution_count": null,
   "id": "eaf500cb",
   "metadata": {},
   "outputs": [],
   "source": [
    "f, x = pdfp.plot_response_quantify(facet_col='machine_name', title = 'what')\n",
    "f.show()"
   ]
  },
  {
   "cell_type": "code",
   "execution_count": null,
   "id": "96458071",
   "metadata": {},
   "outputs": [],
   "source": [
    "f, x = pdfs.plot_response_quantify()"
   ]
  },
  {
   "cell_type": "code",
   "execution_count": null,
   "id": "1b90ccd1",
   "metadata": {},
   "outputs": [],
   "source": [
    "f, x = pdfp.plot_response_quantify()\n",
    "f.show()"
   ]
  },
  {
   "cell_type": "code",
   "execution_count": null,
   "id": "e75cd816",
   "metadata": {},
   "outputs": [],
   "source": [
    "from ethoscopy.misc.get_HMM import get_HMM\n",
    "h = get_HMM('M')"
   ]
  },
  {
   "cell_type": "code",
   "execution_count": null,
   "id": "ec0f08a9",
   "metadata": {},
   "outputs": [],
   "source": [
    "pdfs.plot_hmm_response(df, hmm = h, facet_col='machine_name')"
   ]
  },
  {
   "cell_type": "code",
   "execution_count": null,
   "id": "d7101aa3",
   "metadata": {},
   "outputs": [],
   "source": [
    "# df1 = pd.read_pickle('/home/lab/Desktop/test_ago_hmm/pickles/air_1_data_c.pkl')\n",
    "# df2 = pd.read_pickle('/home/lab/Desktop/test_ago_hmm/pickles/air_2_data_c.pkl')\n",
    "# pdf1 = pd.read_pickle('/home/lab/Desktop/test_ago_hmm/pickles/air_1_puff_c.pkl')\n",
    "# pdf2 = pd.read_pickle('/home/lab/Desktop/test_ago_hmm/pickles/air_2_puff_c.pkl')\n",
    "# df = etho.concat(df1, df2)\n",
    "# pdf = etho.concat(pdf1, pdf2)\n",
    "# df = etho.behavpy(df, df.meta, check = True, canvas = 'seaborn')\n",
    "# pdfs = etho.behavpy(pdf, pdf.meta, check = True, canvas = 'seaborn')\n",
    "# pdfp = etho.behavpy(pdf, pdf.meta, check = True, canvas = 'plotly')"
   ]
  },
  {
   "cell_type": "code",
   "execution_count": null,
   "id": "b2bc88c3",
   "metadata": {},
   "outputs": [],
   "source": [
    "# tdf = df.xmv('date', '2024-03-14')\n",
    "# tpdf = pdf.xmv('date', '2024-03-14')"
   ]
  },
  {
   "cell_type": "code",
   "execution_count": null,
   "id": "a2a69ce8",
   "metadata": {},
   "outputs": [],
   "source": []
  },
  {
   "cell_type": "code",
   "execution_count": null,
   "id": "ddbf7426",
   "metadata": {},
   "outputs": [],
   "source": []
  },
  {
   "cell_type": "code",
   "execution_count": null,
   "id": "4a2d6076",
   "metadata": {},
   "outputs": [],
   "source": [
    "pdfs = pdfs[pdfs['has_interacted'] == 1]\n",
    "pdfs.plot_habituation(plot_type = 'number', x_limit = 20, title = 'what', facet_col='machine_name');"
   ]
  },
  {
   "cell_type": "code",
   "execution_count": null,
   "id": "54d4f9b1",
   "metadata": {},
   "outputs": [],
   "source": [
    "x = pdfp.plot_habituation(plot_type = 'number', x_limit = 20, title = 'what', facet_col='machine_name');\n",
    "x.show()"
   ]
  },
  {
   "cell_type": "code",
   "execution_count": null,
   "id": "b36f4c06",
   "metadata": {},
   "outputs": [],
   "source": [
    "for i"
   ]
  },
  {
   "cell_type": "code",
   "execution_count": null,
   "id": "ca27dd68",
   "metadata": {},
   "outputs": [],
   "source": [
    "pdfs.plot_response_overtime(t_bin_hours=1, wrapped = True, facet_col = 'type');"
   ]
  },
  {
   "cell_type": "code",
   "execution_count": null,
   "id": "f35ee519",
   "metadata": {},
   "outputs": [],
   "source": [
    "# fig = pdfp.plot_response_overtime(t_bin_hours=1, wrapped = True, facet_col = 'type')\n",
    "# fig.show()"
   ]
  },
  {
   "cell_type": "code",
   "execution_count": null,
   "id": "5ebc85af",
   "metadata": {},
   "outputs": [],
   "source": [
    "# tpdf = tpdf[tpdf['has_interacted'] == 1]"
   ]
  },
  {
   "cell_type": "code",
   "execution_count": null,
   "id": "818c506f",
   "metadata": {},
   "outputs": [],
   "source": [
    "# x = pdfs.plot_response_over_activity(df, activity = 'inactive', variable = 'moving', facet_col = 'machine_name', facet_arg = None, facet_labels = None, title = '', t_column = 't', grids = False);"
   ]
  },
  {
   "cell_type": "code",
   "execution_count": null,
   "id": "562b07fd",
   "metadata": {},
   "outputs": [],
   "source": [
    "x = pdfp.plot_response_over_activity(df, activity = 'inactive', variable = 'moving', facet_col = 'machine_name', facet_arg = None, facet_labels = None, title = '', t_column = 't', grids = False)\n",
    "x.show()"
   ]
  },
  {
   "cell_type": "code",
   "execution_count": null,
   "id": "24d072e6",
   "metadata": {},
   "outputs": [],
   "source": [
    "# tdf = etho.behavpy(d, m, check = True, canvas = 'plotly')\n",
    "# tdf.meta['exp'] = tdf.meta['odour'] + '-' + tdf.meta['rest']\n",
    "# fig, stats_s = tdf.plot_response_quantify(title = '')\n",
    "# fig.show()"
   ]
  },
  {
   "cell_type": "code",
   "execution_count": null,
   "id": "78051a5b",
   "metadata": {},
   "outputs": [],
   "source": [
    "# fig, stats_s = tdf.plot_quantify('x', facet_col = 'exp')\n",
    "# fig.show()"
   ]
  },
  {
   "cell_type": "code",
   "execution_count": null,
   "id": "ceadf7bb",
   "metadata": {},
   "outputs": [],
   "source": [
    "# fig, stats_s = df.plot_quantify('x', facet_col = 'exp')"
   ]
  },
  {
   "cell_type": "code",
   "execution_count": null,
   "id": "c9140df7",
   "metadata": {},
   "outputs": [],
   "source": [
    "ndf = df[df['has_interacted'] == 1]"
   ]
  },
  {
   "cell_type": "code",
   "execution_count": null,
   "id": "f2ae389a",
   "metadata": {},
   "outputs": [],
   "source": [
    "fig, stats_s = df.plot_response_quantify(title = '')\n",
    "# fig.show()"
   ]
  },
  {
   "cell_type": "code",
   "execution_count": null,
   "id": "33c97e63",
   "metadata": {},
   "outputs": [],
   "source": [
    "['t', *['t', 't']]"
   ]
  },
  {
   "cell_type": "code",
   "execution_count": null,
   "id": "546860de",
   "metadata": {},
   "outputs": [],
   "source": [
    "fig, stats_s = df.plot_response_quantify(facet_col = 'exp', facet_arg = fargs, title = '')"
   ]
  },
  {
   "cell_type": "code",
   "execution_count": null,
   "id": "29b8a32e",
   "metadata": {},
   "outputs": [],
   "source": [
    "for i"
   ]
  },
  {
   "cell_type": "code",
   "execution_count": null,
   "id": "d6d9d6b2",
   "metadata": {},
   "outputs": [],
   "source": [
    "stats_s"
   ]
  },
  {
   "cell_type": "code",
   "execution_count": null,
   "id": "7d7e8867",
   "metadata": {},
   "outputs": [],
   "source": [
    "stats_s[stats_s['exp'] == 'air-first day'][stats_s[stats_s['exp'] == 'air-first day']['has_interacted'] == 'True Stimulus']"
   ]
  },
  {
   "cell_type": "code",
   "execution_count": null,
   "id": "1d24619a",
   "metadata": {},
   "outputs": [],
   "source": [
    "df = etho.behavpy(d, m, check = True, canvas = 'plotly')\n",
    "df.meta['exp'] = df.meta['odour'] + '-' + df.meta['rest']\n",
    "fig, stats_p = df.plot_response_quantify(facet_col = 'exp', facet_arg = fargs, title = '')\n",
    "fig.show()"
   ]
  }
 ],
 "metadata": {
  "kernelspec": {
   "display_name": ".venv",
   "language": "python",
   "name": "python3"
  },
  "language_info": {
   "codemirror_mode": {
    "name": "ipython",
    "version": 3
   },
   "file_extension": ".py",
   "mimetype": "text/x-python",
   "name": "python",
   "nbconvert_exporter": "python",
   "pygments_lexer": "ipython3",
   "version": "3.11.3"
  },
  "vscode": {
   "interpreter": {
    "hash": "64774a8dfb1bd896c6efea99b1b4772a6458a05741a63e1cad6fc82c0bcee224"
   }
  }
 },
 "nbformat": 4,
 "nbformat_minor": 5
}
