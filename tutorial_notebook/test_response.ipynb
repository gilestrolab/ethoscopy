{
 "cells": [
  {
   "attachments": {},
   "cell_type": "markdown",
   "id": "5285f95c-d7d5-4317-8c61-5bbe68cfe75a",
   "metadata": {},
   "source": [
    "## Tutorial number 1\n",
    "### Working with ethoscope data\n",
    "The tutorial will guide you through loading data, visualisation and plotting using the common sleep functions"
   ]
  },
  {
   "attachments": {},
   "cell_type": "markdown",
   "id": "ef5052a3-fb5f-4e52-98c6-14d14ab86265",
   "metadata": {},
   "source": [
    "## 1. Load the dummy dataset"
   ]
  },
  {
   "cell_type": "code",
   "execution_count": 1,
   "id": "40f284e5-2ef0-483b-bff5-670f3b13eabf",
   "metadata": {},
   "outputs": [],
   "source": [
    "import pandas as pd\n",
    "import numpy as np \n",
    "\n",
    "import ethoscopy as etho"
   ]
  },
  {
   "cell_type": "code",
   "execution_count": 2,
   "id": "b979d172-8b6b-4dd2-92a7-c3a7f4ac6993",
   "metadata": {},
   "outputs": [
    {
     "data": {
      "text/plain": [
       "'2.0.dev0'"
      ]
     },
     "execution_count": 2,
     "metadata": {},
     "output_type": "execute_result"
    }
   ],
   "source": [
    "# This tutorial requires version 1.1.7 or greater\n",
    "etho.__version__"
   ]
  },
  {
   "cell_type": "code",
   "execution_count": 3,
   "id": "20cb03a2-4b54-4cde-a22c-05561c58484f",
   "metadata": {},
   "outputs": [],
   "source": [
    "df1 = pd.read_pickle('/home/lab/Desktop/test_ago_hmm/pickles/air_1_data_c.pkl')\n",
    "df2 = pd.read_pickle('/home/lab/Desktop/test_ago_hmm/pickles/air_2_data_c.pkl')\n",
    "pdf1 = pd.read_pickle('/home/lab/Desktop/test_ago_hmm/pickles/air_1_puff_c.pkl')\n",
    "pdf2 = pd.read_pickle('/home/lab/Desktop/test_ago_hmm/pickles/air_2_puff_c.pkl')\n",
    "df = etho.concat(df1, df2)\n",
    "pdf = etho.concat(pdf1, pdf2)\n",
    "df = etho.behavpy(df, df.meta, check = True, canvas = 'seaborn')\n",
    "pdfs = etho.behavpy(pdf, pdf.meta, check = True, canvas = 'seaborn')\n",
    "pdfp = etho.behavpy(pdf, pdf.meta, check = True, canvas = 'plotly')"
   ]
  },
  {
   "cell_type": "code",
   "execution_count": 4,
   "id": "fdab9ceb",
   "metadata": {},
   "outputs": [],
   "source": [
    "# df = pd.read_pickle('/home/lab/Desktop/test_ago_hmm/pickles/acv_response_data.pkl')\n",
    "# pdf = pd.read_pickle('/home/lab/Desktop/test_ago_hmm/pickles/acv_response_puff.pkl')\n",
    "# df = etho.behavpy(df, df.meta)\n",
    "# pdfs = etho.behavpy(pdf, pdf.meta, check = True, canvas = 'seaborn')\n",
    "# pdfp = etho.behavpy(pdf, pdf.meta, check = True, canvas = 'plotly')"
   ]
  },
  {
   "cell_type": "code",
   "execution_count": 5,
   "id": "c74353a8",
   "metadata": {},
   "outputs": [],
   "source": [
    "from ethoscopy.misc.get_HMM import get_HMM\n",
    "h = get_HMM('M')"
   ]
  },
  {
   "cell_type": "code",
   "execution_count": 6,
   "id": "e52feff9",
   "metadata": {},
   "outputs": [],
   "source": [
    "# pdfp = pdfp[pdfp['has_interacted'] == 1]\n",
    "# pdfs = pdfs[pdfs['has_interacted'] == 1]"
   ]
  },
  {
   "cell_type": "code",
   "execution_count": 8,
   "id": "da88a13b",
   "metadata": {},
   "outputs": [
    {
     "ename": "TypeError",
     "evalue": "HMM object must have decode() method",
     "output_type": "error",
     "traceback": [
      "\u001b[0;31m---------------------------------------------------------------------------\u001b[0m",
      "\u001b[0;31mTypeError\u001b[0m                                 Traceback (most recent call last)",
      "Cell \u001b[0;32mIn[8], line 1\u001b[0m\n\u001b[0;32m----> 1\u001b[0m f, x \u001b[38;5;241m=\u001b[39m \u001b[43mpdfs\u001b[49m\u001b[38;5;241;43m.\u001b[39;49m\u001b[43mplot_hmm_response\u001b[49m\u001b[43m(\u001b[49m\u001b[43mdf\u001b[49m\u001b[43m,\u001b[49m\u001b[43m \u001b[49m\u001b[43mhmm\u001b[49m\u001b[43m \u001b[49m\u001b[38;5;241;43m=\u001b[39;49m\u001b[43m \u001b[49m\u001b[43m[\u001b[49m\u001b[43mh\u001b[49m\u001b[43m,\u001b[49m\u001b[43m \u001b[49m\u001b[43mh\u001b[49m\u001b[43m]\u001b[49m\u001b[43m,\u001b[49m\u001b[43m \u001b[49m\u001b[43mt_bin\u001b[49m\u001b[43m \u001b[49m\u001b[38;5;241;43m=\u001b[39;49m\u001b[43m \u001b[49m\u001b[43m[\u001b[49m\u001b[38;5;241;43m60\u001b[39;49m\u001b[43m,\u001b[49m\u001b[43m \u001b[49m\u001b[38;5;241;43m120\u001b[39;49m\u001b[43m]\u001b[49m\u001b[43m)\u001b[49m\u001b[38;5;66;03m# facet_col='machine_name', facet_arg=['ETHOSCOPE_032', 'ETHOSCOPE_033']);\u001b[39;00m\n",
      "File \u001b[0;32m~/Desktop/ethoscopy/src/ethoscopy/behavpy_seaborn.py:1940\u001b[0m, in \u001b[0;36mbehavpy_seaborn.plot_hmm_response\u001b[0;34m(self, mov_df, hmm, variable, response_col, labels, colours, facet_col, facet_arg, facet_labels, t_bin, func, title, t_column, grids, figsize)\u001b[0m\n\u001b[1;32m   1937\u001b[0m     t_bin \u001b[38;5;241m=\u001b[39m b_list\n\u001b[1;32m   1938\u001b[0m plot_column \u001b[38;5;241m=\u001b[39m \u001b[38;5;124mf\u001b[39m\u001b[38;5;124m'\u001b[39m\u001b[38;5;132;01m{\u001b[39;00mresponse_col\u001b[38;5;132;01m}\u001b[39;00m\u001b[38;5;124m_mean\u001b[39m\u001b[38;5;124m'\u001b[39m\n\u001b[0;32m-> 1940\u001b[0m grouped_data, palette_dict, h_order \u001b[38;5;241m=\u001b[39m \u001b[38;5;28;43mself\u001b[39;49m\u001b[38;5;241;43m.\u001b[39;49m\u001b[43m_hmm_response\u001b[49m\u001b[43m(\u001b[49m\u001b[43mmov_df\u001b[49m\u001b[43m,\u001b[49m\u001b[43m \u001b[49m\u001b[43mhmm\u001b[49m\u001b[43m \u001b[49m\u001b[38;5;241;43m=\u001b[39;49m\u001b[43m \u001b[49m\u001b[43mhmm\u001b[49m\u001b[43m,\u001b[49m\u001b[43m \u001b[49m\u001b[43mvariable\u001b[49m\u001b[43m \u001b[49m\u001b[38;5;241;43m=\u001b[39;49m\u001b[43m \u001b[49m\u001b[43mvariable\u001b[49m\u001b[43m,\u001b[49m\u001b[43m \u001b[49m\u001b[43mresponse_col\u001b[49m\u001b[38;5;241;43m=\u001b[39;49m\u001b[43mresponse_col\u001b[49m\u001b[43m,\u001b[49m\u001b[43m \u001b[49m\u001b[43mlabels\u001b[49m\u001b[43m \u001b[49m\u001b[38;5;241;43m=\u001b[39;49m\u001b[43m \u001b[49m\u001b[43mlabels\u001b[49m\u001b[43m,\u001b[49m\u001b[43m \u001b[49m\u001b[43mfacet_col\u001b[49m\u001b[43m \u001b[49m\u001b[38;5;241;43m=\u001b[39;49m\u001b[43m \u001b[49m\u001b[43mfacet_col\u001b[49m\u001b[43m,\u001b[49m\n\u001b[1;32m   1941\u001b[0m \u001b[43m                                    \u001b[49m\u001b[43mfacet_arg\u001b[49m\u001b[43m \u001b[49m\u001b[38;5;241;43m=\u001b[39;49m\u001b[43m \u001b[49m\u001b[43mfacet_arg\u001b[49m\u001b[43m,\u001b[49m\u001b[43m \u001b[49m\u001b[43mfacet_labels\u001b[49m\u001b[43m \u001b[49m\u001b[38;5;241;43m=\u001b[39;49m\u001b[43m \u001b[49m\u001b[43mfacet_labels\u001b[49m\u001b[43m,\u001b[49m\u001b[43m \u001b[49m\u001b[43mt_bin\u001b[49m\u001b[43m \u001b[49m\u001b[38;5;241;43m=\u001b[39;49m\u001b[43m \u001b[49m\u001b[43mt_bin\u001b[49m\u001b[43m,\u001b[49m\u001b[43m \u001b[49m\u001b[43mfunc\u001b[49m\u001b[43m \u001b[49m\u001b[38;5;241;43m=\u001b[39;49m\u001b[43m \u001b[49m\u001b[43mfunc\u001b[49m\u001b[43m,\u001b[49m\u001b[43m \u001b[49m\u001b[43mt_column\u001b[49m\u001b[43m \u001b[49m\u001b[38;5;241;43m=\u001b[39;49m\u001b[43m \u001b[49m\u001b[43mt_column\u001b[49m\u001b[43m)\u001b[49m\n\u001b[1;32m   1942\u001b[0m \u001b[38;5;28mprint\u001b[39m(palette_dict)\n\u001b[1;32m   1943\u001b[0m \u001b[38;5;66;03m# (0,0) means automatic size\u001b[39;00m\n",
      "File \u001b[0;32m~/Desktop/ethoscopy/src/ethoscopy/behavpy_draw.py:514\u001b[0m, in \u001b[0;36mbehavpy_draw._hmm_response\u001b[0;34m(self, mov_df, hmm, variable, response_col, labels, facet_col, facet_arg, t_bin, facet_labels, func, t_column)\u001b[0m\n\u001b[1;32m    511\u001b[0m     mdata \u001b[38;5;241m=\u001b[39m mov_df\n\u001b[1;32m    513\u001b[0m \u001b[38;5;28;01mif\u001b[39;00m facet_col \u001b[38;5;129;01mis\u001b[39;00m \u001b[38;5;28;01mNone\u001b[39;00m:  \u001b[38;5;66;03m# decode the whole dataset\u001b[39;00m\n\u001b[0;32m--> 514\u001b[0m     mdata \u001b[38;5;241m=\u001b[39m \u001b[38;5;28mself\u001b[39m\u001b[38;5;241m.\u001b[39m\u001b[38;5;18m__class__\u001b[39m(\u001b[38;5;28;43mself\u001b[39;49m\u001b[38;5;241;43m.\u001b[39;49m\u001b[43m_hmm_decode\u001b[49m\u001b[43m(\u001b[49m\u001b[43mmdata\u001b[49m\u001b[43m,\u001b[49m\u001b[43m \u001b[49m\u001b[43mhmm\u001b[49m\u001b[43m,\u001b[49m\u001b[43m \u001b[49m\u001b[43mt_bin\u001b[49m\u001b[43m,\u001b[49m\u001b[43m \u001b[49m\u001b[43mvariable\u001b[49m\u001b[43m,\u001b[49m\u001b[43m \u001b[49m\u001b[43mfunc\u001b[49m\u001b[43m,\u001b[49m\u001b[43m \u001b[49m\u001b[43mt_column\u001b[49m\u001b[43m,\u001b[49m\u001b[43m \u001b[49m\u001b[43mreturn_type\u001b[49m\u001b[38;5;241;43m=\u001b[39;49m\u001b[38;5;124;43m'\u001b[39;49m\u001b[38;5;124;43mtable\u001b[39;49m\u001b[38;5;124;43m'\u001b[39;49m\u001b[43m)\u001b[49m, mdata\u001b[38;5;241m.\u001b[39mmeta, check\u001b[38;5;241m=\u001b[39m\u001b[38;5;28;01mTrue\u001b[39;00m)\n\u001b[1;32m    515\u001b[0m \u001b[38;5;28;01melse\u001b[39;00m:\n\u001b[1;32m    516\u001b[0m     \u001b[38;5;28;01mif\u001b[39;00m \u001b[38;5;28misinstance\u001b[39m(hmm, \u001b[38;5;28mlist\u001b[39m) \u001b[38;5;129;01mis\u001b[39;00m \u001b[38;5;28;01mFalse\u001b[39;00m: \u001b[38;5;66;03m# if only 1 hmm but is faceted, decode as whole for efficiency\u001b[39;00m\n",
      "File \u001b[0;32m~/Desktop/ethoscopy/src/ethoscopy/behavpy_core.py:1785\u001b[0m, in \u001b[0;36mbehavpy_core._hmm_decode\u001b[0;34m(d, h, b, var, fun, t, return_type)\u001b[0m\n\u001b[1;32m   1782\u001b[0m     \u001b[38;5;28;01mraise\u001b[39;00m \u001b[38;5;167;01mValueError\u001b[39;00m(\u001b[38;5;124m\"\u001b[39m\u001b[38;5;124mreturn_type must be either \u001b[39m\u001b[38;5;124m'\u001b[39m\u001b[38;5;124marray\u001b[39m\u001b[38;5;124m'\u001b[39m\u001b[38;5;124m or \u001b[39m\u001b[38;5;124m'\u001b[39m\u001b[38;5;124mtable\u001b[39m\u001b[38;5;124m'\u001b[39m\u001b[38;5;124m\"\u001b[39m)\n\u001b[1;32m   1784\u001b[0m \u001b[38;5;28;01mif\u001b[39;00m \u001b[38;5;129;01mnot\u001b[39;00m \u001b[38;5;28mhasattr\u001b[39m(h, \u001b[38;5;124m'\u001b[39m\u001b[38;5;124mdecode\u001b[39m\u001b[38;5;124m'\u001b[39m):\n\u001b[0;32m-> 1785\u001b[0m     \u001b[38;5;28;01mraise\u001b[39;00m \u001b[38;5;167;01mTypeError\u001b[39;00m(\u001b[38;5;124m\"\u001b[39m\u001b[38;5;124mHMM object must have decode() method\u001b[39m\u001b[38;5;124m\"\u001b[39m)\n\u001b[1;32m   1787\u001b[0m \u001b[38;5;66;03m# Check for empty DataFrame\u001b[39;00m\n\u001b[1;32m   1788\u001b[0m \u001b[38;5;28;01mif\u001b[39;00m \u001b[38;5;28mlen\u001b[39m(d) \u001b[38;5;241m==\u001b[39m \u001b[38;5;241m0\u001b[39m:\n",
      "\u001b[0;31mTypeError\u001b[0m: HMM object must have decode() method"
     ]
    }
   ],
   "source": [
    "f, x = pdfs.plot_hmm_response(df, hmm = [h, h], t_bin = [60, 120])# facet_col='machine_name', facet_arg=['ETHOSCOPE_032', 'ETHOSCOPE_033']);"
   ]
  },
  {
   "cell_type": "code",
   "execution_count": null,
   "id": "25352bac",
   "metadata": {},
   "outputs": [],
   "source": [
    "f, x = pdfs.plot_hmm_response(df, hmm = h, facet_col='machine_name');"
   ]
  },
  {
   "cell_type": "code",
   "execution_count": null,
   "id": "c29fb07c",
   "metadata": {},
   "outputs": [],
   "source": [
    "f, x = pdfp.plot_hmm_response(df, hmm = h);#, facet_col='machine_name');\n",
    "f"
   ]
  },
  {
   "cell_type": "code",
   "execution_count": null,
   "id": "8fe1c242",
   "metadata": {},
   "outputs": [],
   "source": [
    "f, x = pdfp.plot_hmm_response(df, hmm = h, facet_col='machine_name', col_uniform=True);\n",
    "f"
   ]
  },
  {
   "cell_type": "code",
   "execution_count": null,
   "id": "3be7b00d",
   "metadata": {},
   "outputs": [],
   "source": [
    "f, x = pdfs.plot_hmm_response(df, hmm = h, facet_col='machine_name');"
   ]
  },
  {
   "cell_type": "code",
   "execution_count": null,
   "id": "5c30b57d",
   "metadata": {},
   "outputs": [],
   "source": [
    "# pdfs = pdfs[pdfs['has_interacted'] == 1]\n",
    "pdfs.plot_habituation(plot_type = 'number', x_limit = 20, title = 'what', facet_col='machine_name');"
   ]
  },
  {
   "cell_type": "code",
   "execution_count": null,
   "id": "3c46b70e",
   "metadata": {},
   "outputs": [],
   "source": [
    "f = pdfs.plot_response_overtime(wrapped = True)#, facet_col='machine_name')\n",
    "f.show()"
   ]
  },
  {
   "cell_type": "code",
   "execution_count": null,
   "id": "de970c20",
   "metadata": {},
   "outputs": [],
   "source": [
    "f = pdfp.plot_response_overtime(wrapped = True)#, facet_col='machine_name')\n",
    "f.show()"
   ]
  },
  {
   "cell_type": "code",
   "execution_count": null,
   "id": "c00568fc",
   "metadata": {},
   "outputs": [],
   "source": [
    "# pdfp.plot_response_over_hmm_bouts(df, hmm=h, variable = 'moving', response_col = 'has_responded')"
   ]
  },
  {
   "cell_type": "code",
   "execution_count": null,
   "id": "e71c1384",
   "metadata": {},
   "outputs": [],
   "source": [
    "f = pdfs.plot_response_over_activity(df, activity = 'active', variable = 'moving', response_col = 'has_responded');#, facet_col = 'machine_name');\n",
    "f.show()"
   ]
  },
  {
   "cell_type": "code",
   "execution_count": null,
   "id": "f1d9f4d2",
   "metadata": {},
   "outputs": [],
   "source": [
    "f = pdfp.plot_response_over_activity(df, activity = 'both', variable = 'moving', response_col = 'has_responded', facet_col = 'machine_name');\n",
    "f.show()"
   ]
  },
  {
   "cell_type": "code",
   "execution_count": null,
   "id": "bd34571c",
   "metadata": {},
   "outputs": [],
   "source": [
    "f = pdfp.plot_response_over_hmm_bouts(df, hmm=h, variable = 'moving', response_col = 'has_responded', labels = None, colours =  ['darkgreen', 'green', 'orange', 'yellow'])#, x_limit = 30, t_bin = 60, func = 'max', title = '', grids = False, t_column = 't', figsize = (0,0)):\n",
    "f\n"
   ]
  },
  {
   "cell_type": "code",
   "execution_count": null,
   "id": "cab1054b",
   "metadata": {},
   "outputs": [],
   "source": [
    "# pdfs = pdfs[pdfs['has_interacted'] == 1]\n",
    "pdfs.plot_habituation(plot_type = 'number', x_limit = 20, title = 'what', facet_col='machine_name');"
   ]
  },
  {
   "cell_type": "code",
   "execution_count": null,
   "id": "c9460f12",
   "metadata": {},
   "outputs": [],
   "source": [
    "f, x = pdfs.plot_response_quantify(facet_col='machine_name')"
   ]
  },
  {
   "cell_type": "code",
   "execution_count": null,
   "id": "eaf500cb",
   "metadata": {},
   "outputs": [],
   "source": [
    "f, x = pdfp.plot_response_quantify(facet_col='machine_name', title = 'what')\n",
    "f.show()"
   ]
  },
  {
   "cell_type": "code",
   "execution_count": null,
   "id": "96458071",
   "metadata": {},
   "outputs": [],
   "source": [
    "f, x = pdfs.plot_response_quantify()"
   ]
  },
  {
   "cell_type": "code",
   "execution_count": null,
   "id": "1b90ccd1",
   "metadata": {},
   "outputs": [],
   "source": [
    "f, x = pdfp.plot_response_quantify()\n",
    "f.show()"
   ]
  },
  {
   "cell_type": "code",
   "execution_count": null,
   "id": "e75cd816",
   "metadata": {},
   "outputs": [],
   "source": [
    "from ethoscopy.misc.get_HMM import get_HMM\n",
    "h = get_HMM('M')"
   ]
  },
  {
   "cell_type": "code",
   "execution_count": null,
   "id": "ec0f08a9",
   "metadata": {},
   "outputs": [],
   "source": [
    "pdfs.plot_hmm_response(df, hmm = h, facet_col='machine_name')"
   ]
  },
  {
   "cell_type": "code",
   "execution_count": null,
   "id": "d7101aa3",
   "metadata": {},
   "outputs": [],
   "source": [
    "# df1 = pd.read_pickle('/home/lab/Desktop/test_ago_hmm/pickles/air_1_data_c.pkl')\n",
    "# df2 = pd.read_pickle('/home/lab/Desktop/test_ago_hmm/pickles/air_2_data_c.pkl')\n",
    "# pdf1 = pd.read_pickle('/home/lab/Desktop/test_ago_hmm/pickles/air_1_puff_c.pkl')\n",
    "# pdf2 = pd.read_pickle('/home/lab/Desktop/test_ago_hmm/pickles/air_2_puff_c.pkl')\n",
    "# df = etho.concat(df1, df2)\n",
    "# pdf = etho.concat(pdf1, pdf2)\n",
    "# df = etho.behavpy(df, df.meta, check = True, canvas = 'seaborn')\n",
    "# pdfs = etho.behavpy(pdf, pdf.meta, check = True, canvas = 'seaborn')\n",
    "# pdfp = etho.behavpy(pdf, pdf.meta, check = True, canvas = 'plotly')"
   ]
  },
  {
   "cell_type": "code",
   "execution_count": null,
   "id": "b2bc88c3",
   "metadata": {},
   "outputs": [],
   "source": [
    "# tdf = df.xmv('date', '2024-03-14')\n",
    "# tpdf = pdf.xmv('date', '2024-03-14')"
   ]
  },
  {
   "cell_type": "code",
   "execution_count": null,
   "id": "a2a69ce8",
   "metadata": {},
   "outputs": [],
   "source": []
  },
  {
   "cell_type": "code",
   "execution_count": null,
   "id": "ddbf7426",
   "metadata": {},
   "outputs": [],
   "source": []
  },
  {
   "cell_type": "code",
   "execution_count": null,
   "id": "4a2d6076",
   "metadata": {},
   "outputs": [],
   "source": [
    "pdfs = pdfs[pdfs['has_interacted'] == 1]\n",
    "pdfs.plot_habituation(plot_type = 'number', x_limit = 20, title = 'what', facet_col='machine_name');"
   ]
  },
  {
   "cell_type": "code",
   "execution_count": null,
   "id": "54d4f9b1",
   "metadata": {},
   "outputs": [],
   "source": [
    "x = pdfp.plot_habituation(plot_type = 'number', x_limit = 20, title = 'what', facet_col='machine_name');\n",
    "x.show()"
   ]
  },
  {
   "cell_type": "code",
   "execution_count": null,
   "id": "b36f4c06",
   "metadata": {},
   "outputs": [],
   "source": [
    "for i"
   ]
  },
  {
   "cell_type": "code",
   "execution_count": null,
   "id": "ca27dd68",
   "metadata": {},
   "outputs": [],
   "source": [
    "pdfs.plot_response_overtime(t_bin_hours=1, wrapped = True, facet_col = 'type');"
   ]
  },
  {
   "cell_type": "code",
   "execution_count": null,
   "id": "f35ee519",
   "metadata": {},
   "outputs": [],
   "source": [
    "# fig = pdfp.plot_response_overtime(t_bin_hours=1, wrapped = True, facet_col = 'type')\n",
    "# fig.show()"
   ]
  },
  {
   "cell_type": "code",
   "execution_count": null,
   "id": "5ebc85af",
   "metadata": {},
   "outputs": [],
   "source": [
    "# tpdf = tpdf[tpdf['has_interacted'] == 1]"
   ]
  },
  {
   "cell_type": "code",
   "execution_count": null,
   "id": "818c506f",
   "metadata": {},
   "outputs": [],
   "source": [
    "# x = pdfs.plot_response_over_activity(df, activity = 'inactive', variable = 'moving', facet_col = 'machine_name', facet_arg = None, facet_labels = None, title = '', t_column = 't', grids = False);"
   ]
  },
  {
   "cell_type": "code",
   "execution_count": null,
   "id": "562b07fd",
   "metadata": {},
   "outputs": [],
   "source": [
    "x = pdfp.plot_response_over_activity(df, activity = 'inactive', variable = 'moving', facet_col = 'machine_name', facet_arg = None, facet_labels = None, title = '', t_column = 't', grids = False)\n",
    "x.show()"
   ]
  },
  {
   "cell_type": "code",
   "execution_count": null,
   "id": "24d072e6",
   "metadata": {},
   "outputs": [],
   "source": [
    "# tdf = etho.behavpy(d, m, check = True, canvas = 'plotly')\n",
    "# tdf.meta['exp'] = tdf.meta['odour'] + '-' + tdf.meta['rest']\n",
    "# fig, stats_s = tdf.plot_response_quantify(title = '')\n",
    "# fig.show()"
   ]
  },
  {
   "cell_type": "code",
   "execution_count": null,
   "id": "78051a5b",
   "metadata": {},
   "outputs": [],
   "source": [
    "# fig, stats_s = tdf.plot_quantify('x', facet_col = 'exp')\n",
    "# fig.show()"
   ]
  },
  {
   "cell_type": "code",
   "execution_count": null,
   "id": "ceadf7bb",
   "metadata": {},
   "outputs": [],
   "source": [
    "# fig, stats_s = df.plot_quantify('x', facet_col = 'exp')"
   ]
  },
  {
   "cell_type": "code",
   "execution_count": null,
   "id": "c9140df7",
   "metadata": {},
   "outputs": [],
   "source": [
    "ndf = df[df['has_interacted'] == 1]"
   ]
  },
  {
   "cell_type": "code",
   "execution_count": null,
   "id": "f2ae389a",
   "metadata": {},
   "outputs": [],
   "source": [
    "fig, stats_s = df.plot_response_quantify(title = '')\n",
    "# fig.show()"
   ]
  },
  {
   "cell_type": "code",
   "execution_count": null,
   "id": "33c97e63",
   "metadata": {},
   "outputs": [],
   "source": [
    "['t', *['t', 't']]"
   ]
  },
  {
   "cell_type": "code",
   "execution_count": null,
   "id": "546860de",
   "metadata": {},
   "outputs": [],
   "source": [
    "fig, stats_s = df.plot_response_quantify(facet_col = 'exp', facet_arg = fargs, title = '')"
   ]
  },
  {
   "cell_type": "code",
   "execution_count": null,
   "id": "29b8a32e",
   "metadata": {},
   "outputs": [],
   "source": [
    "for i"
   ]
  },
  {
   "cell_type": "code",
   "execution_count": null,
   "id": "d6d9d6b2",
   "metadata": {},
   "outputs": [],
   "source": [
    "stats_s"
   ]
  },
  {
   "cell_type": "code",
   "execution_count": null,
   "id": "7d7e8867",
   "metadata": {},
   "outputs": [],
   "source": [
    "stats_s[stats_s['exp'] == 'air-first day'][stats_s[stats_s['exp'] == 'air-first day']['has_interacted'] == 'True Stimulus']"
   ]
  },
  {
   "cell_type": "code",
   "execution_count": null,
   "id": "1d24619a",
   "metadata": {},
   "outputs": [],
   "source": [
    "df = etho.behavpy(d, m, check = True, canvas = 'plotly')\n",
    "df.meta['exp'] = df.meta['odour'] + '-' + df.meta['rest']\n",
    "fig, stats_p = df.plot_response_quantify(facet_col = 'exp', facet_arg = fargs, title = '')\n",
    "fig.show()"
   ]
  }
 ],
 "metadata": {
  "kernelspec": {
   "display_name": ".venv",
   "language": "python",
   "name": "python3"
  },
  "language_info": {
   "codemirror_mode": {
    "name": "ipython",
    "version": 3
   },
   "file_extension": ".py",
   "mimetype": "text/x-python",
   "name": "python",
   "nbconvert_exporter": "python",
   "pygments_lexer": "ipython3",
   "version": "3.12.7"
  },
  "vscode": {
   "interpreter": {
    "hash": "64774a8dfb1bd896c6efea99b1b4772a6458a05741a63e1cad6fc82c0bcee224"
   }
  }
 },
 "nbformat": 4,
 "nbformat_minor": 5
}
