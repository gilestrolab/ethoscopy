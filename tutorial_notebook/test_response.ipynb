{
 "cells": [
  {
   "attachments": {},
   "cell_type": "markdown",
   "id": "5285f95c-d7d5-4317-8c61-5bbe68cfe75a",
   "metadata": {},
   "source": [
    "## Tutorial number 1\n",
    "### Working with ethoscope data\n",
    "The tutorial will guide you through loading data, visualisation and plotting using the common sleep functions"
   ]
  },
  {
   "attachments": {},
   "cell_type": "markdown",
   "id": "ef5052a3-fb5f-4e52-98c6-14d14ab86265",
   "metadata": {},
   "source": [
    "## 1. Load the dummy dataset"
   ]
  },
  {
   "cell_type": "code",
   "execution_count": 1,
   "id": "40f284e5-2ef0-483b-bff5-670f3b13eabf",
   "metadata": {},
   "outputs": [],
   "source": [
    "import pandas as pd\n",
    "import numpy as np \n",
    "\n",
    "import ethoscopy as etho"
   ]
  },
  {
   "cell_type": "code",
   "execution_count": 2,
   "id": "b979d172-8b6b-4dd2-92a7-c3a7f4ac6993",
   "metadata": {},
   "outputs": [
    {
     "data": {
      "text/plain": [
       "'2.0.dev0'"
      ]
     },
     "execution_count": 2,
     "metadata": {},
     "output_type": "execute_result"
    }
   ],
   "source": [
    "# This tutorial requires version 1.1.7 or greater\n",
    "etho.__version__"
   ]
  },
  {
   "cell_type": "code",
   "execution_count": 3,
   "id": "20cb03a2-4b54-4cde-a22c-05561c58484f",
   "metadata": {},
   "outputs": [],
   "source": [
    "# d = pd.read_pickle('/home/lab/Desktop/ethoscopy/tutorial_notebook/response_d.pkl')\n",
    "# m = pd.read_pickle('/home/lab/Desktop/ethoscopy/tutorial_notebook/response_m.pkl')\n",
    "# df = etho.behavpy(d, m, check = True, canvas = 'seaborn')\n",
    "# df.meta['exp'] = df.meta['odour'] + '-' + df.meta['rest']\n",
    "# fargs =  ['air-first day', 'air-second day']#, 'air-third day', 'air-fourth day', 'air-fifth day', '5% AA-first day', '5% AA-second day', '5% AA-third day', '5% AA-fourth day', '5% AA-fifth day']\n",
    "# df.canvas"
   ]
  },
  {
   "cell_type": "code",
   "execution_count": 4,
   "id": "fdab9ceb",
   "metadata": {},
   "outputs": [],
   "source": [
    "df = pd.read_pickle('/home/lab/Desktop/test_ago_hmm/pickles/acv_response_data.pkl')\n",
    "pdf = pd.read_pickle('/home/lab/Desktop/test_ago_hmm/pickles/acv_response_puff.pkl')\n",
    "df = etho.behavpy(df, df.meta)\n",
    "pdfs = etho.behavpy(pdf, pdf.meta, check = True, canvas = 'seaborn')\n",
    "pdfp = etho.behavpy(pdf, pdf.meta, check = True, canvas = 'plotly')"
   ]
  },
  {
   "cell_type": "code",
   "execution_count": 6,
   "id": "96458071",
   "metadata": {},
   "outputs": [
    {
     "ename": "TypeError",
     "evalue": "behavpy_draw._internal_plot_quantify() takes 4 positional arguments but 5 were given",
     "output_type": "error",
     "traceback": [
      "\u001b[0;31m---------------------------------------------------------------------------\u001b[0m",
      "\u001b[0;31mTypeError\u001b[0m                                 Traceback (most recent call last)",
      "Cell \u001b[0;32mIn[6], line 1\u001b[0m\n\u001b[0;32m----> 1\u001b[0m \u001b[43mpdfs\u001b[49m\u001b[38;5;241;43m.\u001b[39;49m\u001b[43mplot_response_quantify\u001b[49m\u001b[43m(\u001b[49m\u001b[43mfacet_col\u001b[49m\u001b[38;5;241;43m=\u001b[39;49m\u001b[38;5;124;43m'\u001b[39;49m\u001b[38;5;124;43mmachine_name\u001b[39;49m\u001b[38;5;124;43m'\u001b[39;49m\u001b[43m)\u001b[49m\n",
      "File \u001b[0;32m~/Desktop/ethoscopy/src/ethoscopy/behavpy_seaborn.py:813\u001b[0m, in \u001b[0;36mbehavpy_seaborn.plot_response_quantify\u001b[0;34m(self, response_col, facet_col, facet_arg, facet_labels, title, grids, figsize)\u001b[0m\n\u001b[1;32m    793\u001b[0m \u001b[38;5;28;01mdef\u001b[39;00m \u001b[38;5;21mplot_response_quantify\u001b[39m(\u001b[38;5;28mself\u001b[39m, response_col:\u001b[38;5;28mstr\u001b[39m \u001b[38;5;241m=\u001b[39m \u001b[38;5;124m'\u001b[39m\u001b[38;5;124mhas_responded\u001b[39m\u001b[38;5;124m'\u001b[39m, facet_col:\u001b[38;5;28;01mNone\u001b[39;00m\u001b[38;5;241m|\u001b[39m\u001b[38;5;28mstr\u001b[39m \u001b[38;5;241m=\u001b[39m \u001b[38;5;28;01mNone\u001b[39;00m, facet_arg:\u001b[38;5;28;01mNone\u001b[39;00m\u001b[38;5;241m|\u001b[39m\u001b[38;5;28mstr\u001b[39m \u001b[38;5;241m=\u001b[39m \u001b[38;5;28;01mNone\u001b[39;00m, facet_labels:\u001b[38;5;28;01mNone\u001b[39;00m\u001b[38;5;241m|\u001b[39m\u001b[38;5;28mstr\u001b[39m \u001b[38;5;241m=\u001b[39m \u001b[38;5;28;01mNone\u001b[39;00m, title:\u001b[38;5;28mstr\u001b[39m \u001b[38;5;241m=\u001b[39m \u001b[38;5;124m'\u001b[39m\u001b[38;5;124m'\u001b[39m, grids:\u001b[38;5;28mbool\u001b[39m \u001b[38;5;241m=\u001b[39m \u001b[38;5;28;01mFalse\u001b[39;00m, figsize:\u001b[38;5;28mtuple\u001b[39m \u001b[38;5;241m=\u001b[39m (\u001b[38;5;241m0\u001b[39m,\u001b[38;5;241m0\u001b[39m)):\n\u001b[1;32m    794\u001b[0m \u001b[38;5;250m    \u001b[39m\u001b[38;5;124;03m\"\"\" \u001b[39;00m\n\u001b[1;32m    795\u001b[0m \u001b[38;5;124;03m    A plotting function for AGO or mAGO datasets that have been loaded with the analysing function stimulus_response.\u001b[39;00m\n\u001b[1;32m    796\u001b[0m \u001b[38;5;124;03m    A augmented version of plot_quanitfy that finds the average response to a stimulus and the average response\u001b[39;00m\n\u001b[0;32m   (...)\u001b[0m\n\u001b[1;32m    810\u001b[0m \u001b[38;5;124;03m        data (pandas.DataFrame): DataFrame with grouped data based on the input parameters.\u001b[39;00m\n\u001b[1;32m    811\u001b[0m \u001b[38;5;124;03m    \"\"\"\u001b[39;00m\n\u001b[0;32m--> 813\u001b[0m     grouped_data, plot_column, h_order, palette_dict \u001b[38;5;241m=\u001b[39m  \u001b[38;5;28;43mself\u001b[39;49m\u001b[38;5;241;43m.\u001b[39;49m\u001b[43m_internal_plot_quantify\u001b[49m\u001b[43m(\u001b[49m\u001b[43mresponse_col\u001b[49m\u001b[43m,\u001b[49m\u001b[43m \u001b[49m\u001b[43mfacet_col\u001b[49m\u001b[43m,\u001b[49m\u001b[43m \u001b[49m\u001b[43mfacet_arg\u001b[49m\u001b[43m,\u001b[49m\u001b[43m \u001b[49m\u001b[43mfacet_labels\u001b[49m\u001b[43m)\u001b[49m \n\u001b[1;32m    815\u001b[0m     \u001b[38;5;66;03m# (0,0) means automatic size\u001b[39;00m\n\u001b[1;32m    816\u001b[0m     \u001b[38;5;28;01mif\u001b[39;00m figsize \u001b[38;5;241m==\u001b[39m (\u001b[38;5;241m0\u001b[39m,\u001b[38;5;241m0\u001b[39m):\n",
      "\u001b[0;31mTypeError\u001b[0m: behavpy_draw._internal_plot_quantify() takes 4 positional arguments but 5 were given"
     ]
    }
   ],
   "source": [
    "pdfs.plot_response_quantify(facet_col='machine_name')"
   ]
  },
  {
   "cell_type": "code",
   "execution_count": 5,
   "id": "d7101aa3",
   "metadata": {},
   "outputs": [],
   "source": [
    "# df1 = pd.read_pickle('/home/lab/Desktop/test_ago_hmm/pickles/air_1_data_c.pkl')\n",
    "# df2 = pd.read_pickle('/home/lab/Desktop/test_ago_hmm/pickles/air_2_data_c.pkl')\n",
    "# pdf1 = pd.read_pickle('/home/lab/Desktop/test_ago_hmm/pickles/air_1_puff_c.pkl')\n",
    "# pdf2 = pd.read_pickle('/home/lab/Desktop/test_ago_hmm/pickles/air_2_puff_c.pkl')\n",
    "# df = etho.concat(df1, df2)\n",
    "# pdf = etho.concat(pdf1, pdf2)\n",
    "# df = etho.behavpy(df, df.meta, check = True, canvas = 'seaborn')\n",
    "# pdfs = etho.behavpy(pdf, pdf.meta, check = True, canvas = 'seaborn')\n",
    "# pdfp = etho.behavpy(pdf, pdf.meta, check = True, canvas = 'plotly')"
   ]
  },
  {
   "cell_type": "code",
   "execution_count": 6,
   "id": "b2bc88c3",
   "metadata": {},
   "outputs": [],
   "source": [
    "# tdf = df.xmv('date', '2024-03-14')\n",
    "# tpdf = pdf.xmv('date', '2024-03-14')"
   ]
  },
  {
   "cell_type": "code",
   "execution_count": 7,
   "id": "a2a69ce8",
   "metadata": {},
   "outputs": [],
   "source": [
    "pdfs = pdfs[pdfs['has_interacted'] == 1]"
   ]
  },
  {
   "cell_type": "code",
   "execution_count": 8,
   "id": "4a2d6076",
   "metadata": {},
   "outputs": [
    {
     "data": {
      "image/png": "[encoded data removed]",
      "text/plain": [
       "<Figure size 1600x800 with 2 Axes>"
      ]
     },
     "metadata": {},
     "output_type": "display_data"
    }
   ],
   "source": [
    "pdfs.plot_habituation(plot_type = 'time', x_limit = 20);#, title = 'what', facet_col='machine_name');"
   ]
  },
  {
   "cell_type": "code",
   "execution_count": 9,
   "id": "54d4f9b1",
   "metadata": {},
   "outputs": [
    {
     "data": {
      "application/vnd.plotly.v1+json": {
       "config": {
        "plotlyServerURL": "https://plot.ly"
       },
       "data": [
        {
         "legendgroup": "ETHOSCOPE_273-Spon. Mov.",
         "line": {
          "shape": "spline",
          "width": 0
         },
         "marker": {
          "color": "#444"
         },
         "mode": "lines",
         "showlegend": false,
         "type": "scatter",
         "x": [
          0,
          1,
          2,
          3,
          4,
          5,
          6,
          7,
          8,
          9,
          10,
          11,
          12,
          13,
          14,
          15,
          16,
          17,
          18,
          19,
          20
         ],
         "y": [
          0.1902599446490249,
          0.08566178615620756,
          0.08333823615076512,
          0.06419648220225269,
          0.04099957310565052,
          0.049551538127286514,
          0.048677615962685175,
          0.04510654652102823,
          0.04116573558020439,
          0.04266854663272277,
          0.05142500422721906,
          0.06199258497534951,
          0.042683697601258425,
          0.05614287803575866,
          0.0597126414990919,
          0.07849351170194735,
          0.06714693382494258,
          0.06601651919847787,
          0.04415463525767876,
          0.039123849315637706,
          0.04844704032449245
         ]
        },
        {
         "fill": "tonexty",
         "legendgroup": "ETHOSCOPE_273-Spon. Mov.",
         "line": {
          "color": "grey",
          "shape": "spline"
         },
         "mode": "lines",
         "name": "ETHOSCOPE_273-Spon. Mov.",
         "type": "scatter",
         "x": [
          0,
          1,
          2,
          3,
          4,
          5,
          6,
          7,
          8,
          9,
          10,
          11,
          12,
          13,
          14,
          15,
          16,
          17,
          18,
          19,
          20
         ],
         "y": [
          0.2650694733721814,
          0.12542183501967852,
          0.11198535482044439,
          0.09514799846792661,
          0.05546209300870782,
          0.0886286626990175,
          0.08764491716220357,
          0.07110587163922227,
          0.05029961335535048,
          0.05275815425069488,
          0.06354878176028893,
          0.08770330109905057,
          0.06450305103904569,
          0.0926953064462806,
          0.08473124989264408,
          0.11769714818595875,
          0.09624206862436363,
          0.09186820747074058,
          0.0650534380775749,
          0.051476610772624415,
          0.07262683619652215
         ]
        },
        {
         "fill": "tonexty",
         "legendgroup": "ETHOSCOPE_273-Spon. Mov.",
         "line": {
          "shape": "spline",
          "width": 0
         },
         "marker": {
          "color": "grey"
         },
         "mode": "lines",
         "showlegend": false,
         "type": "scatter",
         "x": [
          0,
          1,
          2,
          3,
          4,
          5,
          6,
          7,
          8,
          9,
          10,
          11,
          12,
          13,
          14,
          15,
          16,
          17,
          18,
          19,
          20
         ],
         "y": [
          0.3394242727184849,
          0.17598867472788576,
          0.14570319241554358,
          0.1378778377538556,
          0.07191096955947059,
          0.1362324740793241,
          0.1377773002732602,
          0.1051523007489199,
          0.060722756310209354,
          0.06340671729187582,
          0.07701257247015847,
          0.12443266845200586,
          0.09751479187157552,
          0.14350600081365517,
          0.12009104829722267,
          0.16348581838347437,
          0.13216781762022295,
          0.1221596498915691,
          0.09020599353583508,
          0.06661235192155551,
          0.10730108895841105
         ]
        },
        {
         "legendgroup": "ETHOSCOPE_273-True Stimulus",
         "line": {
          "shape": "spline",
          "width": 0
         },
         "marker": {
          "color": "#444"
         },
         "mode": "lines",
         "showlegend": false,
         "type": "scatter",
         "x": [
          0,
          1,
          2,
          3,
          4,
          5,
          6,
          7,
          8,
          9,
          10,
          11,
          12,
          13,
          14,
          15,
          16,
          17,
          18,
          19,
          20
         ],
         "y": [
          0.34244959244959244,
          0.2564596861471861,
          0.32679675216988646,
          0.2531045751633987,
          0.2604056604056604,
          0.20643262749427135,
          0.19176282576766057,
          0.23166046282484642,
          0.21684685177835863,
          0.2215372907153729,
          0.1929452690166976,
          0.2738129701839379,
          0.3420432394116604,
          0.20886157789142865,
          0.16049121766033528,
          0.1536996411996412,
          0.13748520503772602,
          0.14840025958447012,
          0.22616557616557623,
          0.17232773095449147,
          0.22442182883359355
         ]
        },
        {
         "fill": "tonexty",
         "legendgroup": "ETHOSCOPE_273-True Stimulus",
         "line": {
          "color": "rgb(136, 204, 238)",
          "shape": "spline"
         },
         "mode": "lines",
         "name": "ETHOSCOPE_273-True Stimulus",
         "type": "scatter",
         "x": [
          0,
          1,
          2,
          3,
          4,
          5,
          6,
          7,
          8,
          9,
          10,
          11,
          12,
          13,
          14,
          15,
          16,
          17,
          18,
          19,
          20
         ],
         "y": [
          0.44002037752037754,
          0.34544270833333335,
          0.42420494099598577,
          0.33816461316461316,
          0.3275844650844651,
          0.2636467984070724,
          0.2484225283177741,
          0.30059856429719445,
          0.2861417121691094,
          0.2849954839680867,
          0.26573402787688505,
          0.3661190959578057,
          0.4477608534110082,
          0.28688662084184474,
          0.22659572181631005,
          0.2153107028107028,
          0.1951391384059451,
          0.2026315748903468,
          0.29608111285742866,
          0.2295520402914769,
          0.29230061141825847
         ]
        },
        {
         "fill": "tonexty",
         "legendgroup": "ETHOSCOPE_273-True Stimulus",
         "line": {
          "shape": "spline",
          "width": 0
         },
         "marker": {
          "color": "rgb(136, 204, 238)"
         },
         "mode": "lines",
         "showlegend": false,
         "type": "scatter",
         "x": [
          0,
          1,
          2,
          3,
          4,
          5,
          6,
          7,
          8,
          9,
          10,
          11,
          12,
          13,
          14,
          15,
          16,
          17,
          18,
          19,
          20
         ],
         "y": [
          0.5354997854997855,
          0.43781791125541125,
          0.5176138538078837,
          0.4291173287496816,
          0.4100174225174225,
          0.3264800268224926,
          0.3127640870187204,
          0.3715850359685976,
          0.3546317457276361,
          0.35489487681268506,
          0.3412528344671202,
          0.45446108550947256,
          0.5656635647347722,
          0.36163330864823406,
          0.29659356166709105,
          0.28452658452658447,
          0.2610318369772151,
          0.2652412260416646,
          0.3754595254595255,
          0.2935263289136528,
          0.36898303515950576
         ]
        },
        {
         "legendgroup": "ETHOSCOPE_273-True Stimulus",
         "line": {
          "color": "rgb(136, 204, 238)",
          "dash": "longdashdot",
          "shape": "spline"
         },
         "mode": "lines",
         "name": "ETHOSCOPE_273-True Stimulus count",
         "type": "scatter",
         "x": [
          0,
          1,
          2,
          3,
          4,
          5,
          6,
          7,
          8,
          9,
          10,
          11,
          12,
          13,
          14,
          15,
          16,
          17,
          18,
          19,
          20
         ],
         "xaxis": "x",
         "y": [
          348,
          364,
          466,
          492,
          625,
          621,
          683,
          642,
          597,
          647,
          533,
          348,
          316,
          539,
          727,
          690,
          671,
          690,
          633,
          689,
          678
         ],
         "yaxis": "y2"
        },
        {
         "legendgroup": "ETHOSCOPE_202-Spon. Mov.",
         "line": {
          "shape": "spline",
          "width": 0
         },
         "marker": {
          "color": "#444"
         },
         "mode": "lines",
         "showlegend": false,
         "type": "scatter",
         "x": [
          0,
          1,
          2,
          3,
          4,
          5,
          6,
          7,
          8,
          9,
          10,
          11,
          12,
          13,
          14,
          15,
          16,
          17,
          18,
          19,
          20
         ],
         "y": [
          0.057939423760319284,
          0.026584563914908415,
          0.027470548607759066,
          0.04578401443141608,
          0.044043258328972615,
          0.05580288795680215,
          0.07330239993879563,
          0.12011855152632296,
          0.030247261065411184,
          0.037751662650039805,
          0.031295512264701716,
          0.03320749800737706,
          0.06018545805814424,
          0.03169690937478283,
          0.038725375234521575,
          0.04236852224087236,
          0.03578020662323135,
          0.022088167194997267,
          0.04553432935759997,
          0.05200540381799844,
          0.06336423133299077
         ]
        },
        {
         "fill": "tonexty",
         "legendgroup": "ETHOSCOPE_202-Spon. Mov.",
         "line": {
          "color": "grey",
          "shape": "spline"
         },
         "mode": "lines",
         "name": "ETHOSCOPE_202-Spon. Mov.",
         "type": "scatter",
         "x": [
          0,
          1,
          2,
          3,
          4,
          5,
          6,
          7,
          8,
          9,
          10,
          11,
          12,
          13,
          14,
          15,
          16,
          17,
          18,
          19,
          20
         ],
         "y": [
          0.10943716325805879,
          0.07026553165021884,
          0.05309008504795756,
          0.17664604867461414,
          0.16545554578870736,
          0.14189772983171922,
          0.16258393551193867,
          0.3053545927436726,
          0.07002161884196353,
          0.09984828519649777,
          0.08862249096712947,
          0.09913259359399121,
          0.13184504530269442,
          0.062358357860305386,
          0.06172415810966107,
          0.06278148446151859,
          0.05608338458032832,
          0.04422585090720923,
          0.07737556090936284,
          0.2023683741809688,
          0.14211614587428528
         ]
        },
        {
         "fill": "tonexty",
         "legendgroup": "ETHOSCOPE_202-Spon. Mov.",
         "line": {
          "shape": "spline",
          "width": 0
         },
         "marker": {
          "color": "grey"
         },
         "mode": "lines",
         "showlegend": false,
         "type": "scatter",
         "x": [
          0,
          1,
          2,
          3,
          4,
          5,
          6,
          7,
          8,
          9,
          10,
          11,
          12,
          13,
          14,
          15,
          16,
          17,
          18,
          19,
          20
         ],
         "y": [
          0.17280256080256082,
          0.13368254229049858,
          0.08068696468656869,
          0.39266438386217106,
          0.36656593406593413,
          0.28592724355108257,
          0.27282402269083733,
          0.482859552509312,
          0.11441305150251865,
          0.1978780823245078,
          0.1700143222149988,
          0.1998405563655426,
          0.21725140278742644,
          0.09562650390537102,
          0.0844052481499258,
          0.08477727879597038,
          0.08257726427944097,
          0.06842104463630491,
          0.11203641037110508,
          0.4299152411773771,
          0.24566545884408814
         ]
        },
        {
         "legendgroup": "ETHOSCOPE_202-True Stimulus",
         "line": {
          "shape": "spline",
          "width": 0
         },
         "marker": {
          "color": "#444"
         },
         "mode": "lines",
         "showlegend": false,
         "type": "scatter",
         "x": [
          0,
          1,
          2,
          3,
          4,
          5,
          6,
          7,
          8,
          9,
          10,
          11,
          12,
          13,
          14,
          15,
          16,
          17,
          18,
          19,
          20
         ],
         "y": [
          0.2192857142857143,
          0.2220017636684303,
          0.22692307692307695,
          0.14583333333333334,
          0.06607142857142856,
          0.02857142857142857,
          0.10437710437710437,
          0.1253052503052503,
          0.12121212121212119,
          0.22456247456247455,
          0.1111111111111111,
          0.19083231583231586,
          0.1001082251082251,
          0.040740740740740744,
          0.02442002442002442,
          0.24545454545454545,
          0.04861111111111111,
          0.0668748892433103,
          0.06,
          0.08538461538461536,
          0.13416666666666666
         ]
        },
        {
         "fill": "tonexty",
         "legendgroup": "ETHOSCOPE_202-True Stimulus",
         "line": {
          "color": "rgb(204, 102, 119)",
          "shape": "spline"
         },
         "mode": "lines",
         "name": "ETHOSCOPE_202-True Stimulus",
         "type": "scatter",
         "x": [
          0,
          1,
          2,
          3,
          4,
          5,
          6,
          7,
          8,
          9,
          10,
          11,
          12,
          13,
          14,
          15,
          16,
          17,
          18,
          19,
          20
         ],
         "y": [
          0.4404761904761905,
          0.3809964726631393,
          0.4254807692307692,
          0.44431818181818183,
          0.1552922077922078,
          0.15957792207792207,
          0.23724423724423727,
          0.29803252303252303,
          0.3426136363636364,
          0.3314130314130314,
          0.2435185185185185,
          0.3740944240944241,
          0.2688041125541126,
          0.12638888888888888,
          0.09584859584859586,
          0.5352272727272727,
          0.24722222222222223,
          0.14339004075846182,
          0.19285714285714287,
          0.22149572649572652,
          0.2517063492063492
         ]
        },
        {
         "fill": "tonexty",
         "legendgroup": "ETHOSCOPE_202-True Stimulus",
         "line": {
          "shape": "spline",
          "width": 0
         },
         "marker": {
          "color": "rgb(204, 102, 119)"
         },
         "mode": "lines",
         "showlegend": false,
         "type": "scatter",
         "x": [
          0,
          1,
          2,
          3,
          4,
          5,
          6,
          7,
          8,
          9,
          10,
          11,
          12,
          13,
          14,
          15,
          16,
          17,
          18,
          19,
          20
         ],
         "y": [
          0.6738095238095237,
          0.5835978835978836,
          0.610897435897436,
          0.7916666666666666,
          0.24659090909090908,
          0.30730519480519486,
          0.40326340326340326,
          0.5060606060606061,
          0.60625,
          0.4892736892736893,
          0.38888888888888884,
          0.5947496947496947,
          0.49702380952380953,
          0.22685185185185183,
          0.1873015873015873,
          0.8125,
          0.5055555555555555,
          0.22849105085947194,
          0.3357142857142857,
          0.3914957264957265,
          0.3853968253968254
         ]
        },
        {
         "legendgroup": "ETHOSCOPE_202-True Stimulus",
         "line": {
          "color": "rgb(204, 102, 119)",
          "dash": "longdashdot",
          "shape": "spline"
         },
         "mode": "lines",
         "name": "ETHOSCOPE_202-True Stimulus count",
         "type": "scatter",
         "x": [
          0,
          1,
          2,
          3,
          4,
          5,
          6,
          7,
          8,
          9,
          10,
          11,
          12,
          13,
          14,
          15,
          16,
          17,
          18,
          19,
          20
         ],
         "xaxis": "x",
         "y": [
          56,
          54,
          49,
          39,
          77,
          63,
          98,
          99,
          79,
          77,
          74,
          87,
          61,
          86,
          93,
          47,
          64,
          76,
          74,
          88,
          71
         ],
         "yaxis": "y2"
        },
        {
         "legendgroup": "ETHOSCOPE_196-Spon. Mov.",
         "line": {
          "shape": "spline",
          "width": 0
         },
         "marker": {
          "color": "#444"
         },
         "mode": "lines",
         "showlegend": false,
         "type": "scatter",
         "x": [
          0,
          1,
          2,
          3,
          4,
          5,
          6,
          7,
          8,
          9,
          10,
          11,
          12,
          13,
          14,
          15,
          16,
          17,
          18,
          19,
          20
         ],
         "y": [
          0.06349472086641096,
          0.037706551373363026,
          0.04492847351352203,
          0.03805652300822961,
          0.03445402892562274,
          0.03356436173042195,
          0.06119043683763041,
          0.05192444124015141,
          0.031007257160452415,
          0.027178351114291042,
          0.03074430461486773,
          0.021732523141374808,
          0.032464665035895575,
          0.03449193560102896,
          0.0734945925616923,
          0.04310131389078757,
          0.03370464291089431,
          0.03181417692347909,
          0.024034797408137094,
          0.03062480844591666,
          0.03932395643459419
         ]
        },
        {
         "fill": "tonexty",
         "legendgroup": "ETHOSCOPE_196-Spon. Mov.",
         "line": {
          "color": "grey",
          "shape": "spline"
         },
         "mode": "lines",
         "name": "ETHOSCOPE_196-Spon. Mov.",
         "type": "scatter",
         "x": [
          0,
          1,
          2,
          3,
          4,
          5,
          6,
          7,
          8,
          9,
          10,
          11,
          12,
          13,
          14,
          15,
          16,
          17,
          18,
          19,
          20
         ],
         "y": [
          0.13902204378503824,
          0.05354630952047806,
          0.07302393399071323,
          0.05778588410322859,
          0.049252990449410707,
          0.06235022424937039,
          0.11604601414434768,
          0.10710343676925635,
          0.04984633901369125,
          0.044392465016120694,
          0.0585526267221443,
          0.03777419956289384,
          0.056803953616773165,
          0.05908902458565081,
          0.15096496630597867,
          0.08498640062882948,
          0.0702568102354148,
          0.06054653932248864,
          0.051518113848185616,
          0.06462853075061449,
          0.0850252245191255
         ]
        },
        {
         "fill": "tonexty",
         "legendgroup": "ETHOSCOPE_196-Spon. Mov.",
         "line": {
          "shape": "spline",
          "width": 0
         },
         "marker": {
          "color": "grey"
         },
         "mode": "lines",
         "showlegend": false,
         "type": "scatter",
         "x": [
          0,
          1,
          2,
          3,
          4,
          5,
          6,
          7,
          8,
          9,
          10,
          11,
          12,
          13,
          14,
          15,
          16,
          17,
          18,
          19,
          20
         ],
         "y": [
          0.237837589141937,
          0.0710982549538749,
          0.11038053781597156,
          0.08135876462822118,
          0.06573832581179145,
          0.09527153867550282,
          0.17738459465057627,
          0.1737135256687609,
          0.07235244408806167,
          0.0649692728528582,
          0.09746254871976659,
          0.059413412959563656,
          0.08956565920651031,
          0.09232319516118963,
          0.2615720806984184,
          0.14026331785730278,
          0.11532640245319732,
          0.10076582694857095,
          0.09268539178774073,
          0.10627518940916889,
          0.1403145545349206
         ]
        },
        {
         "legendgroup": "ETHOSCOPE_196-True Stimulus",
         "line": {
          "shape": "spline",
          "width": 0
         },
         "marker": {
          "color": "#444"
         },
         "mode": "lines",
         "showlegend": false,
         "type": "scatter",
         "x": [
          0,
          1,
          2,
          3,
          4,
          5,
          6,
          7,
          8,
          9,
          10,
          11,
          12,
          13,
          14,
          15,
          16,
          17,
          18,
          19,
          20
         ],
         "y": [
          0.6746031746031746,
          0.46428571428571436,
          0.652046783625731,
          0.45827067669172933,
          0.3244348244348244,
          0.16845165416593988,
          0.2205613558554735,
          0.2826109076109076,
          0.15425130425130426,
          0.15194194694194696,
          0.21021303258145363,
          0.3442743764172335,
          0.27453553391053387,
          0.20275372775372777,
          0.17235304378161523,
          0.17329836829836828,
          0.166022866022866,
          0.10716003573146429,
          0.10366300366300366,
          0.1589431732288875,
          0.1615944746196847
         ]
        },
        {
         "fill": "tonexty",
         "legendgroup": "ETHOSCOPE_196-True Stimulus",
         "line": {
          "color": "rgb(221, 204, 119)",
          "shape": "spline"
         },
         "mode": "lines",
         "name": "ETHOSCOPE_196-True Stimulus",
         "type": "scatter",
         "x": [
          0,
          1,
          2,
          3,
          4,
          5,
          6,
          7,
          8,
          9,
          10,
          11,
          12,
          13,
          14,
          15,
          16,
          17,
          18,
          19,
          20
         ],
         "y": [
          0.796031746031746,
          0.6216931216931216,
          0.7824143692564745,
          0.6166795193110982,
          0.48538961038961037,
          0.3178736607308036,
          0.34449112978524743,
          0.3925460782603639,
          0.2565085707942851,
          0.24058191808191806,
          0.34239576213260425,
          0.4912509448223734,
          0.412630772005772,
          0.3222926544355116,
          0.2850468392485199,
          0.2668319180819181,
          0.2921154242582814,
          0.19510542367685224,
          0.21163875806732949,
          0.23798212369640942,
          0.24835314079011556
         ]
        },
        {
         "fill": "tonexty",
         "legendgroup": "ETHOSCOPE_196-True Stimulus",
         "line": {
          "shape": "spline",
          "width": 0
         },
         "marker": {
          "color": "rgb(221, 204, 119)"
         },
         "mode": "lines",
         "showlegend": false,
         "type": "scatter",
         "x": [
          0,
          1,
          2,
          3,
          4,
          5,
          6,
          7,
          8,
          9,
          10,
          11,
          12,
          13,
          14,
          15,
          16,
          17,
          18,
          19,
          20
         ],
         "y": [
          0.907142857142857,
          0.7632275132275133,
          0.8920634920634921,
          0.7809363151468415,
          0.6325396825396824,
          0.4806122448979591,
          0.48465466994878753,
          0.5108830323116037,
          0.3863319220462078,
          0.3499567099567099,
          0.4956937799043062,
          0.6372826908541194,
          0.5742857142857142,
          0.4498385212670926,
          0.4074056973216637,
          0.3670862470862471,
          0.4171209742638314,
          0.2939510225224511,
          0.33227367870225005,
          0.3311141239712668,
          0.35146044431758716
         ]
        },
        {
         "legendgroup": "ETHOSCOPE_196-True Stimulus",
         "line": {
          "color": "rgb(221, 204, 119)",
          "dash": "longdashdot",
          "shape": "spline"
         },
         "mode": "lines",
         "name": "ETHOSCOPE_196-True Stimulus count",
         "type": "scatter",
         "x": [
          0,
          1,
          2,
          3,
          4,
          5,
          6,
          7,
          8,
          9,
          10,
          11,
          12,
          13,
          14,
          15,
          16,
          17,
          18,
          19,
          20
         ],
         "xaxis": "x",
         "y": [
          90,
          97,
          90,
          108,
          154,
          206,
          225,
          211,
          195,
          192,
          160,
          151,
          146,
          181,
          211,
          177,
          167,
          176,
          164,
          211,
          215
         ],
         "yaxis": "y2"
        },
        {
         "legendgroup": "ETHOSCOPE_271-Spon. Mov.",
         "line": {
          "shape": "spline",
          "width": 0
         },
         "marker": {
          "color": "#444"
         },
         "mode": "lines",
         "showlegend": false,
         "type": "scatter",
         "x": [
          0,
          1,
          2,
          3,
          4,
          5,
          6,
          7,
          8,
          9,
          10,
          11,
          12,
          13,
          14,
          15,
          16,
          17,
          18,
          19,
          20
         ],
         "y": [
          0.13554389791961982,
          0.05656844470878463,
          0.06284163465484797,
          0.08900109110522311,
          0.07436649591375732,
          0.07400188871043827,
          0.058871733173935285,
          0.05451421990167892,
          0.05453677781381712,
          0.05539617627939464,
          0.057693406265595035,
          0.05862131235401064,
          0.05625874847691221,
          0.061379989227889925,
          0.0815652525183205,
          0.07107976144500405,
          0.10729512411382652,
          0.05013297914505879,
          0.05661596959097489,
          0.04522235353604514,
          0.045527656475212695
         ]
        },
        {
         "fill": "tonexty",
         "legendgroup": "ETHOSCOPE_271-Spon. Mov.",
         "line": {
          "color": "grey",
          "shape": "spline"
         },
         "mode": "lines",
         "name": "ETHOSCOPE_271-Spon. Mov.",
         "type": "scatter",
         "x": [
          0,
          1,
          2,
          3,
          4,
          5,
          6,
          7,
          8,
          9,
          10,
          11,
          12,
          13,
          14,
          15,
          16,
          17,
          18,
          19,
          20
         ],
         "y": [
          0.2050868218398938,
          0.08850236959501946,
          0.08824318464810109,
          0.1275528476052128,
          0.10652931473324821,
          0.12367958187461468,
          0.10260521064372573,
          0.07397181227926854,
          0.07590082600028665,
          0.07555474461684708,
          0.07261618266810271,
          0.08154103290300946,
          0.07371536889137142,
          0.09700384745415001,
          0.12638773770705894,
          0.10355737276684819,
          0.168888195100281,
          0.06962603792634149,
          0.09470419415825002,
          0.06767389176571842,
          0.06731972457236987
         ]
        },
        {
         "fill": "tonexty",
         "legendgroup": "ETHOSCOPE_271-Spon. Mov.",
         "line": {
          "shape": "spline",
          "width": 0
         },
         "marker": {
          "color": "grey"
         },
         "mode": "lines",
         "showlegend": false,
         "type": "scatter",
         "x": [
          0,
          1,
          2,
          3,
          4,
          5,
          6,
          7,
          8,
          9,
          10,
          11,
          12,
          13,
          14,
          15,
          16,
          17,
          18,
          19,
          20
         ],
         "y": [
          0.2873494004069565,
          0.12533828690952423,
          0.11988301461155547,
          0.1820129346748049,
          0.14678258789132503,
          0.1861575571914138,
          0.15654491471289106,
          0.09810725902769675,
          0.10327473809715318,
          0.10023035900775548,
          0.08982382105644636,
          0.10869510150785301,
          0.09539729461925117,
          0.1472006849419319,
          0.17689603889528321,
          0.13731104094213073,
          0.24434497267049574,
          0.09231105153225129,
          0.14598038620535037,
          0.09588405754186176,
          0.09642251458802119
         ]
        },
        {
         "legendgroup": "ETHOSCOPE_271-True Stimulus",
         "line": {
          "shape": "spline",
          "width": 0
         },
         "marker": {
          "color": "#444"
         },
         "mode": "lines",
         "showlegend": false,
         "type": "scatter",
         "x": [
          0,
          1,
          2,
          3,
          4,
          5,
          6,
          7,
          8,
          9,
          10,
          11,
          12,
          13,
          14,
          15,
          16,
          17,
          18,
          19,
          20
         ],
         "y": [
          0.6149659863945578,
          0.4913752913752914,
          0.44404761904761914,
          0.3855789412607594,
          0.3927842412217412,
          0.3307686927584887,
          0.30627920832002464,
          0.31438275943077865,
          0.2206338212940854,
          0.2774626733810407,
          0.35488591269841274,
          0.327914018605508,
          0.36797391205285934,
          0.28707025834685407,
          0.1662725396518914,
          0.20264865519967565,
          0.22785987160987162,
          0.20033335678593783,
          0.2188327545470403,
          0.24189693526428221,
          0.2193823911654794
         ]
        },
        {
         "fill": "tonexty",
         "legendgroup": "ETHOSCOPE_271-True Stimulus",
         "line": {
          "color": "rgb(17, 119, 51)",
          "shape": "spline"
         },
         "mode": "lines",
         "name": "ETHOSCOPE_271-True Stimulus",
         "type": "scatter",
         "x": [
          0,
          1,
          2,
          3,
          4,
          5,
          6,
          7,
          8,
          9,
          10,
          11,
          12,
          13,
          14,
          15,
          16,
          17,
          18,
          19,
          20
         ],
         "y": [
          0.7266601878846777,
          0.6087024087024087,
          0.550235326688815,
          0.4988076948304221,
          0.48594351250601253,
          0.4241863861761821,
          0.3954512607573832,
          0.4026460267756786,
          0.31172017258451834,
          0.3581227729186913,
          0.4479400093370682,
          0.43260837861901696,
          0.4984563681932103,
          0.3831925757457672,
          0.25174092614068605,
          0.2898725990562725,
          0.32198571104821105,
          0.28200010273839804,
          0.3000112699092291,
          0.32099786468033764,
          0.2931062945768828
         ]
        },
        {
         "fill": "tonexty",
         "legendgroup": "ETHOSCOPE_271-True Stimulus",
         "line": {
          "shape": "spline",
          "width": 0
         },
         "marker": {
          "color": "rgb(17, 119, 51)"
         },
         "mode": "lines",
         "showlegend": false,
         "type": "scatter",
         "x": [
          0,
          1,
          2,
          3,
          4,
          5,
          6,
          7,
          8,
          9,
          10,
          11,
          12,
          13,
          14,
          15,
          16,
          17,
          18,
          19,
          20
         ],
         "y": [
          0.8273566569484936,
          0.7288267288267287,
          0.6656423034330011,
          0.6265125026488664,
          0.5765474687349688,
          0.5254495787659053,
          0.49037108016699854,
          0.4966284282610813,
          0.40259151279559435,
          0.43348131460376355,
          0.5501779878618114,
          0.5397124742869422,
          0.6381578947368421,
          0.4879401921955114,
          0.34316862276045945,
          0.3746841593780369,
          0.4191337597587597,
          0.35690998010925984,
          0.3964190005006332,
          0.4092902845453866,
          0.37178976048461343
         ]
        },
        {
         "legendgroup": "ETHOSCOPE_271-True Stimulus",
         "line": {
          "color": "rgb(17, 119, 51)",
          "dash": "longdashdot",
          "shape": "spline"
         },
         "mode": "lines",
         "name": "ETHOSCOPE_271-True Stimulus count",
         "type": "scatter",
         "x": [
          0,
          1,
          2,
          3,
          4,
          5,
          6,
          7,
          8,
          9,
          10,
          11,
          12,
          13,
          14,
          15,
          16,
          17,
          18,
          19,
          20
         ],
         "xaxis": "x",
         "y": [
          128,
          171,
          235,
          263,
          331,
          437,
          412,
          431,
          427,
          384,
          315,
          295,
          166,
          265,
          426,
          434,
          412,
          415,
          475,
          444,
          436
         ],
         "yaxis": "y2"
        },
        {
         "legendgroup": "ETHOSCOPE_203-Spon. Mov.",
         "line": {
          "shape": "spline",
          "width": 0
         },
         "marker": {
          "color": "#444"
         },
         "mode": "lines",
         "showlegend": false,
         "type": "scatter",
         "x": [
          0,
          1,
          2,
          3,
          4,
          5,
          6,
          7,
          8,
          9,
          10,
          11,
          12,
          13,
          14,
          15,
          16,
          17,
          18,
          19,
          20
         ],
         "y": [
          0.05726066520082877,
          0.05668595372962089,
          0.037259004915094214,
          0.036030099853260944,
          0.03887998192931637,
          0.02752449014286435,
          0.037432134978531977,
          0.030394495522243874,
          0.023664876278551326,
          0.030029050504568236,
          0.021698498365185576,
          0.02663715881940811,
          0.029397671608991646,
          0.036086995536102055,
          0.06498815846985441,
          0.04704975691131201,
          0.03318995095527254,
          0.022858305197038704,
          0.02202972120963926,
          0.023027871706207955,
          0.023612366075721453
         ]
        },
        {
         "fill": "tonexty",
         "legendgroup": "ETHOSCOPE_203-Spon. Mov.",
         "line": {
          "color": "grey",
          "shape": "spline"
         },
         "mode": "lines",
         "name": "ETHOSCOPE_203-Spon. Mov.",
         "type": "scatter",
         "x": [
          0,
          1,
          2,
          3,
          4,
          5,
          6,
          7,
          8,
          9,
          10,
          11,
          12,
          13,
          14,
          15,
          16,
          17,
          18,
          19,
          20
         ],
         "y": [
          0.10806740908867635,
          0.09190156604789482,
          0.05034082070294021,
          0.051014091195967,
          0.0742705967942824,
          0.05092744502733205,
          0.07750258970323104,
          0.10192337066655656,
          0.0354656999662569,
          0.07407374573719887,
          0.028153845415529895,
          0.041908054281732554,
          0.06311570214386722,
          0.1205227296871926,
          0.14791342563455512,
          0.07797362662303493,
          0.09251116366617201,
          0.03767013136890985,
          0.030016604102066517,
          0.07045216905413289,
          0.05007330078306571
         ]
        },
        {
         "fill": "tonexty",
         "legendgroup": "ETHOSCOPE_203-Spon. Mov.",
         "line": {
          "shape": "spline",
          "width": 0
         },
         "marker": {
          "color": "grey"
         },
         "mode": "lines",
         "showlegend": false,
         "type": "scatter",
         "x": [
          0,
          1,
          2,
          3,
          4,
          5,
          6,
          7,
          8,
          9,
          10,
          11,
          12,
          13,
          14,
          15,
          16,
          17,
          18,
          19,
          20
         ],
         "y": [
          0.16508491075798767,
          0.1352903676992265,
          0.0659524682232478,
          0.06762434172591845,
          0.12081703100337922,
          0.08324027217933404,
          0.12682495033391392,
          0.19813163612317175,
          0.04895823699571698,
          0.15404147481939565,
          0.03497366267284741,
          0.060472126852654406,
          0.11419883944542578,
          0.22948672382034419,
          0.24908536257729,
          0.1137463349177663,
          0.18737266974114183,
          0.05428451132759685,
          0.03879548917874033,
          0.15784685091638642,
          0.08259823351633615
         ]
        },
        {
         "legendgroup": "ETHOSCOPE_203-True Stimulus",
         "line": {
          "shape": "spline",
          "width": 0
         },
         "marker": {
          "color": "#444"
         },
         "mode": "lines",
         "showlegend": false,
         "type": "scatter",
         "x": [
          0,
          1,
          2,
          3,
          4,
          5,
          6,
          7,
          8,
          9,
          10,
          11,
          12,
          13,
          14,
          15,
          16,
          17,
          18,
          19,
          20
         ],
         "y": [
          0.6029726683572838,
          0.4099025974025974,
          0.4433913308913308,
          0.399848828420257,
          0.3091953144894321,
          0.22246778711484594,
          0.245998445998446,
          0.26127590358359587,
          0.4085873015873016,
          0.29434920634920636,
          0.2841288341288341,
          0.2846618357487923,
          0.3228030303030303,
          0.24028905876731965,
          0.1178176398764634,
          0.1295433732933733,
          0.1715107530615552,
          0.21144599844599846,
          0.1862233322233322,
          0.17162987012987013,
          0.21610803412274002
         ]
        },
        {
         "fill": "tonexty",
         "legendgroup": "ETHOSCOPE_203-True Stimulus",
         "line": {
          "color": "rgb(51, 34, 136)",
          "shape": "spline"
         },
         "mode": "lines",
         "name": "ETHOSCOPE_203-True Stimulus",
         "type": "scatter",
         "x": [
          0,
          1,
          2,
          3,
          4,
          5,
          6,
          7,
          8,
          9,
          10,
          11,
          12,
          13,
          14,
          15,
          16,
          17,
          18,
          19,
          20
         ],
         "y": [
          0.7314830468676623,
          0.5670005499550954,
          0.5711080586080586,
          0.5546158867587438,
          0.4319719887955182,
          0.34099263481616426,
          0.3524163701795281,
          0.38171986384656065,
          0.5386767676767676,
          0.4143016591251885,
          0.4123936248936249,
          0.4152679446157707,
          0.48689393939393943,
          0.36371901045814087,
          0.22564643388946795,
          0.22916453204914744,
          0.31232251853909604,
          0.33005405705405705,
          0.2876807636807637,
          0.3176298701298701,
          0.3272113643437173
         ]
        },
        {
         "fill": "tonexty",
         "legendgroup": "ETHOSCOPE_203-True Stimulus",
         "line": {
          "shape": "spline",
          "width": 0
         },
         "marker": {
          "color": "rgb(51, 34, 136)"
         },
         "mode": "lines",
         "showlegend": false,
         "type": "scatter",
         "x": [
          0,
          1,
          2,
          3,
          4,
          5,
          6,
          7,
          8,
          9,
          10,
          11,
          12,
          13,
          14,
          15,
          16,
          17,
          18,
          19,
          20
         ],
         "y": [
          0.8525641025641024,
          0.7265840220385675,
          0.6857600732600732,
          0.7179378822235964,
          0.550777183600713,
          0.46610489510489517,
          0.4591624749519487,
          0.5194843617920542,
          0.658877344877345,
          0.5423895712131006,
          0.5376202501202502,
          0.5588669784321958,
          0.6582575757575758,
          0.49065403195837975,
          0.3438627162311373,
          0.3456083446468062,
          0.4729784475773781,
          0.4651283161283162,
          0.39012276612276614,
          0.47924098124098125,
          0.4561585745409275
         ]
        },
        {
         "legendgroup": "ETHOSCOPE_203-True Stimulus",
         "line": {
          "color": "rgb(51, 34, 136)",
          "dash": "longdashdot",
          "shape": "spline"
         },
         "mode": "lines",
         "name": "ETHOSCOPE_203-True Stimulus count",
         "type": "scatter",
         "x": [
          0,
          1,
          2,
          3,
          4,
          5,
          6,
          7,
          8,
          9,
          10,
          11,
          12,
          13,
          14,
          15,
          16,
          17,
          18,
          19,
          20
         ],
         "xaxis": "x",
         "y": [
          92,
          105,
          151,
          137,
          200,
          264,
          257,
          248,
          205,
          222,
          213,
          167,
          111,
          199,
          277,
          241,
          209,
          239,
          243,
          230,
          248
         ],
         "yaxis": "y2"
        },
        {
         "legendgroup": "ETHOSCOPE_213-Spon. Mov.",
         "line": {
          "shape": "spline",
          "width": 0
         },
         "marker": {
          "color": "#444"
         },
         "mode": "lines",
         "showlegend": false,
         "type": "scatter",
         "x": [
          0,
          1,
          2,
          3,
          4,
          5,
          6,
          7,
          8,
          9,
          10,
          11,
          12,
          13,
          14,
          15,
          16,
          17,
          18,
          19,
          20
         ],
         "y": [
          0.1001887487320818,
          0.042948945571367456,
          0.0371861189122388,
          0.05268531990123451,
          0.0488882441062614,
          0.05237192821931741,
          0.04249216022421192,
          0.03081145700925836,
          0.02509421731179962,
          0.0233159186358941,
          0.02290458066155427,
          0.021230674788271942,
          0.026289227800974882,
          0.03793017131824794,
          0.03904531104716545,
          0.05893397676474468,
          0.04507010295212529,
          0.025533563169085543,
          0.025326423378016133,
          0.04381897130848968,
          0.03661418257883903
         ]
        },
        {
         "fill": "tonexty",
         "legendgroup": "ETHOSCOPE_213-Spon. Mov.",
         "line": {
          "color": "grey",
          "shape": "spline"
         },
         "mode": "lines",
         "name": "ETHOSCOPE_213-Spon. Mov.",
         "type": "scatter",
         "x": [
          0,
          1,
          2,
          3,
          4,
          5,
          6,
          7,
          8,
          9,
          10,
          11,
          12,
          13,
          14,
          15,
          16,
          17,
          18,
          19,
          20
         ],
         "y": [
          0.1707252160960432,
          0.08023351717774031,
          0.06025411888520072,
          0.07600170532450437,
          0.09186089626851149,
          0.11080792115258908,
          0.08230864846247433,
          0.05942666264380684,
          0.030281232014052,
          0.03011555373114901,
          0.02981841600727453,
          0.027361696784530258,
          0.03609735842090741,
          0.056108571402675556,
          0.06371017657374796,
          0.10799509281530995,
          0.0895498427661475,
          0.03835456847321069,
          0.06226807836002221,
          0.09290528035553415,
          0.0655907509441783
         ]
        },
        {
         "fill": "tonexty",
         "legendgroup": "ETHOSCOPE_213-Spon. Mov.",
         "line": {
          "shape": "spline",
          "width": 0
         },
         "marker": {
          "color": "grey"
         },
         "mode": "lines",
         "showlegend": false,
         "type": "scatter",
         "x": [
          0,
          1,
          2,
          3,
          4,
          5,
          6,
          7,
          8,
          9,
          10,
          11,
          12,
          13,
          14,
          15,
          16,
          17,
          18,
          19,
          20
         ],
         "y": [
          0.24830040432315692,
          0.14433664498059676,
          0.09177014527772905,
          0.1031908094510944,
          0.15007541231045082,
          0.1884230743668869,
          0.13373089543584282,
          0.0962496614222979,
          0.036998452572343084,
          0.03804830594184805,
          0.03699191459350172,
          0.03416283293539246,
          0.04632416200220592,
          0.07878579338694418,
          0.09032990765777353,
          0.18197778249925947,
          0.15464324668227408,
          0.05170948462313525,
          0.12529646630182095,
          0.14905325639960917,
          0.1023584884713941
         ]
        },
        {
         "legendgroup": "ETHOSCOPE_213-True Stimulus",
         "line": {
          "shape": "spline",
          "width": 0
         },
         "marker": {
          "color": "#444"
         },
         "mode": "lines",
         "showlegend": false,
         "type": "scatter",
         "x": [
          0,
          1,
          2,
          3,
          4,
          5,
          6,
          7,
          8,
          9,
          10,
          11,
          12,
          13,
          14,
          15,
          16,
          17,
          18,
          19,
          20
         ],
         "y": [
          0.43799648064353947,
          0.34310134310134305,
          0.3943290216727717,
          0.26117123617123617,
          0.27916328463203466,
          0.19345115239078087,
          0.19110216382943657,
          0.15024685282038222,
          0.15533690166043107,
          0.2608861726508785,
          0.25411467617349975,
          0.35583129084967324,
          0.34808732933732933,
          0.22430717430717428,
          0.12888337153043036,
          0.11377297130973602,
          0.16399438103983557,
          0.11563714063714065,
          0.09658685220968957,
          0.13246425291879835,
          0.16630226511281873
         ]
        },
        {
         "fill": "tonexty",
         "legendgroup": "ETHOSCOPE_213-True Stimulus",
         "line": {
          "color": "rgb(170, 68, 153)",
          "shape": "spline"
         },
         "mode": "lines",
         "name": "ETHOSCOPE_213-True Stimulus",
         "type": "scatter",
         "x": [
          0,
          1,
          2,
          3,
          4,
          5,
          6,
          7,
          8,
          9,
          10,
          11,
          12,
          13,
          14,
          15,
          16,
          17,
          18,
          19,
          20
         ],
         "y": [
          0.5852706933589287,
          0.4723914973914974,
          0.5228279532967033,
          0.4264541014541014,
          0.3897513077200577,
          0.28861530196669516,
          0.2791024631933723,
          0.2397372955763959,
          0.25877855804326394,
          0.3747993020051843,
          0.34315170123993655,
          0.47982240390328623,
          0.4889904738119024,
          0.3480464400918946,
          0.22779940647587707,
          0.23555712057550293,
          0.253772027635664,
          0.19716255966255966,
          0.18620670947660567,
          0.20801768047757352,
          0.2728716040783515
         ]
        },
        {
         "fill": "tonexty",
         "legendgroup": "ETHOSCOPE_213-True Stimulus",
         "line": {
          "shape": "spline",
          "width": 0
         },
         "marker": {
          "color": "rgb(170, 68, 153)"
         },
         "mode": "lines",
         "showlegend": false,
         "type": "scatter",
         "x": [
          0,
          1,
          2,
          3,
          4,
          5,
          6,
          7,
          8,
          9,
          10,
          11,
          12,
          13,
          14,
          15,
          16,
          17,
          18,
          19,
          20
         ],
         "y": [
          0.7233722976370035,
          0.6135531135531136,
          0.6505456349206349,
          0.5881664631664633,
          0.508201433982684,
          0.3900257379359547,
          0.38308509672146035,
          0.3407772686751926,
          0.3676841132723485,
          0.49647705235940537,
          0.4417366946778711,
          0.5972584706959707,
          0.6395530065172924,
          0.48207722412267867,
          0.3407048833519422,
          0.3655090824208471,
          0.3632466439284621,
          0.2977873977873978,
          0.28140171055395974,
          0.3016399672816785,
          0.38867137764196585
         ]
        },
        {
         "legendgroup": "ETHOSCOPE_213-True Stimulus",
         "line": {
          "color": "rgb(170, 68, 153)",
          "dash": "longdashdot",
          "shape": "spline"
         },
         "mode": "lines",
         "name": "ETHOSCOPE_213-True Stimulus count",
         "type": "scatter",
         "x": [
          0,
          1,
          2,
          3,
          4,
          5,
          6,
          7,
          8,
          9,
          10,
          11,
          12,
          13,
          14,
          15,
          16,
          17,
          18,
          19,
          20
         ],
         "xaxis": "x",
         "y": [
          197,
          141,
          185,
          181,
          261,
          323,
          346,
          338,
          346,
          263,
          277,
          191,
          142,
          256,
          349,
          295,
          287,
          321,
          288,
          321,
          275
         ],
         "yaxis": "y2"
        }
       ],
       "layout": {
        "legend": {
         "bgcolor": "rgba(201, 201, 201, 1)",
         "bordercolor": "grey",
         "font": {
          "size": 12
         },
         "x": 1.01,
         "y": 0.5
        },
        "plot_bgcolor": "white",
        "template": {
         "data": {
          "bar": [
           {
            "error_x": {
             "color": "#2a3f5f"
            },
            "error_y": {
             "color": "#2a3f5f"
            },
            "marker": {
             "line": {
              "color": "#E5ECF6",
              "width": 0.5
             },
             "pattern": {
              "fillmode": "overlay",
              "size": 10,
              "solidity": 0.2
             }
            },
            "type": "bar"
           }
          ],
          "barpolar": [
           {
            "marker": {
             "line": {
              "color": "#E5ECF6",
              "width": 0.5
             },
             "pattern": {
              "fillmode": "overlay",
              "size": 10,
              "solidity": 0.2
             }
            },
            "type": "barpolar"
           }
          ],
          "carpet": [
           {
            "aaxis": {
             "endlinecolor": "#2a3f5f",
             "gridcolor": "white",
             "linecolor": "white",
             "minorgridcolor": "white",
             "startlinecolor": "#2a3f5f"
            },
            "baxis": {
             "endlinecolor": "#2a3f5f",
             "gridcolor": "white",
             "linecolor": "white",
             "minorgridcolor": "white",
             "startlinecolor": "#2a3f5f"
            },
            "type": "carpet"
           }
          ],
          "choropleth": [
           {
            "colorbar": {
             "outlinewidth": 0,
             "ticks": ""
            },
            "type": "choropleth"
           }
          ],
          "contour": [
           {
            "colorbar": {
             "outlinewidth": 0,
             "ticks": ""
            },
            "colorscale": [
             [
              0,
              "#0d0887"
             ],
             [
              0.1111111111111111,
              "#46039f"
             ],
             [
              0.2222222222222222,
              "#7201a8"
             ],
             [
              0.3333333333333333,
              "#9c179e"
             ],
             [
              0.4444444444444444,
              "#bd3786"
             ],
             [
              0.5555555555555556,
              "#d8576b"
             ],
             [
              0.6666666666666666,
              "#ed7953"
             ],
             [
              0.7777777777777778,
              "#fb9f3a"
             ],
             [
              0.8888888888888888,
              "#fdca26"
             ],
             [
              1,
              "#f0f921"
             ]
            ],
            "type": "contour"
           }
          ],
          "contourcarpet": [
           {
            "colorbar": {
             "outlinewidth": 0,
             "ticks": ""
            },
            "type": "contourcarpet"
           }
          ],
          "heatmap": [
           {
            "colorbar": {
             "outlinewidth": 0,
             "ticks": ""
            },
            "colorscale": [
             [
              0,
              "#0d0887"
             ],
             [
              0.1111111111111111,
              "#46039f"
             ],
             [
              0.2222222222222222,
              "#7201a8"
             ],
             [
              0.3333333333333333,
              "#9c179e"
             ],
             [
              0.4444444444444444,
              "#bd3786"
             ],
             [
              0.5555555555555556,
              "#d8576b"
             ],
             [
              0.6666666666666666,
              "#ed7953"
             ],
             [
              0.7777777777777778,
              "#fb9f3a"
             ],
             [
              0.8888888888888888,
              "#fdca26"
             ],
             [
              1,
              "#f0f921"
             ]
            ],
            "type": "heatmap"
           }
          ],
          "heatmapgl": [
           {
            "colorbar": {
             "outlinewidth": 0,
             "ticks": ""
            },
            "colorscale": [
             [
              0,
              "#0d0887"
             ],
             [
              0.1111111111111111,
              "#46039f"
             ],
             [
              0.2222222222222222,
              "#7201a8"
             ],
             [
              0.3333333333333333,
              "#9c179e"
             ],
             [
              0.4444444444444444,
              "#bd3786"
             ],
             [
              0.5555555555555556,
              "#d8576b"
             ],
             [
              0.6666666666666666,
              "#ed7953"
             ],
             [
              0.7777777777777778,
              "#fb9f3a"
             ],
             [
              0.8888888888888888,
              "#fdca26"
             ],
             [
              1,
              "#f0f921"
             ]
            ],
            "type": "heatmapgl"
           }
          ],
          "histogram": [
           {
            "marker": {
             "pattern": {
              "fillmode": "overlay",
              "size": 10,
              "solidity": 0.2
             }
            },
            "type": "histogram"
           }
          ],
          "histogram2d": [
           {
            "colorbar": {
             "outlinewidth": 0,
             "ticks": ""
            },
            "colorscale": [
             [
              0,
              "#0d0887"
             ],
             [
              0.1111111111111111,
              "#46039f"
             ],
             [
              0.2222222222222222,
              "#7201a8"
             ],
             [
              0.3333333333333333,
              "#9c179e"
             ],
             [
              0.4444444444444444,
              "#bd3786"
             ],
             [
              0.5555555555555556,
              "#d8576b"
             ],
             [
              0.6666666666666666,
              "#ed7953"
             ],
             [
              0.7777777777777778,
              "#fb9f3a"
             ],
             [
              0.8888888888888888,
              "#fdca26"
             ],
             [
              1,
              "#f0f921"
             ]
            ],
            "type": "histogram2d"
           }
          ],
          "histogram2dcontour": [
           {
            "colorbar": {
             "outlinewidth": 0,
             "ticks": ""
            },
            "colorscale": [
             [
              0,
              "#0d0887"
             ],
             [
              0.1111111111111111,
              "#46039f"
             ],
             [
              0.2222222222222222,
              "#7201a8"
             ],
             [
              0.3333333333333333,
              "#9c179e"
             ],
             [
              0.4444444444444444,
              "#bd3786"
             ],
             [
              0.5555555555555556,
              "#d8576b"
             ],
             [
              0.6666666666666666,
              "#ed7953"
             ],
             [
              0.7777777777777778,
              "#fb9f3a"
             ],
             [
              0.8888888888888888,
              "#fdca26"
             ],
             [
              1,
              "#f0f921"
             ]
            ],
            "type": "histogram2dcontour"
           }
          ],
          "mesh3d": [
           {
            "colorbar": {
             "outlinewidth": 0,
             "ticks": ""
            },
            "type": "mesh3d"
           }
          ],
          "parcoords": [
           {
            "line": {
             "colorbar": {
              "outlinewidth": 0,
              "ticks": ""
             }
            },
            "type": "parcoords"
           }
          ],
          "pie": [
           {
            "automargin": true,
            "type": "pie"
           }
          ],
          "scatter": [
           {
            "fillpattern": {
             "fillmode": "overlay",
             "size": 10,
             "solidity": 0.2
            },
            "type": "scatter"
           }
          ],
          "scatter3d": [
           {
            "line": {
             "colorbar": {
              "outlinewidth": 0,
              "ticks": ""
             }
            },
            "marker": {
             "colorbar": {
              "outlinewidth": 0,
              "ticks": ""
             }
            },
            "type": "scatter3d"
           }
          ],
          "scattercarpet": [
           {
            "marker": {
             "colorbar": {
              "outlinewidth": 0,
              "ticks": ""
             }
            },
            "type": "scattercarpet"
           }
          ],
          "scattergeo": [
           {
            "marker": {
             "colorbar": {
              "outlinewidth": 0,
              "ticks": ""
             }
            },
            "type": "scattergeo"
           }
          ],
          "scattergl": [
           {
            "marker": {
             "colorbar": {
              "outlinewidth": 0,
              "ticks": ""
             }
            },
            "type": "scattergl"
           }
          ],
          "scattermapbox": [
           {
            "marker": {
             "colorbar": {
              "outlinewidth": 0,
              "ticks": ""
             }
            },
            "type": "scattermapbox"
           }
          ],
          "scatterpolar": [
           {
            "marker": {
             "colorbar": {
              "outlinewidth": 0,
              "ticks": ""
             }
            },
            "type": "scatterpolar"
           }
          ],
          "scatterpolargl": [
           {
            "marker": {
             "colorbar": {
              "outlinewidth": 0,
              "ticks": ""
             }
            },
            "type": "scatterpolargl"
           }
          ],
          "scatterternary": [
           {
            "marker": {
             "colorbar": {
              "outlinewidth": 0,
              "ticks": ""
             }
            },
            "type": "scatterternary"
           }
          ],
          "surface": [
           {
            "colorbar": {
             "outlinewidth": 0,
             "ticks": ""
            },
            "colorscale": [
             [
              0,
              "#0d0887"
             ],
             [
              0.1111111111111111,
              "#46039f"
             ],
             [
              0.2222222222222222,
              "#7201a8"
             ],
             [
              0.3333333333333333,
              "#9c179e"
             ],
             [
              0.4444444444444444,
              "#bd3786"
             ],
             [
              0.5555555555555556,
              "#d8576b"
             ],
             [
              0.6666666666666666,
              "#ed7953"
             ],
             [
              0.7777777777777778,
              "#fb9f3a"
             ],
             [
              0.8888888888888888,
              "#fdca26"
             ],
             [
              1,
              "#f0f921"
             ]
            ],
            "type": "surface"
           }
          ],
          "table": [
           {
            "cells": {
             "fill": {
              "color": "#EBF0F8"
             },
             "line": {
              "color": "white"
             }
            },
            "header": {
             "fill": {
              "color": "#C8D4E3"
             },
             "line": {
              "color": "white"
             }
            },
            "type": "table"
           }
          ]
         },
         "layout": {
          "annotationdefaults": {
           "arrowcolor": "#2a3f5f",
           "arrowhead": 0,
           "arrowwidth": 1
          },
          "autotypenumbers": "strict",
          "coloraxis": {
           "colorbar": {
            "outlinewidth": 0,
            "ticks": ""
           }
          },
          "colorscale": {
           "diverging": [
            [
             0,
             "#8e0152"
            ],
            [
             0.1,
             "#c51b7d"
            ],
            [
             0.2,
             "#de77ae"
            ],
            [
             0.3,
             "#f1b6da"
            ],
            [
             0.4,
             "#fde0ef"
            ],
            [
             0.5,
             "#f7f7f7"
            ],
            [
             0.6,
             "#e6f5d0"
            ],
            [
             0.7,
             "#b8e186"
            ],
            [
             0.8,
             "#7fbc41"
            ],
            [
             0.9,
             "#4d9221"
            ],
            [
             1,
             "#276419"
            ]
           ],
           "sequential": [
            [
             0,
             "#0d0887"
            ],
            [
             0.1111111111111111,
             "#46039f"
            ],
            [
             0.2222222222222222,
             "#7201a8"
            ],
            [
             0.3333333333333333,
             "#9c179e"
            ],
            [
             0.4444444444444444,
             "#bd3786"
            ],
            [
             0.5555555555555556,
             "#d8576b"
            ],
            [
             0.6666666666666666,
             "#ed7953"
            ],
            [
             0.7777777777777778,
             "#fb9f3a"
            ],
            [
             0.8888888888888888,
             "#fdca26"
            ],
            [
             1,
             "#f0f921"
            ]
           ],
           "sequentialminus": [
            [
             0,
             "#0d0887"
            ],
            [
             0.1111111111111111,
             "#46039f"
            ],
            [
             0.2222222222222222,
             "#7201a8"
            ],
            [
             0.3333333333333333,
             "#9c179e"
            ],
            [
             0.4444444444444444,
             "#bd3786"
            ],
            [
             0.5555555555555556,
             "#d8576b"
            ],
            [
             0.6666666666666666,
             "#ed7953"
            ],
            [
             0.7777777777777778,
             "#fb9f3a"
            ],
            [
             0.8888888888888888,
             "#fdca26"
            ],
            [
             1,
             "#f0f921"
            ]
           ]
          },
          "colorway": [
           "#636efa",
           "#EF553B",
           "#00cc96",
           "#ab63fa",
           "#FFA15A",
           "#19d3f3",
           "#FF6692",
           "#B6E880",
           "#FF97FF",
           "#FECB52"
          ],
          "font": {
           "color": "#2a3f5f"
          },
          "geo": {
           "bgcolor": "white",
           "lakecolor": "white",
           "landcolor": "#E5ECF6",
           "showlakes": true,
           "showland": true,
           "subunitcolor": "white"
          },
          "hoverlabel": {
           "align": "left"
          },
          "hovermode": "closest",
          "mapbox": {
           "style": "light"
          },
          "paper_bgcolor": "white",
          "plot_bgcolor": "#E5ECF6",
          "polar": {
           "angularaxis": {
            "gridcolor": "white",
            "linecolor": "white",
            "ticks": ""
           },
           "bgcolor": "#E5ECF6",
           "radialaxis": {
            "gridcolor": "white",
            "linecolor": "white",
            "ticks": ""
           }
          },
          "scene": {
           "xaxis": {
            "backgroundcolor": "#E5ECF6",
            "gridcolor": "white",
            "gridwidth": 2,
            "linecolor": "white",
            "showbackground": true,
            "ticks": "",
            "zerolinecolor": "white"
           },
           "yaxis": {
            "backgroundcolor": "#E5ECF6",
            "gridcolor": "white",
            "gridwidth": 2,
            "linecolor": "white",
            "showbackground": true,
            "ticks": "",
            "zerolinecolor": "white"
           },
           "zaxis": {
            "backgroundcolor": "#E5ECF6",
            "gridcolor": "white",
            "gridwidth": 2,
            "linecolor": "white",
            "showbackground": true,
            "ticks": "",
            "zerolinecolor": "white"
           }
          },
          "shapedefaults": {
           "line": {
            "color": "#2a3f5f"
           }
          },
          "ternary": {
           "aaxis": {
            "gridcolor": "white",
            "linecolor": "white",
            "ticks": ""
           },
           "baxis": {
            "gridcolor": "white",
            "linecolor": "white",
            "ticks": ""
           },
           "bgcolor": "#E5ECF6",
           "caxis": {
            "gridcolor": "white",
            "linecolor": "white",
            "ticks": ""
           }
          },
          "title": {
           "x": 0.05
          },
          "xaxis": {
           "automargin": true,
           "gridcolor": "white",
           "linecolor": "white",
           "ticks": "",
           "title": {
            "standoff": 15
           },
           "zerolinecolor": "white",
           "zerolinewidth": 2
          },
          "yaxis": {
           "automargin": true,
           "gridcolor": "white",
           "linecolor": "white",
           "ticks": "",
           "title": {
            "standoff": 15
           },
           "zerolinecolor": "white",
           "zerolinewidth": 2
          }
         }
        },
        "title": {
         "text": "what"
        },
        "xaxis": {
         "anchor": "y",
         "domain": [
          0,
          0.94
         ],
         "linecolor": "black",
         "linewidth": 2.5,
         "range": [
          0,
          20
         ],
         "showgrid": false,
         "tick0": 0,
         "tickfont": {
          "color": "black",
          "size": 18
         },
         "ticks": "outside",
         "tickwidth": 2,
         "title": {
          "font": {
           "color": "black",
           "size": 18
          },
          "text": "Hours 1 post first stimulus"
         },
         "type": "-",
         "zeroline": false
        },
        "yaxis": {
         "anchor": "x",
         "domain": [
          0,
          1
         ],
         "dtick": 0.2,
         "linecolor": "black",
         "linewidth": 2.5,
         "range": [
          0,
          1
         ],
         "rangemode": "tozero",
         "showgrid": false,
         "tick0": 0,
         "tickfont": {
          "color": "black",
          "size": 18
         },
         "ticks": "outside",
         "tickwidth": 2,
         "title": {
          "font": {
           "color": "black",
           "size": 18
          },
          "text": "Response Rate"
         },
         "type": "-",
         "zeroline": false
        },
        "yaxis2": {
         "anchor": "x",
         "linecolor": "black",
         "linewidth": 2.5,
         "overlaying": "y",
         "rangemode": "tozero",
         "showgrid": false,
         "side": "right",
         "tick0": 0,
         "tickfont": {
          "color": "black",
          "size": 18
         },
         "ticks": "outside",
         "tickwidth": 2,
         "title": {
          "font": {
           "color": "black",
           "size": 18
          },
          "text": "No. of stimulus (absolute)"
         },
         "type": "-",
         "zeroline": false
        }
       }
      }
     },
     "metadata": {},
     "output_type": "display_data"
    }
   ],
   "source": [
    "x = pdfp.plot_habituation(plot_type = 'time', x_limit = 20, title = 'what', facet_col='machine_name');\n",
    "x.show()"
   ]
  },
  {
   "cell_type": "code",
   "execution_count": 10,
   "id": "b36f4c06",
   "metadata": {},
   "outputs": [
    {
     "ename": "SyntaxError",
     "evalue": "invalid syntax (2081252185.py, line 1)",
     "output_type": "error",
     "traceback": [
      "\u001b[0;36m  Cell \u001b[0;32mIn[10], line 1\u001b[0;36m\u001b[0m\n\u001b[0;31m    for i\u001b[0m\n\u001b[0m         ^\u001b[0m\n\u001b[0;31mSyntaxError\u001b[0m\u001b[0;31m:\u001b[0m invalid syntax\n"
     ]
    }
   ],
   "source": [
    "for i"
   ]
  },
  {
   "cell_type": "code",
   "execution_count": null,
   "id": "ca27dd68",
   "metadata": {},
   "outputs": [
    {
     "data": {
      "image/png": "[encoded data removed]",
      "text/plain": [
       "<Figure size 733.333x416.667 with 1 Axes>"
      ]
     },
     "metadata": {},
     "output_type": "display_data"
    }
   ],
   "source": [
    "pdfs.plot_response_overtime(t_bin_hours=1, wrapped = True, facet_col = 'type');"
   ]
  },
  {
   "cell_type": "code",
   "execution_count": null,
   "id": "f35ee519",
   "metadata": {},
   "outputs": [],
   "source": [
    "# fig = pdfp.plot_response_overtime(t_bin_hours=1, wrapped = True, facet_col = 'type')\n",
    "# fig.show()"
   ]
  },
  {
   "cell_type": "code",
   "execution_count": null,
   "id": "5ebc85af",
   "metadata": {},
   "outputs": [],
   "source": [
    "# tpdf = tpdf[tpdf['has_interacted'] == 1]"
   ]
  },
  {
   "cell_type": "code",
   "execution_count": null,
   "id": "818c506f",
   "metadata": {},
   "outputs": [],
   "source": [
    "# x = pdfs.plot_response_over_activity(df, activity = 'inactive', variable = 'moving', facet_col = 'machine_name', facet_arg = None, facet_labels = None, title = '', t_column = 't', grids = False);"
   ]
  },
  {
   "cell_type": "code",
   "execution_count": null,
   "id": "562b07fd",
   "metadata": {},
   "outputs": [],
   "source": [
    "x = pdfp.plot_response_over_activity(df, activity = 'inactive', variable = 'moving', facet_col = 'machine_name', facet_arg = None, facet_labels = None, title = '', t_column = 't', grids = False)\n",
    "x.show()"
   ]
  },
  {
   "cell_type": "code",
   "execution_count": null,
   "id": "24d072e6",
   "metadata": {},
   "outputs": [],
   "source": [
    "# tdf = etho.behavpy(d, m, check = True, canvas = 'plotly')\n",
    "# tdf.meta['exp'] = tdf.meta['odour'] + '-' + tdf.meta['rest']\n",
    "# fig, stats_s = tdf.plot_response_quantify(title = '')\n",
    "# fig.show()"
   ]
  },
  {
   "cell_type": "code",
   "execution_count": null,
   "id": "78051a5b",
   "metadata": {},
   "outputs": [],
   "source": [
    "# fig, stats_s = tdf.plot_quantify('x', facet_col = 'exp')\n",
    "# fig.show()"
   ]
  },
  {
   "cell_type": "code",
   "execution_count": null,
   "id": "ceadf7bb",
   "metadata": {},
   "outputs": [],
   "source": [
    "# fig, stats_s = df.plot_quantify('x', facet_col = 'exp')"
   ]
  },
  {
   "cell_type": "code",
   "execution_count": null,
   "id": "c9140df7",
   "metadata": {},
   "outputs": [],
   "source": [
    "ndf = df[df['has_interacted'] == 1]"
   ]
  },
  {
   "cell_type": "code",
   "execution_count": null,
   "id": "f2ae389a",
   "metadata": {},
   "outputs": [
    {
     "data": {
      "image/png": "[encoded data removed]",
      "text/plain": [
       "<Figure size 600x1000 with 1 Axes>"
      ]
     },
     "metadata": {},
     "output_type": "display_data"
    }
   ],
   "source": [
    "fig, stats_s = df.plot_response_quantify(title = '')\n",
    "# fig.show()"
   ]
  },
  {
   "cell_type": "code",
   "execution_count": null,
   "id": "33c97e63",
   "metadata": {},
   "outputs": [
    {
     "data": {
      "text/plain": [
       "['t', 't', 't']"
      ]
     },
     "execution_count": 10,
     "metadata": {},
     "output_type": "execute_result"
    }
   ],
   "source": [
    "['t', *['t', 't']]"
   ]
  },
  {
   "cell_type": "code",
   "execution_count": null,
   "id": "546860de",
   "metadata": {},
   "outputs": [
    {
     "data": {
      "image/png": "[encoded data removed]",
      "text/plain": [
       "<Figure size 1200x1000 with 1 Axes>"
      ]
     },
     "metadata": {},
     "output_type": "display_data"
    }
   ],
   "source": [
    "fig, stats_s = df.plot_response_quantify(facet_col = 'exp', facet_arg = fargs, title = '')"
   ]
  },
  {
   "cell_type": "code",
   "execution_count": null,
   "id": "29b8a32e",
   "metadata": {},
   "outputs": [
    {
     "ename": "SyntaxError",
     "evalue": "invalid syntax (2081252185.py, line 1)",
     "output_type": "error",
     "traceback": [
      "\u001b[0;36m  Cell \u001b[0;32mIn[12], line 1\u001b[0;36m\u001b[0m\n\u001b[0;31m    for i\u001b[0m\n\u001b[0m         ^\u001b[0m\n\u001b[0;31mSyntaxError\u001b[0m\u001b[0;31m:\u001b[0m invalid syntax\n"
     ]
    }
   ],
   "source": [
    "for i"
   ]
  },
  {
   "cell_type": "code",
   "execution_count": null,
   "id": "d6d9d6b2",
   "metadata": {},
   "outputs": [],
   "source": [
    "stats_s"
   ]
  },
  {
   "cell_type": "code",
   "execution_count": null,
   "id": "7d7e8867",
   "metadata": {},
   "outputs": [],
   "source": [
    "stats_s[stats_s['exp'] == 'air-first day'][stats_s[stats_s['exp'] == 'air-first day']['has_interacted'] == 'True Stimulus']"
   ]
  },
  {
   "cell_type": "code",
   "execution_count": null,
   "id": "1d24619a",
   "metadata": {},
   "outputs": [],
   "source": [
    "df = etho.behavpy(d, m, check = True, canvas = 'plotly')\n",
    "df.meta['exp'] = df.meta['odour'] + '-' + df.meta['rest']\n",
    "fig, stats_p = df.plot_response_quantify(facet_col = 'exp', facet_arg = fargs, title = '')\n",
    "fig.show()"
   ]
  }
 ],
 "metadata": {
  "kernelspec": {
   "display_name": ".venv",
   "language": "python",
   "name": "python3"
  },
  "language_info": {
   "codemirror_mode": {
    "name": "ipython",
    "version": 3
   },
   "file_extension": ".py",
   "mimetype": "text/x-python",
   "name": "python",
   "nbconvert_exporter": "python",
   "pygments_lexer": "ipython3",
   "version": "3.11.3"
  },
  "vscode": {
   "interpreter": {
    "hash": "64774a8dfb1bd896c6efea99b1b4772a6458a05741a63e1cad6fc82c0bcee224"
   }
  }
 },
 "nbformat": 4,
 "nbformat_minor": 5
}
