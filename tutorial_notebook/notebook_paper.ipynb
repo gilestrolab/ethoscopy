{
 "cells": [
  {
   "attachments": {},
   "cell_type": "markdown",
   "id": "d104696c",
   "metadata": {},
   "source": [
    "# ethoscopy & ethoscope-lab: a framework for behavioural analysis to lower entrance barrier and aid reproducibility"
   ]
  },
  {
   "attachments": {},
   "cell_type": "markdown",
   "id": "546b4807",
   "metadata": {},
   "source": [
    "## Figure 1"
   ]
  },
  {
   "attachments": {},
   "cell_type": "markdown",
   "id": "cffaa42c",
   "metadata": {},
   "source": [
    "## 1. Loading the data"
   ]
  },
  {
   "cell_type": "code",
   "execution_count": null,
   "id": "69ed1572",
   "metadata": {},
   "outputs": [],
   "source": [
    "import ethoscopy as etho\n",
    "import pandas as pd"
   ]
  },
  {
   "cell_type": "code",
   "execution_count": null,
   "id": "b979d172-8b6b-4dd2-92a7-c3a7f4ac6993",
   "metadata": {},
   "outputs": [],
   "source": [
    "# This tutorial required version 1.1.8 or greater\n",
    "etho.__version__"
   ]
  },
  {
   "cell_type": "code",
   "execution_count": null,
   "id": "69551202-41b1-41e2-943b-3d02d8740d49",
   "metadata": {},
   "outputs": [],
   "source": [
    "# import this function to get the tutorial dataset\n",
    "from ethoscopy.misc.get_tutorials import get_tutorial"
   ]
  },
  {
   "cell_type": "code",
   "execution_count": null,
   "id": "a22a09b2-7b81-447c-8580-4c56afa1172c",
   "metadata": {},
   "outputs": [],
   "source": [
    "# We'll be using the same dataset as in the overview tutorial, so use the same function below with the argument 'overview' \n",
    "# Load the data and metadata, and then intialise it into a behavpy_HMM \n",
    "data, metadata = get_tutorial('overview')\n",
    "df = etho.behavpy(data, metadata, check = True)"
   ]
  },
  {
   "cell_type": "code",
   "execution_count": null,
   "id": "486bcb09",
   "metadata": {},
   "outputs": [],
   "source": [
    "df = df.t_filter(start_time = 24, end_time = 144)"
   ]
  },
  {
   "attachments": {},
   "cell_type": "markdown",
   "id": "4b029a65",
   "metadata": {},
   "source": [
    "### (a)"
   ]
  },
  {
   "cell_type": "code",
   "execution_count": null,
   "id": "d96f7d8e",
   "metadata": {},
   "outputs": [],
   "source": [
    "fig = df.xmv('sleep_deprived', False).heatmap(variable = 'asleep', title = 'Control')\n",
    "fig.show()"
   ]
  },
  {
   "cell_type": "code",
   "execution_count": null,
   "id": "c67b7fbb",
   "metadata": {},
   "outputs": [],
   "source": [
    "# As we saw in the overview tutorial the dataset we have has half the specimens sleep deprived later in the experiment\n",
    "fig = df.xmv('sleep_deprived', True).heatmap(variable = 'asleep', title = 'Sleep Deprived')\n",
    "fig.show()"
   ]
  },
  {
   "attachments": {},
   "cell_type": "markdown",
   "id": "566def57",
   "metadata": {},
   "source": [
    "### (b)"
   ]
  },
  {
   "cell_type": "code",
   "execution_count": null,
   "id": "1138ebaf",
   "metadata": {},
   "outputs": [],
   "source": [
    "fig = df.t_filter(start_time = 24, end_time = 96).plot_overtime(variable = 'asleep', wrapped = True, title = 'Baseline Sleep')\n",
    "fig.show()"
   ]
  },
  {
   "attachments": {},
   "cell_type": "markdown",
   "id": "1fa49490",
   "metadata": {},
   "source": [
    "### (c)"
   ]
  },
  {
   "cell_type": "code",
   "execution_count": null,
   "id": "5baf3442",
   "metadata": {},
   "outputs": [],
   "source": [
    "# Ethoscopy also has pretrained HMMs for both Male and Female CS Drosophila, trained on several days worth of data on hundreds of flies\n",
    "from ethoscopy.misc.get_HMM import get_HMM\n",
    "\n",
    "# Have the argument as \"M\" or \"F\" for the male or female dataset respectively\n",
    "h = get_HMM(\"M\")"
   ]
  },
  {
   "cell_type": "code",
   "execution_count": null,
   "id": "4b67f02e-a069-46f9-9605-183916d22af0",
   "metadata": {},
   "outputs": [],
   "source": [
    "fig = df.plot_hmm_overtime(\n",
    "            hmm = h, \n",
    "            variable = 'moving', \n",
    "            wrapped = True, \n",
    "            labels = ['Deep sleep', 'Light sleep', 'Quiet awake', 'Full awake'], \n",
    "            t_bin = 60, \n",
    "            title = 'Hidden Markov Analysis of sleep stages'\n",
    "            )\n",
    "fig.show()"
   ]
  }
 ],
 "metadata": {
  "kernelspec": {
   "display_name": "Python 3 (ipykernel)",
   "language": "python",
   "name": "python3"
  },
  "language_info": {
   "codemirror_mode": {
    "name": "ipython",
    "version": 3
   },
   "file_extension": ".py",
   "mimetype": "text/x-python",
   "name": "python",
   "nbconvert_exporter": "python",
   "pygments_lexer": "ipython3",
   "version": "3.11.3"
  },
  "vscode": {
   "interpreter": {
    "hash": "211748f54154f02aba8591b85552ed265a1a0cd91e8e9c910b9a2d1a7391a4f0"
   }
  }
 },
 "nbformat": 4,
 "nbformat_minor": 5
}
