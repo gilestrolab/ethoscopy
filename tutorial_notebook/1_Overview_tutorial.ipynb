{
 "cells": [
  {
   "attachments": {},
   "cell_type": "markdown",
   "id": "5285f95c-d7d5-4317-8c61-5bbe68cfe75a",
   "metadata": {},
   "source": [
    "## Tutorial number 1\n",
    "### Working with ethoscope data\n",
    "The tutorial will guide you through loading data, visualisation and plotting using the common sleep functions"
   ]
  },
  {
   "attachments": {},
   "cell_type": "markdown",
   "id": "ef5052a3-fb5f-4e52-98c6-14d14ab86265",
   "metadata": {},
   "source": [
    "## 1. Load the dummy dataset"
   ]
  },
  {
   "cell_type": "code",
   "execution_count": null,
   "id": "40f284e5-2ef0-483b-bff5-670f3b13eabf",
   "metadata": {},
   "outputs": [],
   "source": [
    "import ethoscopy as etho\n",
    "import pandas as pd"
   ]
  },
  {
   "cell_type": "code",
   "execution_count": null,
   "id": "b979d172-8b6b-4dd2-92a7-c3a7f4ac6993",
   "metadata": {},
   "outputs": [],
   "source": [
    "# This tutorial requires version 1.1.7 or greater\n",
    "etho.__version__"
   ]
  },
  {
   "cell_type": "code",
   "execution_count": null,
   "id": "402331bb-c6d7-4489-ab20-118a10f18a31",
   "metadata": {},
   "outputs": [],
   "source": [
    "# import this function to get the tutorial dataset\n",
    "from ethoscopy.misc.get_tutorials import get_tutorial"
   ]
  },
  {
   "cell_type": "code",
   "execution_count": null,
   "id": "b78d4a60-25a1-4299-a4d0-c5b2baee598c",
   "metadata": {},
   "outputs": [],
   "source": [
    "# There's some dummy data within Ethoscopy for you to play with, use the function below with the argument 'overview' \n",
    "# to get the data and metadata that will work with this notebook\n",
    "# Usually you would have to load the data using the loading functions, head back to the gitbook turotial for information on that\n",
    "data, metadata = get_tutorial('overview')"
   ]
  },
  {
   "cell_type": "code",
   "execution_count": null,
   "id": "20cb03a2-4b54-4cde-a22c-05561c58484f",
   "metadata": {},
   "outputs": [],
   "source": [
    "# This creates the behavpy object, combining your data and metadata into a behavpy dataframe (remember to keep them in this order data, metadata - otherwise it will cause problems later down the line)\n",
    "# The parameter check is used to see if the ids of the specimen in the data match those in the metadata. It also removes some columns that are not needed now you've downloaded the data\n",
    "# Canvas specifies which plotting library you want to use. The choice is between plotly (default) and the matplotlib-frontend seaborn. \n",
    "# plotly allows to output interactive graphs but it's a bit more cumbersome to use and heavier in size. Seaborn / matplotlib is more of a standard, lighter and beautiful but only outputs static plots\n",
    "# Try this notebook using both canvases to see the differences\n",
    "\n",
    "df = etho.behavpy(data, metadata, palette = 'Set2', check = True, canvas = 'seaborn')\n",
    "df.canvas"
   ]
  },
  {
   "cell_type": "code",
   "execution_count": null,
   "id": "46061498-b385-4417-8b88-a29589ce18e1",
   "metadata": {},
   "outputs": [],
   "source": [
    "# to save when looking back on the data, save the behavpy dataframe as a pickle file and just load that the subsequent times\n",
    "# df.to_pickle('./tutorial_dataframe.pkl')"
   ]
  },
  {
   "cell_type": "code",
   "execution_count": null,
   "id": "be811c56-6243-4a60-8a44-51577c903beb",
   "metadata": {},
   "outputs": [],
   "source": [
    "# use this pandas method to load your pickle file\n",
    "# Once saved and loading below you can skip the steps above\n",
    "# df = pd.read_pickle('./tutorial_dataframe.pkl') # same as the above"
   ]
  },
  {
   "cell_type": "code",
   "execution_count": null,
   "id": "2a814da5-2419-4a6a-9c74-b9babb661030",
   "metadata": {},
   "outputs": [],
   "source": [
    "# this method will display an excerpt of both the metadata and data together for you to view\n",
    "df.display()"
   ]
  },
  {
   "cell_type": "code",
   "execution_count": null,
   "id": "9e79a956-eb68-4ccd-96df-ae42df9e78d6",
   "metadata": {},
   "outputs": [],
   "source": [
    "# you can also just view the data on its own\n",
    "# python notebooks will print the last line of code without the print function\n",
    "# If you want to print out of this sequence, use the print function\n",
    "df\n",
    "# or print(df)"
   ]
  },
  {
   "cell_type": "code",
   "execution_count": null,
   "id": "0cf28f03-f58f-42e5-934a-6c57cfb45f6f",
   "metadata": {},
   "outputs": [],
   "source": [
    "# or just the metadata\n",
    "df.meta"
   ]
  },
  {
   "cell_type": "code",
   "execution_count": null,
   "id": "8e29b8b9-6eb4-469e-b3f4-7e733233001c",
   "metadata": {},
   "outputs": [],
   "source": [
    "# this function gives you summary statistics of the whole experiment\n",
    "df.summary()"
   ]
  },
  {
   "cell_type": "code",
   "execution_count": null,
   "id": "a3ce44c3-01b4-4999-a6b8-626cfedeedab",
   "metadata": {},
   "outputs": [],
   "source": [
    "# change the argument of detailed to True for information per sepcimen\n",
    "df.summary(detailed = True)"
   ]
  },
  {
   "attachments": {},
   "cell_type": "markdown",
   "id": "d2ad6595-e31e-48ed-a9d3-18c0253f1646",
   "metadata": {},
   "source": [
    "## 2. Curate the data"
   ]
  },
  {
   "cell_type": "code",
   "execution_count": null,
   "id": "672aa474-c6e6-452c-b672-7d0f503b861d",
   "metadata": {},
   "outputs": [],
   "source": [
    "# Heatmaps a good way to get an overview of the experiment\n",
    "# you can identify quickly any dead or abnormal specimens\n",
    "# Ethoscopy uses plotly to generate all data meaning they are interactive and you can zoom by drawing a zooming rectangle \n",
    "# Click on the autoscale icon on the top right corner of the image to reset the view to 100% zoom\n",
    "\n",
    "# Plots will be returned to you from the method/function, its convention to save this variable as fig in each cell\n",
    "# In the next line juist put fig.show() for the plot to appear below the cell\n",
    "fig = df.heatmap(variable = 'asleep')\n",
    "fig.show()"
   ]
  },
  {
   "cell_type": "code",
   "execution_count": null,
   "id": "2fcf5c23-0c87-4926-a15a-a7ccf22a1470",
   "metadata": {},
   "outputs": [],
   "source": [
    "# calling this method will remove the data for specimens that havent moved for a long time. It retains the data from before the specimen has \"died\"\n",
    "df = df.curate_dead_animals()"
   ]
  },
  {
   "cell_type": "code",
   "execution_count": null,
   "id": "7d9f0bc5-e187-4fcd-a8bf-3474fbf861c2",
   "metadata": {},
   "outputs": [],
   "source": [
    "# you can filter your data by time to restrict it to periods of interest or to remove data at the start and end which is fragmented\n",
    "# here we dont need the half data of the first day and anything beyond the day after the sleep deprivation experiment\n",
    "df = df.t_filter(start_time = 24, end_time = 144)"
   ]
  },
  {
   "cell_type": "code",
   "execution_count": null,
   "id": "08d3167f-fecd-4a24-9220-5b101aae061e",
   "metadata": {},
   "outputs": [],
   "source": [
    "# call heatmap again to see the changes done above\n",
    "fig = df.heatmap(variable = 'asleep')\n",
    "# fig"
   ]
  },
  {
   "cell_type": "code",
   "execution_count": null,
   "id": "17a4aa35-5607-4214-8ec6-b87c9d93183a",
   "metadata": {},
   "outputs": [],
   "source": [
    "# You can also limit your visualisation to a subgroup of animals.\n",
    "# For instance, we may want to show only animals in the experiment that underwent sleep deprivation\n",
    "fig = df.xmv('sleep_deprived', True).heatmap( variable = 'asleep')\n",
    "fig.axes[0].set_title(\"Sleep Deprived panel in Figure 1a\")\n",
    "fig.show()"
   ]
  },
  {
   "cell_type": "code",
   "execution_count": null,
   "id": "c7db10f0-e62b-4009-8347-0270736d13d4",
   "metadata": {},
   "outputs": [],
   "source": [
    "# Or those who did not\n",
    "fig = df.xmv('sleep_deprived', False).heatmap( variable = 'asleep')\n",
    "fig.axes[0].set_title(\"Control panel in Figure 1a\")\n",
    "fig.show()"
   ]
  },
  {
   "cell_type": "code",
   "execution_count": null,
   "id": "aa2abdbc-3d09-4b71-acad-f24af6eafd64",
   "metadata": {},
   "outputs": [],
   "source": [
    "# everything looks mostly fine, however there is one specimen - the bottom one on the control group - that appears to be almost always asleep, \n",
    "# but has not been removed by the curate_dead_animals() method. This could be just an abnormal specimen or an issue with recording.\n",
    "# If, after investigation, this turns out to be an artifact or a sick animal, it is OK to remove this specimen.\n",
    "# Using a notebook like this one will help you keeping track of data curation and data removal. \n",
    "# Keeping a log of which animals have to be removed and why is a very important aspect of data handling.\n",
    "\n",
    "# To do so, zoom in on the row of interest in the heatmap and get the id from the left hand side, for this one it's 2016-04-04_17-39-05_009aee|02\n",
    "# once we have the id we can remove it with the remove method\n",
    "\n",
    "df = df.remove('id', '2016-04-04_17-39-05_009aee|02')\n",
    "\n",
    "# lets call the heatmap once again to see if it's gone\n",
    "fig = df.heatmap(variable = 'asleep')\n",
    "fig.show()"
   ]
  },
  {
   "attachments": {},
   "cell_type": "markdown",
   "id": "b6b4e416-1917-46aa-bda7-8e60851596c8",
   "metadata": {},
   "source": [
    "## 3. Visualise and save the sleep data"
   ]
  },
  {
   "cell_type": "code",
   "execution_count": null,
   "id": "ccf186a5-81ed-478e-b4f5-e0bd4a0d86a4",
   "metadata": {},
   "outputs": [],
   "source": [
    "# The behavpy dataframe has some plotting functions built in to quantify and illustrate your data\n",
    "# use plot overtime to create an ethogram of your whole dataset\n",
    "# the solid line is the mean and the shaded area the 95% CI around the mean\n",
    "fig = df.plot_overtime(variable = 'asleep', title = 'Whole Dataset Ethogram of my first sample experiment')\n",
    "fig.show()"
   ]
  },
  {
   "cell_type": "code",
   "execution_count": null,
   "id": "86de8ffd-7319-4978-a930-a558023b39fe",
   "metadata": {},
   "outputs": [],
   "source": [
    "# usually you want to compare between experimental groups in your dataset \n",
    "# provide the parameter facet_col with a column in metadata to plot each group\n",
    "# you can also average the data over a day with the parameter wrapped\n",
    "\n",
    "# Click on the values in the legend to hide / show any particular dataset\n",
    "\n",
    "fig = df.plot_overtime(variable = 'asleep', wrapped = True, title = 'Ethogram by Experimental group')\n",
    "fig.show()"
   ]
  },
  {
   "cell_type": "code",
   "execution_count": null,
   "id": "436bb89f-7030-4f74-89d6-7ebbad6df4a1",
   "metadata": {},
   "outputs": [],
   "source": [
    "# Sometimes you dont want all the groups from a column in the metdata. To select a subset add a list of the wanted groups to the argument facet_arg\n",
    "fig = df.plot_overtime(variable = 'asleep', facet_col = 'exp_group', facet_arg = [1,3], title = 'Ethogram by a subset of Experimental group')\n",
    "fig.show()"
   ]
  },
  {
   "cell_type": "code",
   "execution_count": null,
   "id": "055da03f-fe7a-4d50-9847-cc22d845be7f",
   "metadata": {},
   "outputs": [],
   "source": [
    "# You can replace the labels in the legend with your own through the facet_labels parameter\n",
    "# If providing labels you must also provide arguments for facet_arg, as the function cannot guarantee the order will match the labels list\n",
    "# If your labels or metadata groups contain the words 'baseline', 'control', 'ctrl' then the colour of the plot will be changed to grey automatically\n",
    "zoomin_df = df.t_filter(start_time=72, end_time=132)\n",
    "fig = zoomin_df.plot_overtime(variable = 'asleep', facet_col = 'sleep_deprived', facet_arg = [True, False], facet_labels = ['Sleep Deprived', 'Control'], title = 'Ethogram of sleep deprived vs Control - Figure 1b')\n",
    "fig.show()"
   ]
  },
  {
   "cell_type": "code",
   "execution_count": null,
   "id": "116b7190",
   "metadata": {},
   "outputs": [],
   "source": [
    "# Sometimes you'll want to split your plots out than more than just one column, \n",
    "# \n",
    "# If you are using the plotly canvas, you can use the make_tile method\n",
    "# make_tile() will turn any behavpy plotting method into a subplot\n",
    "# Here we'll split the dataset by the experimental group and then the sleep deprived group \n",
    "# First we have to make the plotting method something we can add as an argument to a method, for which we'll partial()\n",
    "\n",
    "if df.canvas == 'plotly':\n",
    "    from functools import partial\n",
    "    fig_fun = partial(df.plot_overtime, variable = 'asleep', facet_col = 'sleep_deprived', facet_arg = [True, False], facet_labels = ['Sleep Deprived', 'Control'])\n",
    "    # Then me call the make_tile method with the fig_fun as an argument. The default subplot configuration is 1 colummn and as many rows as in the facet_tile set.\n",
    "    # However you set your own configuration with the parameters rows and cols, see docstring.\n",
    "\n",
    "    fig = df.make_tile(facet_tile = 'exp_group', plot_fun = fig_fun)\n",
    "    fig.show()\n",
    "\n",
    "    # Currently the make_tile plot can't have the light/dark annotations \n",
    "    # It also repeats the same colours per plot \n",
    "\n",
    "# This is currently not implemented in seaborn\n",
    "if df.canvas == 'seaborn':\n",
    "    pass"
   ]
  },
  {
   "cell_type": "code",
   "execution_count": null,
   "id": "7b5827d9-e2ad-4539-ba46-b1441ba493c9",
   "metadata": {},
   "outputs": [],
   "source": [
    "# There are addtional parameters for plot_overtime. \n",
    "# 1) Change the moving average window. We usally have the average moving window set to 30 mins. This changes the amount of points to apply the window to depending on the time diff per row, so a time diff of 10 will smooth over 180 points,\n",
    "        # a time diff of 60 seconds will be 30 points. Be careful as high smoothing windows will shift the plots to the right.\n",
    "# 2) Change the bars indicating light / dark phase at the bottom. The default is ZT 12 for lights off, but change it to any integer between 1 and 23 for alternative experiemnts.\n",
    "# 3) Change the length of a day for the light / dark phase bar with day_length, here we've changed it to 30 hours long with lights off at ZT 15\n",
    "# 4) Add grid lines from the the y axis to the plot\n",
    "fig = df.plot_overtime(variable = 'asleep', facet_col = 'sleep_deprived', facet_arg = [True, False], facet_labels = ['Sleep Deprived', 'Control'], title = 'Whole Dataset Ethogram with changes', avg_window = 60, day_length = 30, lights_off = 15, grids = True)\n"
   ]
  },
  {
   "cell_type": "code",
   "execution_count": null,
   "id": "ec96798a-386b-417a-a982-7f4fc8755f44",
   "metadata": {},
   "outputs": [],
   "source": [
    "# You can save your plots as image files, pdfs, and as html files\n",
    "# saving as a html file retains plotys interactive attribrutes and is best for when you want to view your plot on the whole screen and not just a small notebook output\n",
    "# to save call the function below on your returned fig object\n",
    "# Remember to change the location to the folder you are working in\n",
    "fig = df.plot_overtime(variable = 'asleep', facet_col = 'exp_group')\n",
    "\n",
    "if df.canvas == 'plotly':\n",
    "    df.save_figure(fig, './tutorial_plot.html')\n",
    "\n",
    "# for non html files you can specify the width and height of the saved figure (only for plotly)\n",
    "df.save_figure(fig, './tutorial_plot.pdf', width = 1500, height = 1500)\n",
    "df.save_figure(fig, './tutorial_plot.png', width = 2000, height = 1500)"
   ]
  },
  {
   "cell_type": "code",
   "execution_count": null,
   "id": "22e6447c-5e12-4678-bf2c-6b1d9d897ae2",
   "metadata": {},
   "outputs": [],
   "source": [
    "# Quantify your ethograms with plot_quantify\n",
    "# This method takes the same parameters as plot_overtime (except avg_window and circadian_night and wrapped)\n",
    "# Here we want to look at the baseline sleep so we filter it to before the experimental day\n",
    "# hover on the plot with your mouse to get the mean and 95% confidence intervals around it, as well as individual specimens values\n",
    "# Every quantifying plot returns a data frame with the plotted values per group for further statistical analysis\n",
    "\n",
    "temp_df = df.t_filter(start_time = 24, end_time = 96)\n",
    "fig, stats_quant = temp_df.plot_quantify(variable = 'asleep', facet_col = 'sleep_deprived', facet_arg = [True, False], facet_labels = ['Sleep Deprived', 'Control'], title = 'Quantification of Basline Sleep')\n",
    "fig.show()"
   ]
  },
  {
   "cell_type": "code",
   "execution_count": null,
   "id": "ca133675",
   "metadata": {},
   "outputs": [],
   "source": [
    "# The returned pandas dataframe has the mean values per experimental group\n",
    "# Row colunms are not related to each other, each column is a seperate list\n",
    "stats_quant"
   ]
  },
  {
   "attachments": {},
   "cell_type": "markdown",
   "id": "8d20e5be-ba10-4911-86ad-73b2ea8b3166",
   "metadata": {},
   "source": [
    "## 4. Quantify and compare"
   ]
  },
  {
   "cell_type": "code",
   "execution_count": null,
   "id": "c0a3554b-e305-4745-baf9-d422130af614",
   "metadata": {},
   "outputs": [],
   "source": [
    "# Here we want to look at the the rebound period (3 hours post) after sleep deprivation\n",
    "temp_df = df.t_filter(start_time = 120, end_time = 123)\n",
    "fig, stats_deprivation = temp_df.plot_quantify(variable = 'asleep', facet_col = 'sleep_deprived', facet_arg = [True, False], facet_labels = ['Sleep Deprived', 'Control'], title = 'Quantification of Rebound Sleep')\n",
    "fig.show()"
   ]
  },
  {
   "cell_type": "code",
   "execution_count": null,
   "id": "7ce08c18-4809-4702-ae97-fedfba9562d9",
   "metadata": {},
   "outputs": [],
   "source": [
    "# Often you'll want to seperate day and night data to see differences between the phases\n",
    "# Like plot_quantify, plot_day_night also takes the same parameters\n",
    "temp_df = df.t_filter(start_time = 120, end_time = 96)\n",
    "fig, stats_day_night = temp_df.plot_day_night(variable = 'asleep', facet_col = 'sleep_deprived', facet_labels=['ctrl', 'SD'],title = 'Quantification of Day and Night')\n",
    "fig.show()"
   ]
  },
  {
   "cell_type": "code",
   "execution_count": null,
   "id": "393c2db7-3a7b-4fd4-babb-adfc485e54b2",
   "metadata": {},
   "outputs": [],
   "source": [
    "# Sometimes you'll want to compare two or more variables from the data\n",
    "# The ethoscope can detect movement at a micro movmement level, differences in the ratios of micromovment to walking can help further describe a specimen\n",
    "# Compare varaibles has two y-axes, the first variable of the list will use the left y-axis and the last in the list will use the right y-axis. Any in the middle will use the left, so list accordingly\n",
    "temp_df = df.t_filter(start_time = 24, end_time = 96)\n",
    "#fig, stats_multiple = temp_df.plot_compare_variables(variables = ['micro', 'walk', 'max_velocity'], facet_col = 'sleep_deprived', facet_arg = [True, False], facet_labels = ['Sleep Deprived', 'Control'], title = 'Quantification of Micro movements Vs Walking')\n",
    "fig, stats_multiple = temp_df.plot_quantify(variable = ['micro', 'walk'], facet_col = 'sleep_deprived', facet_arg = [True, False], facet_labels = ['Sleep Deprived', 'Control'], title = 'Quantification of Micro movements Vs Walking')\n",
    "fig.show()"
   ]
  },
  {
   "attachments": {},
   "cell_type": "markdown",
   "id": "77a05bee",
   "metadata": {},
   "source": [
    "## 5. Altering figures before show()"
   ]
  },
  {
   "cell_type": "code",
   "execution_count": null,
   "id": "7638d12e",
   "metadata": {},
   "outputs": [],
   "source": [
    "# As you have the fig object you can edit all its attributes, so if you don' like our axis titles you can change them\n",
    "# The way you do this, depends on the type of canvas you want to use\n",
    "\n",
    "\n",
    "fig = df.plot_overtime(variable = 'asleep', facet_col = 'exp_group')\n",
    "\n",
    "if df.canvas == 'plotly':\n",
    "# Here's a few basic examples for the plotly canvas but head to https://plotly.com/python/reference/ for examples on what can be changed \n",
    "\n",
    "    # let's change the x-axis\n",
    "    fig['layout']['xaxis']['title'].update(text = 'new x-axis label', font = dict(color = 'red', size = 30))\n",
    "    # Now the y-axis\n",
    "    fig['layout']['yaxis']['title'].update(text = 'new y-axis label', font = dict(color = 'blue', size = 10))\n",
    "    fig.show()\n",
    "\n",
    "if df.canvas == 'seaborn':\n",
    "# And this is the same done in seaborn, which is based on matplotlib https://seaborn.pydata.org/\n",
    "\n",
    "    fig.axes[0].set_xlabel('new x-axis label', color='red', fontsize=30)\n",
    "    fig.axes[0].set_ylabel('new y-axis label', color='blue', fontsize=30)\n",
    "\n"
   ]
  },
  {
   "cell_type": "code",
   "execution_count": null,
   "id": "be06663d",
   "metadata": {},
   "outputs": [],
   "source": [
    "fig = df.plot_overtime(variable = 'asleep', facet_col = 'exp_group')\n",
    "\n",
    "# let's change the range and the position of the ticks\n",
    "\n",
    "if df.canvas == 'plotly':\n",
    "\n",
    "    fig['layout']['yaxis'].update(range = [0,2], dtick = 0.5)\n",
    "    fig.show()\n",
    "\n",
    "elif df.canvas == 'seaborn':\n",
    "\n",
    "    import numpy as np\n",
    "\n",
    "    fig.axes[0].set_ylim([0, 2])    # Set the limits of y-axis\n",
    "    fig.axes[0].yaxis.set_ticks(np.arange(0, 2.1, 0.5))    # Set tick locations\n"
   ]
  },
  {
   "attachments": {},
   "cell_type": "markdown",
   "id": "a4c67cae-ce6c-4127-b88f-e3ca989c8a05",
   "metadata": {},
   "source": [
    "## 6. Export the notebook for your publications"
   ]
  },
  {
   "cell_type": "code",
   "execution_count": null,
   "id": "2c1fed24-39c8-468f-a39a-0a3cde83b759",
   "metadata": {},
   "outputs": [],
   "source": [
    "# Notebooks are great for record keeping and good practice sharing\n",
    "# Export this entire notebook as HTML so that anyone can have access to your code and the figures it generates without even having to install python\n",
    "\n",
    "# File -> Save and Export Notebook As -> HTML"
   ]
  }
 ],
 "metadata": {
  "kernelspec": {
   "display_name": ".venv",
   "language": "python",
   "name": "python3"
  },
  "language_info": {
   "codemirror_mode": {
    "name": "ipython",
    "version": 3
   },
   "file_extension": ".py",
   "mimetype": "text/x-python",
   "name": "python",
   "nbconvert_exporter": "python",
   "pygments_lexer": "ipython3",
   "version": "3.11.3"
  },
  "vscode": {
   "interpreter": {
    "hash": "64774a8dfb1bd896c6efea99b1b4772a6458a05741a63e1cad6fc82c0bcee224"
   }
  }
 },
 "nbformat": 4,
 "nbformat_minor": 5
}
