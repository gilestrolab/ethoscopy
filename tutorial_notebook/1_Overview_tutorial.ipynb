{
 "cells": [
  {
   "cell_type": "markdown",
   "id": "5285f95c-d7d5-4317-8c61-5bbe68cfe75a",
   "metadata": {},
   "source": [
    "# Ethoscopy - first tutorial"
   ]
  },
  {
   "cell_type": "markdown",
   "id": "ef5052a3-fb5f-4e52-98c6-14d14ab86265",
   "metadata": {},
   "source": [
    "## 1. Load the dummy dataset"
   ]
  },
  {
   "cell_type": "code",
   "execution_count": 1,
   "id": "40f284e5-2ef0-483b-bff5-670f3b13eabf",
   "metadata": {},
   "outputs": [],
   "source": [
    "import ethoscopy as etho\n",
    "import pandas as pd"
   ]
  },
  {
   "cell_type": "code",
   "execution_count": null,
   "id": "b979d172-8b6b-4dd2-92a7-c3a7f4ac6993",
   "metadata": {},
   "outputs": [
    {
     "data": {
      "text/plain": [
       "'1.2.25'"
      ]
     },
     "execution_count": 2,
     "metadata": {},
     "output_type": "execute_result"
    }
   ],
   "source": [
    "# This tutorial requires version 1.1.7 or greater\n",
    "etho.__version__"
   ]
  },
  {
   "cell_type": "code",
   "execution_count": 2,
   "id": "402331bb-c6d7-4489-ab20-118a10f18a31",
   "metadata": {},
   "outputs": [],
   "source": [
    "# import this function to get the tutorial dataset\n",
    "from ethoscopy.misc.get_tutorials import get_tutorial"
   ]
  },
  {
   "cell_type": "code",
   "execution_count": 3,
   "id": "b78d4a60-25a1-4299-a4d0-c5b2baee598c",
   "metadata": {},
   "outputs": [
    {
     "ename": "ModuleNotFoundError",
     "evalue": "No module named 'ethoscopy.behavpy_HMM_class'",
     "output_type": "error",
     "traceback": [
      "\u001b[0;31m---------------------------------------------------------------------------\u001b[0m",
      "\u001b[0;31mModuleNotFoundError\u001b[0m                       Traceback (most recent call last)",
      "File \u001b[0;32m~/Desktop/ethoscopy/.venv/lib/python3.11/site-packages/pandas/io/pickle.py:208\u001b[0m, in \u001b[0;36mread_pickle\u001b[0;34m(filepath_or_buffer, compression, storage_options)\u001b[0m\n\u001b[1;32m    207\u001b[0m         warnings\u001b[38;5;241m.\u001b[39msimplefilter(\u001b[38;5;124m\"\u001b[39m\u001b[38;5;124mignore\u001b[39m\u001b[38;5;124m\"\u001b[39m, \u001b[38;5;167;01mWarning\u001b[39;00m)\n\u001b[0;32m--> 208\u001b[0m         \u001b[38;5;28;01mreturn\u001b[39;00m \u001b[43mpickle\u001b[49m\u001b[38;5;241;43m.\u001b[39;49m\u001b[43mload\u001b[49m\u001b[43m(\u001b[49m\u001b[43mhandles\u001b[49m\u001b[38;5;241;43m.\u001b[39;49m\u001b[43mhandle\u001b[49m\u001b[43m)\u001b[49m\n\u001b[1;32m    209\u001b[0m \u001b[38;5;28;01mexcept\u001b[39;00m excs_to_catch:\n\u001b[1;32m    210\u001b[0m     \u001b[38;5;66;03m# e.g.\u001b[39;00m\n\u001b[1;32m    211\u001b[0m     \u001b[38;5;66;03m#  \"No module named 'pandas.core.sparse.series'\"\u001b[39;00m\n\u001b[1;32m    212\u001b[0m     \u001b[38;5;66;03m#  \"Can't get attribute '__nat_unpickle' on <module 'pandas._libs.tslib\"\u001b[39;00m\n",
      "\u001b[0;31mModuleNotFoundError\u001b[0m: No module named 'ethoscopy.behavpy_HMM_class'",
      "\nDuring handling of the above exception, another exception occurred:\n",
      "\u001b[0;31mModuleNotFoundError\u001b[0m                       Traceback (most recent call last)",
      "Cell \u001b[0;32mIn[3], line 4\u001b[0m\n\u001b[1;32m      1\u001b[0m \u001b[38;5;66;03m# There's some dummy data within Ethoscopy for you to play with, use the function below with the argument 'overview' \u001b[39;00m\n\u001b[1;32m      2\u001b[0m \u001b[38;5;66;03m# to get the data and metadata that will work with this notebook\u001b[39;00m\n\u001b[1;32m      3\u001b[0m \u001b[38;5;66;03m# Usually you would have to load the data using the loading functions, head back to the gitbook turotial for information on that\u001b[39;00m\n\u001b[0;32m----> 4\u001b[0m data, metadata \u001b[38;5;241m=\u001b[39m \u001b[43mget_tutorial\u001b[49m\u001b[43m(\u001b[49m\u001b[38;5;124;43m'\u001b[39;49m\u001b[38;5;124;43moverview\u001b[39;49m\u001b[38;5;124;43m'\u001b[39;49m\u001b[43m)\u001b[49m\n",
      "File \u001b[0;32m~/Desktop/ethoscopy/src/ethoscopy/misc/get_tutorials.py:17\u001b[0m, in \u001b[0;36mget_tutorial\u001b[0;34m(data_type)\u001b[0m\n\u001b[1;32m     14\u001b[0m data_path \u001b[38;5;241m=\u001b[39m this_dir \u001b[38;5;241m/\u001b[39m \u001b[38;5;124mf\u001b[39m\u001b[38;5;124m'\u001b[39m\u001b[38;5;124mtutorial_data/\u001b[39m\u001b[38;5;132;01m{\u001b[39;00mdata_type\u001b[38;5;132;01m}\u001b[39;00m\u001b[38;5;124m_data.pkl\u001b[39m\u001b[38;5;124m'\u001b[39m\n\u001b[1;32m     15\u001b[0m meta_path \u001b[38;5;241m=\u001b[39m this_dir \u001b[38;5;241m/\u001b[39m \u001b[38;5;124mf\u001b[39m\u001b[38;5;124m'\u001b[39m\u001b[38;5;124mtutorial_data/\u001b[39m\u001b[38;5;132;01m{\u001b[39;00mdata_type\u001b[38;5;132;01m}\u001b[39;00m\u001b[38;5;124m_meta.pkl\u001b[39m\u001b[38;5;124m'\u001b[39m\n\u001b[0;32m---> 17\u001b[0m \u001b[38;5;28;01mreturn\u001b[39;00m \u001b[43mpd\u001b[49m\u001b[38;5;241;43m.\u001b[39;49m\u001b[43mread_pickle\u001b[49m\u001b[43m(\u001b[49m\u001b[43mdata_path\u001b[49m\u001b[43m)\u001b[49m, pd\u001b[38;5;241m.\u001b[39mread_pickle(meta_path)\n",
      "File \u001b[0;32m~/Desktop/ethoscopy/.venv/lib/python3.11/site-packages/pandas/io/pickle.py:213\u001b[0m, in \u001b[0;36mread_pickle\u001b[0;34m(filepath_or_buffer, compression, storage_options)\u001b[0m\n\u001b[1;32m    208\u001b[0m             \u001b[38;5;28;01mreturn\u001b[39;00m pickle\u001b[38;5;241m.\u001b[39mload(handles\u001b[38;5;241m.\u001b[39mhandle)\n\u001b[1;32m    209\u001b[0m     \u001b[38;5;28;01mexcept\u001b[39;00m excs_to_catch:\n\u001b[1;32m    210\u001b[0m         \u001b[38;5;66;03m# e.g.\u001b[39;00m\n\u001b[1;32m    211\u001b[0m         \u001b[38;5;66;03m#  \"No module named 'pandas.core.sparse.series'\"\u001b[39;00m\n\u001b[1;32m    212\u001b[0m         \u001b[38;5;66;03m#  \"Can't get attribute '__nat_unpickle' on <module 'pandas._libs.tslib\"\u001b[39;00m\n\u001b[0;32m--> 213\u001b[0m         \u001b[38;5;28;01mreturn\u001b[39;00m \u001b[43mpc\u001b[49m\u001b[38;5;241;43m.\u001b[39;49m\u001b[43mload\u001b[49m\u001b[43m(\u001b[49m\u001b[43mhandles\u001b[49m\u001b[38;5;241;43m.\u001b[39;49m\u001b[43mhandle\u001b[49m\u001b[43m,\u001b[49m\u001b[43m \u001b[49m\u001b[43mencoding\u001b[49m\u001b[38;5;241;43m=\u001b[39;49m\u001b[38;5;28;43;01mNone\u001b[39;49;00m\u001b[43m)\u001b[49m\n\u001b[1;32m    214\u001b[0m \u001b[38;5;28;01mexcept\u001b[39;00m \u001b[38;5;167;01mUnicodeDecodeError\u001b[39;00m:\n\u001b[1;32m    215\u001b[0m     \u001b[38;5;66;03m# e.g. can occur for files written in py27; see GH#28645 and GH#31988\u001b[39;00m\n\u001b[1;32m    216\u001b[0m     \u001b[38;5;28;01mreturn\u001b[39;00m pc\u001b[38;5;241m.\u001b[39mload(handles\u001b[38;5;241m.\u001b[39mhandle, encoding\u001b[38;5;241m=\u001b[39m\u001b[38;5;124m\"\u001b[39m\u001b[38;5;124mlatin-1\u001b[39m\u001b[38;5;124m\"\u001b[39m)\n",
      "File \u001b[0;32m~/Desktop/ethoscopy/.venv/lib/python3.11/site-packages/pandas/compat/pickle_compat.py:275\u001b[0m, in \u001b[0;36mload\u001b[0;34m(fh, encoding, is_verbose)\u001b[0m\n\u001b[1;32m    272\u001b[0m     \u001b[38;5;66;03m# \"Unpickler\" has no attribute \"is_verbose\"  [attr-defined]\u001b[39;00m\n\u001b[1;32m    273\u001b[0m     up\u001b[38;5;241m.\u001b[39mis_verbose \u001b[38;5;241m=\u001b[39m is_verbose  \u001b[38;5;66;03m# type: ignore[attr-defined]\u001b[39;00m\n\u001b[0;32m--> 275\u001b[0m     \u001b[38;5;28;01mreturn\u001b[39;00m \u001b[43mup\u001b[49m\u001b[38;5;241;43m.\u001b[39;49m\u001b[43mload\u001b[49m\u001b[43m(\u001b[49m\u001b[43m)\u001b[49m\n\u001b[1;32m    276\u001b[0m \u001b[38;5;28;01mexcept\u001b[39;00m (\u001b[38;5;167;01mValueError\u001b[39;00m, \u001b[38;5;167;01mTypeError\u001b[39;00m):\n\u001b[1;32m    277\u001b[0m     \u001b[38;5;28;01mraise\u001b[39;00m\n",
      "File \u001b[0;32m/usr/lib/python3.11/pickle.py:1213\u001b[0m, in \u001b[0;36m_Unpickler.load\u001b[0;34m(self)\u001b[0m\n\u001b[1;32m   1211\u001b[0m             \u001b[38;5;28;01mraise\u001b[39;00m \u001b[38;5;167;01mEOFError\u001b[39;00m\n\u001b[1;32m   1212\u001b[0m         \u001b[38;5;28;01massert\u001b[39;00m \u001b[38;5;28misinstance\u001b[39m(key, bytes_types)\n\u001b[0;32m-> 1213\u001b[0m         \u001b[43mdispatch\u001b[49m\u001b[43m[\u001b[49m\u001b[43mkey\u001b[49m\u001b[43m[\u001b[49m\u001b[38;5;241;43m0\u001b[39;49m\u001b[43m]\u001b[49m\u001b[43m]\u001b[49m\u001b[43m(\u001b[49m\u001b[38;5;28;43mself\u001b[39;49m\u001b[43m)\u001b[49m\n\u001b[1;32m   1214\u001b[0m \u001b[38;5;28;01mexcept\u001b[39;00m _Stop \u001b[38;5;28;01mas\u001b[39;00m stopinst:\n\u001b[1;32m   1215\u001b[0m     \u001b[38;5;28;01mreturn\u001b[39;00m stopinst\u001b[38;5;241m.\u001b[39mvalue\n",
      "File \u001b[0;32m/usr/lib/python3.11/pickle.py:1538\u001b[0m, in \u001b[0;36m_Unpickler.load_stack_global\u001b[0;34m(self)\u001b[0m\n\u001b[1;32m   1536\u001b[0m \u001b[38;5;28;01mif\u001b[39;00m \u001b[38;5;28mtype\u001b[39m(name) \u001b[38;5;129;01mis\u001b[39;00m \u001b[38;5;129;01mnot\u001b[39;00m \u001b[38;5;28mstr\u001b[39m \u001b[38;5;129;01mor\u001b[39;00m \u001b[38;5;28mtype\u001b[39m(module) \u001b[38;5;129;01mis\u001b[39;00m \u001b[38;5;129;01mnot\u001b[39;00m \u001b[38;5;28mstr\u001b[39m:\n\u001b[1;32m   1537\u001b[0m     \u001b[38;5;28;01mraise\u001b[39;00m UnpicklingError(\u001b[38;5;124m\"\u001b[39m\u001b[38;5;124mSTACK_GLOBAL requires str\u001b[39m\u001b[38;5;124m\"\u001b[39m)\n\u001b[0;32m-> 1538\u001b[0m \u001b[38;5;28mself\u001b[39m\u001b[38;5;241m.\u001b[39mappend(\u001b[38;5;28;43mself\u001b[39;49m\u001b[38;5;241;43m.\u001b[39;49m\u001b[43mfind_class\u001b[49m\u001b[43m(\u001b[49m\u001b[43mmodule\u001b[49m\u001b[43m,\u001b[49m\u001b[43m \u001b[49m\u001b[43mname\u001b[49m\u001b[43m)\u001b[49m)\n",
      "File \u001b[0;32m~/Desktop/ethoscopy/.venv/lib/python3.11/site-packages/pandas/compat/pickle_compat.py:206\u001b[0m, in \u001b[0;36mUnpickler.find_class\u001b[0;34m(self, module, name)\u001b[0m\n\u001b[1;32m    204\u001b[0m key \u001b[38;5;241m=\u001b[39m (module, name)\n\u001b[1;32m    205\u001b[0m module, name \u001b[38;5;241m=\u001b[39m _class_locations_map\u001b[38;5;241m.\u001b[39mget(key, key)\n\u001b[0;32m--> 206\u001b[0m \u001b[38;5;28;01mreturn\u001b[39;00m \u001b[38;5;28;43msuper\u001b[39;49m\u001b[43m(\u001b[49m\u001b[43m)\u001b[49m\u001b[38;5;241;43m.\u001b[39;49m\u001b[43mfind_class\u001b[49m\u001b[43m(\u001b[49m\u001b[43mmodule\u001b[49m\u001b[43m,\u001b[49m\u001b[43m \u001b[49m\u001b[43mname\u001b[49m\u001b[43m)\u001b[49m\n",
      "File \u001b[0;32m/usr/lib/python3.11/pickle.py:1580\u001b[0m, in \u001b[0;36m_Unpickler.find_class\u001b[0;34m(self, module, name)\u001b[0m\n\u001b[1;32m   1578\u001b[0m     \u001b[38;5;28;01melif\u001b[39;00m module \u001b[38;5;129;01min\u001b[39;00m _compat_pickle\u001b[38;5;241m.\u001b[39mIMPORT_MAPPING:\n\u001b[1;32m   1579\u001b[0m         module \u001b[38;5;241m=\u001b[39m _compat_pickle\u001b[38;5;241m.\u001b[39mIMPORT_MAPPING[module]\n\u001b[0;32m-> 1580\u001b[0m \u001b[38;5;28;43m__import__\u001b[39;49m\u001b[43m(\u001b[49m\u001b[43mmodule\u001b[49m\u001b[43m,\u001b[49m\u001b[43m \u001b[49m\u001b[43mlevel\u001b[49m\u001b[38;5;241;43m=\u001b[39;49m\u001b[38;5;241;43m0\u001b[39;49m\u001b[43m)\u001b[49m\n\u001b[1;32m   1581\u001b[0m \u001b[38;5;28;01mif\u001b[39;00m \u001b[38;5;28mself\u001b[39m\u001b[38;5;241m.\u001b[39mproto \u001b[38;5;241m>\u001b[39m\u001b[38;5;241m=\u001b[39m \u001b[38;5;241m4\u001b[39m:\n\u001b[1;32m   1582\u001b[0m     \u001b[38;5;28;01mreturn\u001b[39;00m _getattribute(sys\u001b[38;5;241m.\u001b[39mmodules[module], name)[\u001b[38;5;241m0\u001b[39m]\n",
      "\u001b[0;31mModuleNotFoundError\u001b[0m: No module named 'ethoscopy.behavpy_HMM_class'"
     ]
    }
   ],
   "source": [
    "# There's some dummy data within Ethoscopy for you to play with, use the function below with the argument 'overview' \n",
    "# to get the data and metadata that will work with this notebook\n",
    "# Usually you would have to load the data using the loading functions, head back to the gitbook turotial for information on that\n",
    "data, metadata = get_tutorial('overview')"
   ]
  },
  {
   "cell_type": "code",
   "execution_count": null,
   "id": "20cb03a2-4b54-4cde-a22c-05561c58484f",
   "metadata": {},
   "outputs": [],
   "source": [
    "# this combines your data and metadata into a behavpy dataframe, remember to keep the order data, metadata, otherwise it will cause problems later down the line\n",
    "# new addtion as of 1.30, you can now choose the colour palette for plotly, see https://plotly.com/python/discrete-color/ and the colors.qualitative section for the names of diffrent colour sets\n",
    "# the default is the 'Safe' colour palette and 'Dark24' for the longer set (in case you need 24 colours). \n",
    "# the parameter check is used to see if the ids of the specimen in the data match those in the metadata. It also removes some columns that are not needed now you've downloaded the data\n",
    "df = etho.behavpy(data, metadata, colour = 'Bold', check = True)"
   ]
  },
  {
   "cell_type": "code",
   "execution_count": null,
   "id": "46061498-b385-4417-8b88-a29589ce18e1",
   "metadata": {},
   "outputs": [],
   "source": [
    "# to save on time when looking back on data, save the behavpy dataframe as a pickle file and just load that the subsequent times\n",
    "df.to_pickle('./tutorial_dataframe.pkl') # replace the path string with your own"
   ]
  },
  {
   "cell_type": "code",
   "execution_count": null,
   "id": "be811c56-6243-4a60-8a44-51577c903beb",
   "metadata": {},
   "outputs": [],
   "source": [
    "# use this pandas method to load your pickle file\n",
    "# Once saved and loading below you can skip the steps above\n",
    "df = pd.read_pickle('./tutorial_dataframe.pkl') # replace with the above"
   ]
  },
  {
   "cell_type": "code",
   "execution_count": null,
   "id": "2a814da5-2419-4a6a-9c74-b9babb661030",
   "metadata": {},
   "outputs": [],
   "source": [
    "# this method will display an excerpt of both the metadata and data together for you to view\n",
    "df.display()"
   ]
  },
  {
   "cell_type": "code",
   "execution_count": null,
   "id": "9e79a956-eb68-4ccd-96df-ae42df9e78d6",
   "metadata": {},
   "outputs": [],
   "source": [
    "# you can also just view the data on its own\n",
    "# python notebooks will print the last line of code without the print function\n",
    "# If you want to print out of this sequence, use the print function\n",
    "df\n",
    "# or print(df)"
   ]
  },
  {
   "cell_type": "code",
   "execution_count": null,
   "id": "0cf28f03-f58f-42e5-934a-6c57cfb45f6f",
   "metadata": {},
   "outputs": [],
   "source": [
    "# or just the metadata\n",
    "df.meta"
   ]
  },
  {
   "cell_type": "code",
   "execution_count": null,
   "id": "8e29b8b9-6eb4-469e-b3f4-7e733233001c",
   "metadata": {},
   "outputs": [],
   "source": [
    "# this function gives you summary statistics of the whole experiment\n",
    "df.summary()"
   ]
  },
  {
   "cell_type": "code",
   "execution_count": null,
   "id": "a3ce44c3-01b4-4999-a6b8-626cfedeedab",
   "metadata": {},
   "outputs": [],
   "source": [
    "# change the argument of detailed to True for information per sepcimen\n",
    "df.summary(detailed = True)"
   ]
  },
  {
   "cell_type": "markdown",
   "id": "d2ad6595-e31e-48ed-a9d3-18c0253f1646",
   "metadata": {},
   "source": [
    "## 2. Curate the data"
   ]
  },
  {
   "cell_type": "code",
   "execution_count": null,
   "id": "672aa474-c6e6-452c-b672-7d0f503b861d",
   "metadata": {},
   "outputs": [],
   "source": [
    "# Heatmaps a good way to get an overview of the experiment\n",
    "# you can identify quickly any dead or abnormal specimens\n",
    "# Ethoscopy uses plotly to generate all data meaning they are interactive and you can zoom by drawing a zooming rectangle \n",
    "# Click on the autoscale icon on the top right corner of the image to reset the view to 100% zoom\n",
    "\n",
    "# Plots will be returned to you from the method/function, its convention to save this variable as fig in each cell\n",
    "# In the next line juist put fig.show() for the plot to appear below the cell\n",
    "fig = df.heatmap(variable = 'asleep')\n",
    "fig.show()"
   ]
  },
  {
   "cell_type": "code",
   "execution_count": null,
   "id": "2fcf5c23-0c87-4926-a15a-a7ccf22a1470",
   "metadata": {},
   "outputs": [],
   "source": [
    "# calling this method will remove the data for specimens that havent moved for a long time. It retains the data from before the specimen has \"died\"\n",
    "df = df.curate_dead_animals()"
   ]
  },
  {
   "cell_type": "code",
   "execution_count": null,
   "id": "7d9f0bc5-e187-4fcd-a8bf-3474fbf861c2",
   "metadata": {},
   "outputs": [],
   "source": [
    "# you can filter your data by time to restrict it to periods of interest or to remove data at the start and end which is fragmented\n",
    "# here we dont need the half data of the first day and anything beyond the day after the sleep deprivation experiment\n",
    "df = df.t_filter(start_time = 24, end_time = 144)"
   ]
  },
  {
   "cell_type": "code",
   "execution_count": null,
   "id": "08d3167f-fecd-4a24-9220-5b101aae061e",
   "metadata": {},
   "outputs": [],
   "source": [
    "# call heatmap again to see the changes done above\n",
    "fig = df.heatmap(variable = 'asleep')\n",
    "fig.show()"
   ]
  },
  {
   "cell_type": "code",
   "execution_count": null,
   "id": "17a4aa35-5607-4214-8ec6-b87c9d93183a",
   "metadata": {},
   "outputs": [],
   "source": [
    "# You can also limit your visualisation to a subgroup of animals.\n",
    "# For instance, we may want to show only animals in the experiment that underwent sleep deprivation\n",
    "fig = df.xmv('sleep_deprived', True).heatmap( variable = 'asleep')\n",
    "fig.show()"
   ]
  },
  {
   "cell_type": "code",
   "execution_count": null,
   "id": "c7db10f0-e62b-4009-8347-0270736d13d4",
   "metadata": {},
   "outputs": [],
   "source": [
    "# Or those who did not\n",
    "fig = df.xmv('sleep_deprived', False).heatmap( variable = 'asleep')\n",
    "fig.show()"
   ]
  },
  {
   "cell_type": "code",
   "execution_count": null,
   "id": "aa2abdbc-3d09-4b71-acad-f24af6eafd64",
   "metadata": {},
   "outputs": [],
   "source": [
    "# everything looks mostly fine, however there is one specimen - the bottom one on the control group - that appears to be almost always asleep, \n",
    "# but has not been removed by the curate_dead_animals() method. This could be just an abnormal specimen or an issue with recording.\n",
    "# If, after investigation, this turns out to be an artifact or a sick animal, it is OK to remove this specimen.\n",
    "# Using a notebook like this one will help you keeping track of data curation and data removal. \n",
    "# Keeping a log of which animals have to be removed and why is a very important aspect of data handling.\n",
    "\n",
    "# To do so, zoom in on the row of interest in the heatmap and get the id from the left hand side, for this one it's 2016-04-04_17-39-05_009aee|02\n",
    "# once we have the id we can remove it with the remove method\n",
    "\n",
    "df = df.remove('id', '2016-04-04_17-39-05_009aee|02')\n",
    "\n",
    "# lets call the heatmap once again to see if it's gone\n",
    "fig = df.heatmap(variable = 'asleep')\n",
    "fig.show()"
   ]
  },
  {
   "cell_type": "markdown",
   "id": "b6b4e416-1917-46aa-bda7-8e60851596c8",
   "metadata": {},
   "source": [
    "## 3. Visualise and save the sleep data"
   ]
  },
  {
   "cell_type": "code",
   "execution_count": null,
   "id": "ccf186a5-81ed-478e-b4f5-e0bd4a0d86a4",
   "metadata": {},
   "outputs": [],
   "source": [
    "# The behavpy dataframe has some plotting functions built in to quantify and illustrate your data\n",
    "# use plot overtime to create an ethogram of your whole dataset\n",
    "# the solid line is the mean and the shaded area the 95% CI around the mean\n",
    "fig = df.plot_overtime(variable = 'asleep', title = 'Whole Dataset Ethogram of my first sample experiment')\n",
    "fig.show()"
   ]
  },
  {
   "cell_type": "code",
   "execution_count": null,
   "id": "86de8ffd-7319-4978-a930-a558023b39fe",
   "metadata": {},
   "outputs": [],
   "source": [
    "# usually you want to compare between experimental groups in your dataset \n",
    "# provide the parameter facet_col with a column in metadata to plot each group\n",
    "# you can also average the data over a day with the parameter wrapped\n",
    "\n",
    "# Click on the values in the legend to hide / show any particular dataset\n",
    "\n",
    "fig = df.plot_overtime(variable = 'asleep', wrapped = True, title = 'Ethogram by Experimental group')\n",
    "fig.show()"
   ]
  },
  {
   "cell_type": "code",
   "execution_count": null,
   "id": "436bb89f-7030-4f74-89d6-7ebbad6df4a1",
   "metadata": {},
   "outputs": [],
   "source": [
    "# Sometimes you dont want all the groups from a column in the metdata. To select a subset add a list of the wanted groups to the argument facet_arg\n",
    "fig = df.plot_overtime(variable = 'asleep', facet_col = 'exp_group', facet_arg = [1,3], title = 'Ethogram by a subset of Experimental group')\n",
    "fig.show()"
   ]
  },
  {
   "cell_type": "code",
   "execution_count": null,
   "id": "eb5d4fdb",
   "metadata": {},
   "outputs": [],
   "source": [
    "# At the start we mentioned that you can choose the colour palette you want, so we'll demonstrate here how it changes\n",
    "# first we need to make a new instance of a behavpy dataframe with a different colour \n",
    "col_df = etho.behavpy(data, metadata, colour = 'Vivid', check = True)\n",
    "fig = col_df.plot_overtime(variable = 'asleep', facet_col = 'exp_group', title = 'Ethogram witha new colour palette')\n",
    "fig.show()"
   ]
  },
  {
   "cell_type": "code",
   "execution_count": null,
   "id": "055da03f-fe7a-4d50-9847-cc22d845be7f",
   "metadata": {},
   "outputs": [],
   "source": [
    "# You can replace the labels in the legend with your own through the facet_labels parameter\n",
    "# If providing labels you must also provide arguments for facet_arg, as the function cannot guarantee the order will match the labels list\n",
    "# If your labels or metadata groups contain the words 'baseline', 'control', 'ctrl' then the colour of the plot will be changed to grey automatically\n",
    "fig = df.plot_overtime(variable = 'asleep', facet_col = 'sleep_deprived', facet_arg = [True, False], facet_labels = ['Sleep Deprived', 'Control'], title = 'Ethogram of sleep deprived Vs Contorl')\n",
    "fig.show()"
   ]
  },
  {
   "cell_type": "code",
   "execution_count": null,
   "id": "116b7190",
   "metadata": {},
   "outputs": [],
   "source": [
    "# Sometimes you'll want to split your plots out than more than just one column, for this you can use the make_tile method\n",
    "# make_tile() will turn any behavpy plotting method into a subplot\n",
    "# Here we'll split the dataset by the experimental group and then the sleep deprived group \n",
    "# First we have to make the plotting method something we can add as an argument to a method, for which we'll partial()\n",
    "from functools import partial\n",
    "fig_fun = partial(df.plot_overtime, wrapped = True, variable = 'asleep', facet_col = 'sleep_deprived', facet_arg = [True, False], facet_labels = ['Sleep Deprived', 'Control'])\n",
    "# Then me call the make_tile method with the fig_fun as an argument. The default subplot configuration is 1 colummn and as many rows as in the facet_tile set.\n",
    "# However you set your own configuration with the parameters rows and cols, see docstring.\n",
    "\n",
    "fig = df.make_tile(facet_tile = 'exp_group', plot_fun = fig_fun)\n",
    "fig.show()\n",
    "\n",
    "# Currently the make_tile plot can't have the light/dark annotations \n",
    "# It also repeats the same colours per plot "
   ]
  },
  {
   "cell_type": "code",
   "execution_count": null,
   "id": "7b5827d9-e2ad-4539-ba46-b1441ba493c9",
   "metadata": {},
   "outputs": [],
   "source": [
    "# There are addtional parameters for plot_overtime. \n",
    "# 1) Change the moving average window. We usally have the average moving window set to 30 mins, so with 60 second time windows that gives an average window of 30. If you have 10 second bins time window per row\n",
    "# that means it should be 180. Increasing the number will smooth out the lines of the plot\n",
    "# 2) Change the bars indicating light / dark phase at the bottom. The default is ZT 12 for lights off, but change it to any integer between 1 and 23 for alternative experiemnts.\n",
    "# 3) Change the length of a day for the light / dark phase bar with day_length, here we've changed it to 30 hours long with lights off at ZT 15\n",
    "# 4) Add grid lines from the the y axis to the plot\n",
    "fig = df.plot_overtime(variable = 'asleep', facet_col = 'sleep_deprived', facet_arg = [True, False], facet_labels = ['Sleep Deprived', 'Control'], title = 'Whole Dataset Ethogram with changes', avg_window = 180, day_length = 30, lights_off = 15, grids = True)\n",
    "fig.show()"
   ]
  },
  {
   "cell_type": "code",
   "execution_count": null,
   "id": "ec96798a-386b-417a-a982-7f4fc8755f44",
   "metadata": {},
   "outputs": [],
   "source": [
    "# You can save your plots as image files, pdfs, and as html files\n",
    "# saving as a html file retains plotys interactive attribrutes and is best for when you want to view your plot on the whole screen and not just a small notebook output\n",
    "# to save call the function below on your returned fig object\n",
    "# Remember to change the location to the folder you are working in\n",
    "fig = df.plot_overtime(variable = 'asleep', facet_col = 'exp_group')\n",
    "\n",
    "etho.save_figure(fig, './tutorial_plot.html')\n",
    "# for non html files you can specify the width and height of the saved figure\n",
    "etho.save_figure(fig, './tutorial_plot.pdf', width = 1500, height = 1500)\n",
    "etho.save_figure(fig, './tutorial_plot.png', width = 2000, height = 1500)"
   ]
  },
  {
   "cell_type": "code",
   "execution_count": null,
   "id": "22e6447c-5e12-4678-bf2c-6b1d9d897ae2",
   "metadata": {},
   "outputs": [],
   "source": [
    "# Quantify your ethograms with plot_quantify\n",
    "# This method takes the same parameters as plot_overtime (except avg_window and circadian_night and wrapped)\n",
    "# Here we want to look at the baseline sleep so we filter it to before the experimental day\n",
    "# hover on the plot with your mouse to get the mean and 95% confidence intervals around it, as well as individual specimens values\n",
    "# Every quantifying plot returns a data frame with the plotted values per group for further statistical analysis\n",
    "\n",
    "temp_df = df.t_filter(start_time = 24, end_time = 96)\n",
    "fig, stats_quant = temp_df.plot_quantify(variable = 'asleep', facet_col = 'sleep_deprived', facet_arg = [True, False], facet_labels = ['Sleep Deprived', 'Control'], title = 'Quantification of Basline Sleep')\n",
    "fig.show()"
   ]
  },
  {
   "cell_type": "code",
   "execution_count": null,
   "id": "ca133675",
   "metadata": {},
   "outputs": [],
   "source": [
    "# The returned pandas dataframe has the mean values per experimental group\n",
    "# Data in the same rows are not related to each other, each column is a seperate list\n",
    "stats_quant"
   ]
  },
  {
   "cell_type": "markdown",
   "id": "8d20e5be-ba10-4911-86ad-73b2ea8b3166",
   "metadata": {},
   "source": [
    "## 4. Quantify and compare"
   ]
  },
  {
   "cell_type": "code",
   "execution_count": null,
   "id": "c0a3554b-e305-4745-baf9-d422130af614",
   "metadata": {},
   "outputs": [],
   "source": [
    "# Here we want to look at the the rebound period (3 hours post) after sleep deprivation\n",
    "temp_df = df.t_filter(start_time = 120, end_time = 123)\n",
    "fig, stats_deprivation = temp_df.plot_quantify(variable = 'asleep', facet_col = 'sleep_deprived', facet_arg = [True, False], facet_labels = ['Sleep Deprived', 'Control'], title = 'Quantification of Rebound Sleep')\n",
    "fig.show()"
   ]
  },
  {
   "cell_type": "code",
   "execution_count": null,
   "id": "7ce08c18-4809-4702-ae97-fedfba9562d9",
   "metadata": {},
   "outputs": [],
   "source": [
    "# Often you'll want to seperate day and night data to see differences between the phases\n",
    "# Like plot_quantify, plot_day_night also takes the same parameters\n",
    "temp_df = df.t_filter(start_time = 24, end_time = 96)\n",
    "fig, stats_day_night = temp_df.plot_day_night(variable = 'asleep', facet_col = 'sleep_deprived', facet_arg = [True, False], facet_labels = ['Sleep Deprived', 'Control'], title = 'Quantification of Day and Night')\n",
    "fig.show()"
   ]
  },
  {
   "cell_type": "code",
   "execution_count": null,
   "id": "393c2db7-3a7b-4fd4-babb-adfc485e54b2",
   "metadata": {},
   "outputs": [],
   "source": [
    "# Sometimes you'll want to compare two or more variables from the data\n",
    "# The ethoscope can detect movement at a micro movmement level, differences in the ratios of micromovment to walking can help further describe a specimen\n",
    "# Compare varaibles has two y-axes, the first variable of the list will use the left y-axis and the last in the list will use the right y-axis. Any in the middle will use the left, so list accordingly\n",
    "temp_df = df.t_filter(start_time = 24, end_time = 96)\n",
    "fig, stats_multiple = temp_df.plot_compare_variables(variables = ['micro', 'walk', 'max_velocity'], facet_col = 'sleep_deprived', facet_arg = [True, False], facet_labels = ['Sleep Deprived', 'Control'], title = 'Quantification of Micro movements Vs Walking')\n",
    "fig.show()"
   ]
  },
  {
   "cell_type": "markdown",
   "id": "77a05bee",
   "metadata": {},
   "source": [
    "## 5. Altering figures before show()"
   ]
  },
  {
   "cell_type": "code",
   "execution_count": null,
   "id": "7638d12e",
   "metadata": {},
   "outputs": [],
   "source": [
    "# As you have the fig object you can edit all its attributes, so if you don' like our axis titles you can change them\n",
    "# Here's a few basic examples, but head to https://plotly.com/python/reference/ for examples on what can be changed \n",
    "fig = df.plot_overtime(variable = 'asleep', facet_col = 'exp_group')\n",
    "\n",
    "# let's change the x-axis\n",
    "fig['layout']['xaxis']['title'].update(text = 'new x-axis label', font = dict(color = 'red', size = 30))\n",
    "# Now the y-axis\n",
    "fig['layout']['yaxis']['title'].update(text = 'new y-axis label', font = dict(color = 'blue', size = 10))\n",
    "fig.show()"
   ]
  },
  {
   "cell_type": "code",
   "execution_count": null,
   "id": "be06663d",
   "metadata": {},
   "outputs": [],
   "source": [
    "fig = df.plot_overtime(variable = 'asleep', facet_col = 'exp_group')\n",
    "\n",
    "# let's change the range and the position of the ticks\n",
    "fig['layout']['yaxis'].update(range = [0,2], dtick = 0.5)\n",
    "fig.show()"
   ]
  },
  {
   "cell_type": "markdown",
   "id": "a4c67cae-ce6c-4127-b88f-e3ca989c8a05",
   "metadata": {},
   "source": [
    "## 6. Export the notebook for your publications"
   ]
  },
  {
   "cell_type": "code",
   "execution_count": null,
   "id": "2c1fed24-39c8-468f-a39a-0a3cde83b759",
   "metadata": {},
   "outputs": [],
   "source": [
    "# Notebooks are great for record keeping and good practice sharing\n",
    "# Export this entire notebook as HTML so that anyone can have access to your code and the figures it generates without even having to install python\n",
    "\n",
    "# File -> Save and Export Notebook As -> HTML"
   ]
  }
 ],
 "metadata": {
  "kernelspec": {
   "display_name": ".venv",
   "language": "python",
   "name": "python3"
  },
  "language_info": {
   "codemirror_mode": {
    "name": "ipython",
    "version": 3
   },
   "file_extension": ".py",
   "mimetype": "text/x-python",
   "name": "python",
   "nbconvert_exporter": "python",
   "pygments_lexer": "ipython3",
   "version": "3.11.8"
  },
  "vscode": {
   "interpreter": {
    "hash": "64774a8dfb1bd896c6efea99b1b4772a6458a05741a63e1cad6fc82c0bcee224"
   }
  }
 },
 "nbformat": 4,
 "nbformat_minor": 5
}
