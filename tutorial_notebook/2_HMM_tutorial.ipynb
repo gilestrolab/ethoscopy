{
 "cells": [
  {
   "cell_type": "markdown",
   "id": "d104696c",
   "metadata": {},
   "source": [
    "# Ethoscopy - HMM tutorial"
   ]
  },
  {
   "cell_type": "markdown",
   "id": "4f6b62f5",
   "metadata": {},
   "source": [
    "This tutorial assumes you have some basic knowledge of Ethoscopy, if you don't please head to the overview tutorial first.\n",
    "\n",
    "For this tutorial we will be training a Hidden Markov Model (HMM) using an ethoscopy wrapper class for the python package Hmmlearn, see https://hmmlearn.readthedocs.io/en/latest/ for more details on what this excellent package can do. A good introduction to HMM's is available here: https://web.stanford.edu/~jurafsky/slp3/A.pdf\n",
    "\n",
    "Ethoscopy adapts their Categorical HMM, as such the model can only be trained using discrete data represented as integers starting with 0 as the first. I.e. \"Cat 1 = 0, Cat 2 = 1, ...\"\n",
    "\n",
    "At the Gilestro lab we train our model using movement data from the Ethoscope system, using tested parameter limits for velocity as movement we categorise movement as either True or False, or 1 or 0. During the setup we found data binned to 60 seconds (1 min) and then trained best recapitulated the sleep of CS drosophila."
   ]
  },
  {
   "cell_type": "markdown",
   "id": "cffaa42c",
   "metadata": {},
   "source": [
    "## 1. Load the dummy dataset"
   ]
  },
  {
   "cell_type": "code",
   "execution_count": null,
   "id": "69ed1572",
   "metadata": {},
   "outputs": [],
   "source": [
    "import pickle\n",
    "import ethoscopy as etho\n",
    "import numpy as np\n",
    "import pandas as pd"
   ]
  },
  {
   "cell_type": "code",
   "execution_count": null,
   "id": "b979d172-8b6b-4dd2-92a7-c3a7f4ac6993",
   "metadata": {},
   "outputs": [],
   "source": [
    "# This tutorial required version 1.1.8 or greater\n",
    "etho.__version__"
   ]
  },
  {
   "cell_type": "code",
   "execution_count": null,
   "id": "69551202-41b1-41e2-943b-3d02d8740d49",
   "metadata": {},
   "outputs": [],
   "source": [
    "# import this function to get the tutorial dataset\n",
    "from ethoscopy.misc.get_tutorials import get_tutorial"
   ]
  },
  {
   "cell_type": "code",
   "execution_count": null,
   "id": "a22a09b2-7b81-447c-8580-4c56afa1172c",
   "metadata": {},
   "outputs": [],
   "source": [
    "# We'll be using the same dataset as in the overview tutorial, so use the same function below with the argument 'overview' \n",
    "# Load the data and metadata, and then intialise it into a behavpy_HMM \n",
    "data, metadata = get_tutorial('overview')\n",
    "df = etho.behavpy(data, metadata, canvas = 'plotly', check = True)\n",
    "dfs = etho.behavpy(data, metadata, canvas = 'seaborn', check = True)"
   ]
  },
  {
   "cell_type": "code",
   "execution_count": null,
   "id": "f731e351",
   "metadata": {},
   "outputs": [],
   "source": [
    "from ethoscopy.misc.get_HMM import get_HMM\n",
    "h = get_HMM(\"M\")"
   ]
  },
  {
   "cell_type": "code",
   "execution_count": null,
   "id": "ea24e024",
   "metadata": {},
   "outputs": [],
   "source": [
    "d = df.get_hmm_raw(h)"
   ]
  },
  {
   "cell_type": "code",
   "execution_count": null,
   "id": "1f60db88",
   "metadata": {},
   "outputs": [],
   "source": [
    "t = d.groupby(d.index)['state'].apply(list)\n",
    "t[0].index"
   ]
  },
  {
   "cell_type": "code",
   "execution_count": null,
   "id": "4f150232",
   "metadata": {},
   "outputs": [],
   "source": [
    "fig, stats_time = dfs.plot_hmm_quantify_length(\n",
    "            hmm = h, \n",
    "            variable = 'moving', \n",
    "            # facet_col = 'exp_group', \n",
    "            title = \"Quantify each State Length\"\n",
    ")"
   ]
  },
  {
   "cell_type": "code",
   "execution_count": null,
   "id": "c531367d",
   "metadata": {},
   "outputs": [],
   "source": [
    "for i"
   ]
  },
  {
   "cell_type": "code",
   "execution_count": null,
   "id": "cf6e30f6",
   "metadata": {},
   "outputs": [],
   "source": [
    "t = d.groupby(d.index,sort=False)['bin'].apply(list)\n",
    "for l in t:\n",
    "    print([l.index])\n",
    "    break"
   ]
  },
  {
   "cell_type": "code",
   "execution_count": null,
   "id": "b5c86b69",
   "metadata": {},
   "outputs": [],
   "source": [
    "fig, stats_time = df.plot_hmm_quantify_length(\n",
    "            hmm = h, \n",
    "            variable = 'moving', \n",
    "            facet_col = 'exp_group', \n",
    "            title = \"Quantify each State\"\n",
    ")\n",
    "fig.show()"
   ]
  },
  {
   "cell_type": "code",
   "execution_count": null,
   "id": "0149fe03",
   "metadata": {},
   "outputs": [],
   "source": [
    "# fig, stats_time = df.plot_hmm_quantify(\n",
    "#             hmm = h, \n",
    "#             variable = 'moving', \n",
    "#             facet_col = 'exp_group', \n",
    "#             title = \"Quantify each State\"\n",
    "# )\n",
    "# fig.show()\n",
    "\n",
    "# fig, stats_time = dfs.plot_hmm_quantify(\n",
    "#             hmm = h, \n",
    "#             variable = 'moving', \n",
    "#             title = \"Quantify each State\",\n",
    "# )\n",
    "# fig, stats_time = dfs.plot_hmm_quantify(\n",
    "#             hmm = h, \n",
    "#             variable = 'moving', \n",
    "#             facet_col = 'exp_group', \n",
    "#             title = \"Quantify each State\",\n",
    "# )\n",
    "# stats_time"
   ]
  },
  {
   "cell_type": "code",
   "execution_count": null,
   "id": "e18940fb",
   "metadata": {},
   "outputs": [],
   "source": [
    "# fig = dfs.plot_overtime(\n",
    "#             variable = 'moving', \n",
    "#             wrapped = True, \n",
    "#             title = 'A decoded HMM over one day',\n",
    "#             )"
   ]
  },
  {
   "cell_type": "code",
   "execution_count": null,
   "id": "43784be0",
   "metadata": {},
   "outputs": [],
   "source": [
    "fig = dfs.plot_hmm_overtime(\n",
    "            hmm = h, \n",
    "            variable = 'moving', \n",
    "            wrapped = True, \n",
    "            t_bin = 60, \n",
    "            title = 'A decoded HMM over one day',\n",
    "            # colours = ['#bfbfe2', '#6c6cd8', '#1818d0', '#00008b']\n",
    "            )"
   ]
  },
  {
   "cell_type": "code",
   "execution_count": null,
   "id": "cbd392ec",
   "metadata": {},
   "outputs": [],
   "source": [
    "# fig = df.plot_hmm_split(\n",
    "#             hmm = h, \n",
    "#             variable = 'moving', \n",
    "#             wrapped = True, \n",
    "#             facet_col = 'sleep_deprived',\n",
    "#             facet_arg = [False, True],\n",
    "#             facet_labels = ['Control', 'SD'],\n",
    "#             bin = 60, \n",
    "#             title = 'A decoded HMM over one day'\n",
    "#             )\n",
    "# fig.show()\n",
    "\n",
    "# fig = dfs.plot_hmm_split(\n",
    "#             hmm = h, \n",
    "#             variable = 'moving', \n",
    "#             wrapped = True, \n",
    "#             facet_col = 'sleep_deprived',\n",
    "#             facet_arg = [False, True],\n",
    "#             facet_labels = ['Control', 'SD'],\n",
    "#             bin = 60, \n",
    "#             title = 'A decoded HMM over one day'\n",
    "#             )"
   ]
  },
  {
   "cell_type": "code",
   "execution_count": null,
   "id": "56dbe0ec",
   "metadata": {},
   "outputs": [],
   "source": [
    "for i"
   ]
  },
  {
   "cell_type": "markdown",
   "id": "4b029a65",
   "metadata": {},
   "source": [
    "## 2. Curate the Data"
   ]
  },
  {
   "cell_type": "code",
   "execution_count": null,
   "id": "d96f7d8e",
   "metadata": {},
   "outputs": [],
   "source": [
    "# First we'll call the method to remove dead specimens\n",
    "df = df.curate_dead_animals()\n",
    "# We'll also remove the specimen we noticed in the overview tutorial that was missed by the above method\n",
    "df = df.remove('id', '2016-04-04_17-39-05_009aee|02')"
   ]
  },
  {
   "cell_type": "code",
   "execution_count": null,
   "id": "c67b7fbb",
   "metadata": {},
   "outputs": [],
   "source": [
    "# As we saw in the overview tutorial the dataset has half the specimens sleep deprived later in the experiment\n",
    "fig = df.heatmap(variable = 'asleep')\n",
    "fig.show()"
   ]
  },
  {
   "cell_type": "code",
   "execution_count": null,
   "id": "5baf3442",
   "metadata": {},
   "outputs": [],
   "source": [
    "# When training a HMM you want a specimens basline data as normal conditions, so for this excerise we'll want to trim the dataset\n",
    "# We can see from the heatmap that the sleep deprivation begins at 108 hours (ZT 12), we'll also trim the first day data as the specimens settle in\n",
    "df = df.t_filter(start_time = 24, end_time = 108)"
   ]
  },
  {
   "cell_type": "code",
   "execution_count": null,
   "id": "4b5e265a-fcb7-45b1-b069-dd730ab81768",
   "metadata": {},
   "outputs": [],
   "source": [
    "# It's also key to have as few missing values as possible when training the data, as the model assumes a consitent time gap between each point\n",
    "# Our dataset now has 3.5 days with time bins of 60 seconds, so if a specimen was to have maximum data points for that time they would have\n",
    "# (86400/60) * 3.5 rows of data. Lets not take any chances and only take specimens with that exact amount\n",
    "df = df.curate(points = (86400/60) * 3.5)"
   ]
  },
  {
   "cell_type": "code",
   "execution_count": null,
   "id": "69947ca8",
   "metadata": {},
   "outputs": [],
   "source": [
    "# If any of the data passed to the model to be trained contains NaN values it will throw an error\n",
    "# So lets check our data for NaN values\n",
    "df['moving'][df['moving'].isnull()]"
   ]
  },
  {
   "cell_type": "code",
   "execution_count": null,
   "id": "11e84c1f",
   "metadata": {},
   "outputs": [],
   "source": [
    "# We have one NaN value, which is enough to crash the whole thing!\n",
    "# Luckily pandas has built in methods to replace NaN values, using the method below with \"ffill\" fills in the NaN with the value of the row above (previous)\n",
    "df['moving'] = df['moving'].fillna(method = \"ffill\")\n",
    "\n",
    "# Lets to see if it worked\n",
    "df['moving'][df['moving'].isnull()]"
   ]
  },
  {
   "cell_type": "markdown",
   "id": "441791e5",
   "metadata": {},
   "source": [
    "## 3. Setup"
   ]
  },
  {
   "cell_type": "code",
   "execution_count": null,
   "id": "2a814da5-2419-4a6a-9c74-b9babb661030",
   "metadata": {},
   "outputs": [],
   "source": [
    "# Name the hidden states you want to fit the model to - at the Gilestro lab we use a 4 state model, but feel free to play around!\n",
    "hidden_states = ['Deep sleep', 'Light sleep', 'Light awake', 'Active awake']\n",
    "\n",
    "# Declare your observables, the first will equal the value 0 in your data\n",
    "observables = ['Inactive', 'Active']\n",
    "\n",
    "# This is key to training your model, where you declare the interaction between the hidden states\n",
    "# The array shape must be the length of your states_list by itself, E.g. 4x4 for the above\n",
    "# The first nested array equals the first in your list, with each index relative to it's list position.\n",
    "# E.g. For Deep Sleep (the first array), we have that it can transition into all other states and itself other than Full Awake (the last position)\n",
    "# For Active awake (the third array), it can't transtion into Deep Sleep (the first position), but can transition into everything else and itself\n",
    "# If you want a state to tranition into another we recommend you have it as 'rand', this randomises the starting transtion rate before the model iterates and updates.\n",
    "# This is so we can run the training multiple times to then compare scores, hopefully minimising the risk of getting into a local minima\n",
    "# If you wish to declare the starting transtions do so as a float with each nested array totalling 1.0 and set iterations to 1\n",
    "t_prob = np.array([['rand', 'rand', 'rand', 0.0],\n",
    "                    ['rand', 'rand', 'rand', 0.0],\n",
    "                    [0.0, 'rand', 'rand', 'rand'],\n",
    "                    [0.0, 0.0, 'rand', 'rand']])\n",
    "\n",
    "# Here we do the same, but for the emmission probabilites (liklihood a state will be observed as one of the observable states)\n",
    "# The same rules for array shape apply, but for the observable list\n",
    "# Here the first two states are sleep states, so we declare that they can't be active during that time\n",
    "em_prob =  np.array([[1.0, 0.0],\n",
    "                    [1.0, 0.0],\n",
    "                    ['rand', 'rand'],\n",
    "                    ['rand', 'rand']])\n",
    "\n",
    "# We also need to changed the boolean values of 'moving' into integers for the model to work\n",
    "# np.where will replace all values where the argument is True with the first argument, all those that are false with the second\n",
    "df['moving'] = np.where(df['moving'] == True, 1, 0)"
   ]
  },
  {
   "cell_type": "code",
   "execution_count": null,
   "id": "40684f61",
   "metadata": {},
   "outputs": [],
   "source": [
    "# Now we're setup we can call the training method\n",
    "# iterations is the number of times you want to iterate and train starting with new transiton and emission probabilities. It's recommended to have this higher than 3\n",
    "# but for the tutorial we'll keep it low for the sake of time. More iterations mean you're more likely to find the best fitting model and\n",
    "# hmm_iterations is the number of times the HMM will iterate with newer parameters before stopping\n",
    "# tol is the the value for the difference in log liklihood after each iteration, once the value equals your input the model will stop updating the parameters\n",
    "# After each time the transiton and emission probabilities are randomised and a model is produced, a score of logliklihood will be generated against 10% of the data,\n",
    "# each new model will be scored against this and the best one will be returned at the end. Change the size of the test batch with test_size\n",
    "# Save the best model to your local as a pickle file with file_name. The method will also return the trained model, but it's best to save it to a file\n",
    "\n",
    "h = df.hmm_train(\n",
    "    states = hidden_states, \n",
    "    observables = observables, \n",
    "    var_column = 'moving', \n",
    "    trans_probs = t_prob, \n",
    "    emiss_probs = em_prob, \n",
    "    start_probs = None, \n",
    "    iterations = 3, \n",
    "    hmm_iterations = 100, \n",
    "    tol = 2, \n",
    "    t_column = 't', \n",
    "    bin_time = 60, \n",
    "    test_size = 10,\n",
    "    file_name = 'tutorial_hmm.pkl', # replace with your own file name. If you already have a pickle file named this, it will test the first iteration against it.\n",
    "    verbose = False)\n",
    "\n",
    "# If verbose is True it will print to screen the logliklihood score of each hmm iteration"
   ]
  },
  {
   "cell_type": "code",
   "execution_count": null,
   "id": "11719e7d-7a08-4bad-8f26-0b0a21cbca93",
   "metadata": {},
   "outputs": [],
   "source": [
    "# if .hmm_train() has an argument for the file_name parameter a pickle copy of the trained HMM will be saved to your local\n",
    "# Use the below to load the trained model for analysis\n",
    "with open('./tutorial_hmm.pkl', 'rb') as file: \n",
    "    h = pickle.load(file)"
   ]
  },
  {
   "cell_type": "markdown",
   "id": "7b1cf1b1",
   "metadata": {},
   "source": [
    "## 4. Plotting the decoded data"
   ]
  },
  {
   "cell_type": "code",
   "execution_count": null,
   "id": "8f1059c7-4a52-4ac9-8c50-452d898039b1",
   "metadata": {},
   "outputs": [],
   "source": [
    "# Lets have a look at our trained HMM\n",
    "# Here we can see the transition rates between the difference states\n",
    "df.hmm_display(hmm = h, states = hidden_states, observables = observables)"
   ]
  },
  {
   "cell_type": "code",
   "execution_count": null,
   "id": "6d6a125a",
   "metadata": {},
   "outputs": [],
   "source": [
    "# Ethoscopy also has pretrained HMMs for both Male and Female CS Drosophila, trained on several days worth of data on hundreds of flies\n",
    "# These have the state structure of the above\n",
    "# Feel free to use these when looking at your own wildtype datasets, however if using other species or mutants you will need to train your own\n",
    "# For the rest of this tutorial we'll use a the Male pretrained model\n",
    "\n",
    "# first we need to import the get_HMM function\n",
    "from ethoscopy.misc.get_HMM import get_HMM"
   ]
  },
  {
   "cell_type": "code",
   "execution_count": null,
   "id": "bed63d4e",
   "metadata": {},
   "outputs": [],
   "source": [
    "# Have the argument as \"M\" or \"F\" for the male or female dataset respectively\n",
    "h = get_HMM(\"M\")"
   ]
  },
  {
   "cell_type": "code",
   "execution_count": null,
   "id": "4b67f02e-a069-46f9-9605-183916d22af0",
   "metadata": {},
   "outputs": [],
   "source": [
    "# Plotting the specimens HMM overtime is much like plot_overtime(), except you cannot facet by the metadata, see split plots below!\n",
    "# The only addtional arguments are for the trained HMM, the label names for each state and their colours, and also the time each row is binned when it was trained, i.e. 60 seconds (default)\n",
    "# If you wish to follow our naming and colour schema then leave labels and colours as None, if you have a 4 state model it will use the labels as seen above and our blue/red colour scheme\n",
    "# You can change day_length, lights_off, title, grids as seen previously\n",
    "# Save plots giving an arugment to parameter save with the location and file type to be saved as, see overview tutorial for more information\n",
    "fig = df.plot_hmm_overtime(\n",
    "            hmm = h, \n",
    "            variable = 'moving', \n",
    "            wrapped = True, \n",
    "            bin = 60, \n",
    "            title = 'A decoded HMM over one day'\n",
    "            )\n",
    "fig.show()"
   ]
  },
  {
   "cell_type": "code",
   "execution_count": null,
   "id": "f22ae2d7",
   "metadata": {},
   "outputs": [],
   "source": [
    "# Here's it with new names and different colours\n",
    "# The colours must follow Plotlys colour naming convention\n",
    "fig = df.plot_hmm_overtime(\n",
    "            hmm = h, \n",
    "            variable = 'moving', \n",
    "            labels = ['Out Cold', 'Soft Sleep', 'Dozing', 'On One'], \n",
    "            colours = ['black', 'yellow', 'pink', 'red'],\n",
    "            wrapped = True, \n",
    "            title = 'Your own Colour Scheme'\n",
    ")\n",
    "fig.show()"
   ]
  },
  {
   "cell_type": "code",
   "execution_count": null,
   "id": "76effbce",
   "metadata": {},
   "outputs": [],
   "source": [
    "# Due to having multiple states plotted at once its easier to compare by faceting with multiple plots for each states\n",
    "# plot_hmm_split is the same as plot_hmm_overtime, but with the facet_labels, facet_col, facet_arg parameters we've seen before to compare via our metadata\n",
    "fig = df.plot_hmm_split(\n",
    "            hmm = h, \n",
    "            variable = 'moving', \n",
    "            facet_col = 'exp_group', \n",
    "            wrapped = True, \n",
    "            bin = 60, \n",
    "            title = \"Split plot per Experimental Group\"\n",
    ")\n",
    "fig.show()"
   ]
  },
  {
   "cell_type": "code",
   "execution_count": null,
   "id": "bf0c55cc-2aad-47ac-9b0a-fe3a002d2b8f",
   "metadata": {},
   "outputs": [],
   "source": [
    "# To quantify the above just call the plot_hmm_quantify method \n",
    "# Like all the quantify methods it will also return a dataframe with the values of each plotted dot for you to do any statistical analysis\n",
    "# The plotted and returned values have all values with a z-score > 3/-3 removed\n",
    "fig, stats_time = df.plot_hmm_quantify(\n",
    "            hmm = h, \n",
    "            variable = 'moving', \n",
    "            facet_col = 'exp_group', \n",
    "            title = \"Quantify each State\"\n",
    ")\n",
    "fig.show()"
   ]
  },
  {
   "cell_type": "code",
   "execution_count": null,
   "id": "cf70bbca",
   "metadata": {},
   "outputs": [],
   "source": [
    "fig, stats_time = df.plot_hmm_quantify(\n",
    "            hmm = h, \n",
    "            variable = 'moving', \n",
    "            title = \"Quantify each State\"\n",
    ")\n",
    "fig.show()"
   ]
  },
  {
   "cell_type": "code",
   "execution_count": null,
   "id": "08d3167f-fecd-4a24-9220-5b101aae061e",
   "metadata": {},
   "outputs": [],
   "source": [
    "# When getting to grips with your new model you don't want to look at just the time in each state, you also need to understand the rules the HMM has decided\n",
    "# One of the best ways to do this is by looking at the average length of each state\n",
    "fig, stats_length = df.plot_hmm_quantify_length(\n",
    "    hmm = h, \n",
    "    variable = 'moving', \n",
    "    title = \"Quantify the average lengths of each State\"\n",
    "    )\n",
    "fig.show()"
   ]
  },
  {
   "cell_type": "code",
   "execution_count": null,
   "id": "476e68a5",
   "metadata": {},
   "outputs": [],
   "source": [
    "# The average is useful, but it doesn't tell us about about how time influences the decision by the model to predict each state\n",
    "# Use plot_hmm_quantify_length_min_max to see the maximum and mimimum length of each state to understand when the model switches it's predictions\n",
    "# Here we can see that light sleep can only be 11 minutes of inactivity long, after that it is predicted as deep sleep\n",
    "fig = df.plot_hmm_quantify_length_min_max(\n",
    "    hmm = h, \n",
    "    variable = 'moving', \n",
    "    title = \"The Max and Min length of each state\"\n",
    ")\n",
    "fig.show()\n"
   ]
  },
  {
   "cell_type": "code",
   "execution_count": null,
   "id": "ccf186a5-81ed-478e-b4f5-e0bd4a0d86a4",
   "metadata": {},
   "outputs": [],
   "source": [
    "# It is also useful to see how often a state is transitioned into, to understand its frequency in relation to length\n",
    "# Here we can see the two light sleep and awake stages are transitioned into often, which compliments their low run lengths\n",
    "# In contrast the other two states are transitioned into less frequently, but when they do the it is for a lot longer\n",
    "fig, stats_transition = df.plot_hmm_quantify_transition(\n",
    "    hmm = h, \n",
    "    variable = 'moving', \n",
    "    title = \"Quantify the average transtion of each State\"\n",
    ")\n",
    "fig.show()"
   ]
  },
  {
   "cell_type": "code",
   "execution_count": null,
   "id": "da3c9617",
   "metadata": {},
   "outputs": [],
   "source": [
    "# All of the above (except plot_hmm_overtime) can take arguments of multiple trained HMMs with the view that can compare different species, mutants, ect.\n",
    "# For example to demonstrate we can take this dataset and compare two groups, one using the male trained model and the other the female trained model\n",
    "# When you have multiple HMMs you must have the same number of arguments, labels, and bins. Otherwise you will raise an error\n",
    "# Try this out with the other plotting functions!\n",
    "h_f = get_HMM(\"F\")\n",
    "fig = df.plot_hmm_split(\n",
    "    hmm = [h, h_f], \n",
    "    variable = 'moving', \n",
    "    facet_col = 'exp_group', \n",
    "    facet_arg = [1, 2], \n",
    "    facet_labels = ['Male', 'Female'], \n",
    "    wrapped = True, \n",
    "    bin = [60, 60], \n",
    "    title = \"Split plot with two different HMMs\"\n",
    "    )\n",
    "fig.show()"
   ]
  },
  {
   "cell_type": "code",
   "execution_count": null,
   "id": "0885d8b8",
   "metadata": {},
   "outputs": [],
   "source": [
    "# Finally, sometimes you want to see the decoded data minute by minute to get to understand it properly\n",
    "# Like the others you can have multiple HMMs, if you choose to do this then it will display the same specimen but decoded by each HMM\n",
    "# The ID of each specimen will be printed to screen in case you want to investigate further as each ID is picked randomly each time it's run\n",
    "fig = df.plot_hmm_raw(\n",
    "    hmm = h, \n",
    "    variable = 'moving', \n",
    "    num_plots = 5, # the number of different specimens you want in the plot \n",
    "    bin = 60, \n",
    "    title = ''\n",
    ")\n",
    "fig.show()\n",
    "\n",
    "# Addtionally, if you have response data from mAGO experiments you can add that behavpy dataframe to highlight points of interaction and their response \n",
    "# Purple = response, lime = no response\n",
    "## df.plot_hmm_raw(mago_df = mdf, hmm = h, variable = 'moving', num_plots = 5, bin = 60, title = '', save = False)"
   ]
  }
 ],
 "metadata": {
  "kernelspec": {
   "display_name": "Python 3 (ipykernel)",
   "language": "python",
   "name": "python3"
  },
  "language_info": {
   "codemirror_mode": {
    "name": "ipython",
    "version": 3
   },
   "file_extension": ".py",
   "mimetype": "text/x-python",
   "name": "python",
   "nbconvert_exporter": "python",
   "pygments_lexer": "ipython3",
   "version": "3.12.3"
  },
  "vscode": {
   "interpreter": {
    "hash": "211748f54154f02aba8591b85552ed265a1a0cd91e8e9c910b9a2d1a7391a4f0"
   }
  }
 },
 "nbformat": 4,
 "nbformat_minor": 5
}
