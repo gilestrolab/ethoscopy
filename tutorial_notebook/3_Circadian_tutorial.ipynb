{
 "cells": [
  {
   "cell_type": "markdown",
   "id": "d104696c",
   "metadata": {},
   "source": [
    "# Ethoscopy - Circadian tutorial"
   ]
  },
  {
   "cell_type": "markdown",
   "id": "4f6b62f5",
   "metadata": {},
   "source": [
    "This tutorial assumes you have some basic knowledge of Ethoscopy, if you don't please head to the overview tutorial first.\n",
    "\n",
    "This tutorial will walk through the array of circadian analysis methods ethoscopy contains, from actograms and anticipation scores, to periodograms. Whilst the tutorial will keep things basic there will be some assumed knowlege about circadian rythmn."
   ]
  },
  {
   "cell_type": "markdown",
   "id": "cffaa42c",
   "metadata": {},
   "source": [
    "## 1. Load the dummy dataset"
   ]
  },
  {
   "cell_type": "code",
   "execution_count": null,
   "id": "69ed1572",
   "metadata": {},
   "outputs": [],
   "source": [
    "import ethoscopy as etho"
   ]
  },
  {
   "cell_type": "code",
   "execution_count": null,
   "id": "b979d172-8b6b-4dd2-92a7-c3a7f4ac6993",
   "metadata": {},
   "outputs": [],
   "source": [
    "# This tutorial required version 1.2.0 or greater\n",
    "etho.__version__"
   ]
  },
  {
   "cell_type": "code",
   "execution_count": null,
   "id": "69551202-41b1-41e2-943b-3d02d8740d49",
   "metadata": {},
   "outputs": [],
   "source": [
    "# import this function to get the tutorial dataset\n",
    "from ethoscopy.misc.get_tutorials import get_tutorial"
   ]
  },
  {
   "cell_type": "code",
   "execution_count": null,
   "id": "a22a09b2-7b81-447c-8580-4c56afa1172c",
   "metadata": {},
   "outputs": [],
   "source": [
    "# We'll be using a circadian specific dataset this time that was generated previously, enter 'circadian' as the argument to grab it\n",
    "# Load the data and metadata, and then intialise it into a behavpy object\n",
    "data, metadata = get_tutorial('circadian')\n",
    "df = etho.behavpy(data, metadata, palette = 'Vivid', check = True)\n",
    "dfs = etho.behavpy(data, metadata, palette = 'Set2', canvas = 'seaborn', check = True)"
   ]
  },
  {
   "cell_type": "markdown",
   "id": "4b029a65",
   "metadata": {},
   "source": [
    "## 2. Looking at the data"
   ]
  },
  {
   "cell_type": "code",
   "execution_count": null,
   "id": "d96f7d8e",
   "metadata": {},
   "outputs": [],
   "source": [
    "# Lets have a look at what we're working with\n",
    "df.summary()"
   ]
  },
  {
   "cell_type": "code",
   "execution_count": null,
   "id": "20d44c33",
   "metadata": {},
   "outputs": [],
   "source": [
    "# In the meta we can see the specimens are split into different experimental groups, these are the groups we will want to look at\n",
    "df.meta"
   ]
  },
  {
   "cell_type": "code",
   "execution_count": null,
   "id": "c67b7fbb",
   "metadata": {},
   "outputs": [],
   "source": [
    "# We can see from plotting the movement data that they a different rythmn\n",
    "fig = df.plot_overtime('moving', facet_col = 'period_group')\n",
    "fig.show()"
   ]
  },
  {
   "cell_type": "code",
   "execution_count": null,
   "id": "b1e831c5",
   "metadata": {},
   "outputs": [],
   "source": [
    "fig = dfs.plot_overtime('moving', facet_col = 'period_group')"
   ]
  },
  {
   "cell_type": "markdown",
   "id": "441791e5",
   "metadata": {},
   "source": [
    "## 3. Actograms"
   ]
  },
  {
   "cell_type": "markdown",
   "id": "db347012",
   "metadata": {},
   "source": [
    "Actograms are a simple visual way to see changes in activity over multiple days. With ethoscopy you have two ways of viewing your actograms, you can create one for every specimen or you can average it over the whole dataframe / experimental group"
   ]
  },
  {
   "cell_type": "markdown",
   "id": "47e0bf1e",
   "metadata": {},
   "source": [
    "### Grouped Actograms"
   ]
  },
  {
   "cell_type": "code",
   "execution_count": null,
   "id": "2a814da5-2419-4a6a-9c74-b9babb661030",
   "metadata": {},
   "outputs": [],
   "source": [
    "# Lets create an averaged Actogram for each period group using the .plot_actogram() method\n",
    "# Choose the column with the movement data, the averaging window you'd like to use, and then the column to facet by\n",
    "fig = df.plot_actogram(\n",
    "        mov_variable = 'moving',\n",
    "        bin_window = 5, # the default is 5, but feel free to change it to smooth out the plot or vice versa\n",
    "        facet_col = 'period_group',\n",
    "        facet_arg = ['short', 'wt', 'long'],\n",
    "        title = 'Grouped Actogram')\n",
    "\n",
    "fig.show()\n",
    "\n",
    "# If you dont give an arugment to facet_col then a single actogram will be plotted that is an average of all your data"
   ]
  },
  {
   "cell_type": "code",
   "execution_count": null,
   "id": "24fedde1",
   "metadata": {},
   "outputs": [],
   "source": [
    "fig = dfs.plot_actogram(\n",
    "        mov_variable = 'moving',\n",
    "        bin_window = 5, # the default is 5, but feel free to change it to smooth out the plot or vice versa\n",
    "        facet_col = 'period_group',\n",
    "        facet_arg = ['short', 'wt', 'long'],\n",
    "        title = 'Grouped Actogram')"
   ]
  },
  {
   "cell_type": "code",
   "execution_count": null,
   "id": "3653902e",
   "metadata": {},
   "outputs": [],
   "source": [
    "fig = df.plot_actogram(\n",
    "        mov_variable = 'moving',\n",
    "        bin_window = 15, # the default is 5, but feel free to change it to smooth out the plot or vice versa\n",
    ")\n",
    "fig.show()"
   ]
  },
  {
   "cell_type": "code",
   "execution_count": null,
   "id": "392ecd1b",
   "metadata": {},
   "outputs": [],
   "source": [
    "fig = dfs.plot_actogram(\n",
    "        mov_variable = 'moving',\n",
    "        bin_window = 15, # the default is 5, but feel free to change it to smooth out the plot or vice versa\n",
    ")"
   ]
  },
  {
   "cell_type": "markdown",
   "id": "eec15e78",
   "metadata": {},
   "source": [
    "### Tiled Actograms"
   ]
  },
  {
   "cell_type": "code",
   "execution_count": null,
   "id": "7c8256b8",
   "metadata": {},
   "outputs": [],
   "source": [
    "# Although we can already see the differences between the groups, often when you don't already have a nicely curated dataset it's nice to see everything\n",
    "# When plotting all specimens the default is to take the specimens IDs as each plots title. However, these names can be uniformative at first glance and we might want\n",
    "# to replace them with more informative labels. Lets create some for this example\n",
    "\n",
    "# Remember to access the metadata part of the dataframe just add .meta\n",
    "# We can create a new column by combining two others. However, the regio_id is a integer and not a string, so we have to convert it first\n",
    "df.meta['tile_labels'] = df.meta['period_group'] + '_' + df.meta['region_id'].apply(lambda l: str(l))\n",
    "\n",
    "dfs.meta['tile_labels'] = dfs.meta['period_group'] + '_' + dfs.meta['region_id'].apply(lambda l: str(l))"
   ]
  },
  {
   "cell_type": "code",
   "execution_count": null,
   "id": "26082648",
   "metadata": {},
   "outputs": [],
   "source": [
    "# # plot_actogram_tile will plot every specimen in your behavpy dataframe\n",
    "# fig = df.plot_actogram_tile(\n",
    "#         mov_variable = 'moving',\n",
    "#         labels = 'tile_labels',\n",
    "#         title = 'Tiled Actogram')\n",
    "\n",
    "# fig.show()\n",
    "\n",
    "# # This is a good example of a plot that is hard to view inside a jupyter notebook, so lets save it as a html file and view it in our browser in full screen\n",
    "# # df.save_figure(fig, './tiled_actogram_15.html')\n",
    "# # right click the saved file and click open in browser"
   ]
  },
  {
   "cell_type": "code",
   "execution_count": null,
   "id": "40196c42",
   "metadata": {},
   "outputs": [],
   "source": [
    "fig = dfs.plot_actogram_tile(\n",
    "        mov_variable = 'moving',\n",
    "        labels = 'tile_labels',\n",
    "        title = 'Tiled Actogram')"
   ]
  },
  {
   "cell_type": "code",
   "execution_count": null,
   "id": "1059028e",
   "metadata": {},
   "outputs": [],
   "source": [
    "# If you just want to see produce a single actogram for one specimen then filter the dataframe before and then call .plot_actogram()\n",
    "temp_df = df.xmv('id', '2017-01-16 08:00:00|circadian.txt|01')\n",
    "\n",
    "fig = temp_df.plot_actogram(\n",
    "        mov_variable = 'moving',\n",
    "        title = 'Individual Actogram')\n",
    "\n",
    "fig.show()"
   ]
  },
  {
   "cell_type": "code",
   "execution_count": null,
   "id": "cb8e28a7",
   "metadata": {},
   "outputs": [],
   "source": [
    "# If you just want to see produce a single actogram for one specimen then filter the dataframe before and then call .plot_actogram()\n",
    "temp_df = dfs.xmv('id', '2017-01-16 08:00:00|circadian.txt|01')\n",
    "\n",
    "fig = temp_df.plot_actogram(\n",
    "        mov_variable = 'moving',\n",
    "        title = 'Individual Actogram')\n",
    "\n",
    "fig.show()"
   ]
  },
  {
   "cell_type": "markdown",
   "id": "b321db99",
   "metadata": {},
   "source": [
    "## 4. Anticipation Score"
   ]
  },
  {
   "cell_type": "markdown",
   "id": "3e0fc791",
   "metadata": {},
   "source": [
    "The anticipation score is the ratio of the final 3 hours of activity compared to the whole 6 hours of activity prior to lights on/off. This gives us a way of quantifying the morning and evening peaks of activity that are hallmarks of Drosophila circadian rythmn."
   ]
  },
  {
   "cell_type": "code",
   "execution_count": null,
   "id": "40684f61",
   "metadata": {},
   "outputs": [],
   "source": [
    "# Simply call the plot_anticipation_score() method to get a box plot of your results\n",
    "# the day length and lights on/off time is 24 and 12 respectively, but these can be changed if you're augmenting the environment\n",
    "\n",
    "fig, stats = df.plot_anticipation_score(\n",
    "        mov_variable = 'moving', \n",
    "        facet_col = 'period_group',\n",
    "        facet_arg = ['short', 'wt', 'long'],\n",
    "        day_length = 24,\n",
    "        lights_off = 12,\n",
    "        title = 'Anticipation Score')\n",
    "\n",
    "fig.show()\n",
    "\n",
    "# Here we can see only the WT flies have over 50% of their activity in the final 3 hours before lights off. This shows that they are anticipating the evening feeding time correctly,\n",
    "# whereas the others fail to do so. Lights On score is the same across the groups."
   ]
  },
  {
   "cell_type": "code",
   "execution_count": null,
   "id": "75a1ce99",
   "metadata": {},
   "outputs": [],
   "source": [
    "fig, stats = dfs.plot_anticipation_score(\n",
    "        mov_variable = 'moving', \n",
    "        facet_col = 'period_group',\n",
    "        facet_arg = ['short', 'wt', 'long'],\n",
    "        day_length = 24,\n",
    "        lights_off = 12,\n",
    "        title = 'Anticipation Score')"
   ]
  },
  {
   "cell_type": "markdown",
   "id": "a0bce0da",
   "metadata": {},
   "source": [
    "## 4. Periodograms"
   ]
  },
  {
   "cell_type": "markdown",
   "id": "dd59748c",
   "metadata": {},
   "source": [
    "Periodograms are essential for definitely showing periodicity in a quantifiable way. Periodograms often make use of algorithms created from spectral analysis, to decompose a signal into its component waves of varying frequencies. This has been adopted to behavioural data, in that it can find a base rythmn over several days from what is usually unclean data.\n",
    "\n",
    "Ethoscopy has 5 types of periodograms built into its behavpy_periodogram class, which are 'chi squared' (the most commonly used), 'lomb scargle', fourier, and 'welch' (all based of of the fast fourier transformation (FFT) algorithm) and 'wavelet' (using FFT but maintaining the time dimension). \n",
    "\n",
    "Try them all out on your data and see which works best for you."
   ]
  },
  {
   "cell_type": "code",
   "execution_count": null,
   "id": "7a414106",
   "metadata": {},
   "outputs": [],
   "source": [
    "# Before we can access all the methods we first must compute our periodogram, so always call this method first\n",
    "# For this example we'll compare the chi squared periodogram with lomb scargle\n",
    "# the periodogram can only compute 4 types of periodograms currently, choose from this list ['chi_squared', 'lomb_scargle', 'fourier', 'welch']\n",
    "per_chi = df.periodogram(\n",
    "        mov_variable = 'moving',\n",
    "        periodogram = 'chi_squared', \n",
    "        period_range = [10,32], # the range in time (hours) we think the circadian frequency lies, [10,32] is the default\n",
    "        sampling_rate = 15, # the time in minutes you wish to smooth the data to. This method will interpolate missing results\n",
    "        alpha = 0.01 # the cutoff value for significance, i.e. 1% confidence\n",
    ")\n",
    "ps = etho.behavpy(per_chi, per_chi.meta, canvas='seaborn', check = True)\n",
    "per_lomb = df.periodogram(\n",
    "        mov_variable = 'moving',\n",
    "        periodogram = 'lomb_scargle', \n",
    "        period_range = [10,32],\n",
    "        sampling_rate = 15,\n",
    "        alpha = 0.01 \n",
    ")\n",
    "pls = etho.behavpy(per_lomb, per_lomb.meta, canvas='seaborn', check = True)\n",
    "# Hint! Sometimes increasing the sampling_rate can improve you're periodograms. On average we found 15 to work best with our data, but it can be different for everyone."
   ]
  },
  {
   "cell_type": "code",
   "execution_count": null,
   "id": "95333829",
   "metadata": {},
   "outputs": [],
   "source": [
    "# each periodogram should have atleast the columns period, power, and sig_threshold\n",
    "ps = etho.behavpy(per_chi, per_chi.meta, canvas='seaborn', check = True)"
   ]
  },
  {
   "cell_type": "code",
   "execution_count": null,
   "id": "d0ae8a61",
   "metadata": {},
   "outputs": [],
   "source": [
    "# We can see that lomb_scargle has more rows that chi_squared. This is because the loomb scargle returns a list of freqeuncies between our period range that it determines best represents the\n",
    "# data given. However, chi squared will just binned windows we give it from the sampling_rate\n",
    "# Lomb scargle has been reported to be more accurate with chi squared sometimes giving false positives, see: https://journals.plos.org/ploscompbiol/article?id=10.1371/journal.pcbi.1008567\n",
    "# However sometimes it's the only one that works, so try all of them\n",
    "per_lomb"
   ]
  },
  {
   "cell_type": "markdown",
   "id": "5599071a",
   "metadata": {},
   "source": [
    "### Plotting the Periodograms"
   ]
  },
  {
   "cell_type": "markdown",
   "id": "fbbb2c27",
   "metadata": {},
   "source": [
    "#### Tiled Plots"
   ]
  },
  {
   "cell_type": "code",
   "execution_count": null,
   "id": "8c389abe",
   "metadata": {},
   "outputs": [],
   "source": [
    "# To get a good understanding of each individual specimen you might want to plot the periodograms of each individual\n",
    "# Like the actogram_tile method we can rely on the ids of each specimen or we can use the labels we created\n",
    "fig = per_chi.plot_periodogram_tile(\n",
    "            labels = 'tile_labels',\n",
    "            find_peaks = True, # make find_peaks True to add a marker over significant peaks\n",
    "            title = 'Tiled Chi Squared Periodogram'\n",
    ")\n",
    "fig.show()"
   ]
  },
  {
   "cell_type": "code",
   "execution_count": null,
   "id": "d032c26c",
   "metadata": {},
   "outputs": [],
   "source": [
    "fig = ps.plot_periodogram_tile(\n",
    "            labels = 'tile_labels',\n",
    "            find_peaks = True, # make find_peaks True to add a marker over significant peaks\n",
    "            title = 'Tiled Chi Squared Periodogram'\n",
    ")"
   ]
  },
  {
   "cell_type": "code",
   "execution_count": null,
   "id": "4ee0b4ea",
   "metadata": {},
   "outputs": [],
   "source": [
    "# fig = per_lomb.plot_periodogram_tile(\n",
    "#             labels = 'tile_labels',\n",
    "#             find_peaks = True, # make find_peaks True to add a marker over significant peaks\n",
    "#             title = 'Tiled Lomb Scargle Periodogram'\n",
    "# )\n",
    "# fig.show()"
   ]
  },
  {
   "cell_type": "markdown",
   "id": "8796bc22",
   "metadata": {},
   "source": [
    "#### Grouped Plots"
   ]
  },
  {
   "cell_type": "code",
   "execution_count": null,
   "id": "8f1059c7-4a52-4ac9-8c50-452d898039b1",
   "metadata": {},
   "outputs": [],
   "source": [
    "# Lets have a looked at them averaged across the groups\n",
    "fig = per_chi.plot_periodogram(\n",
    "            facet_col = 'period_group',\n",
    "            facet_arg = ['short', 'wt', 'long'],\n",
    "            title = 'Grouped Chi Squared Periodogram'\n",
    ")\n",
    "fig.show()"
   ]
  },
  {
   "cell_type": "code",
   "execution_count": null,
   "id": "dee56573",
   "metadata": {},
   "outputs": [],
   "source": [
    "fig = ps.plot_periodogram(\n",
    "            facet_col = 'period_group',\n",
    "            facet_arg = ['short', 'wt', 'long'],\n",
    "            title = 'Grouped Chi Squared Periodogram'\n",
    ")"
   ]
  },
  {
   "cell_type": "code",
   "execution_count": null,
   "id": "bfb5f625",
   "metadata": {},
   "outputs": [],
   "source": [
    "fig = per_lomb.plot_periodogram(\n",
    "            facet_col = 'period_group',\n",
    "            facet_arg = ['short', 'wt', 'long'],\n",
    "            title = 'Grouped Lomb Scargle Periodogram'\n",
    ")\n",
    "fig.show()"
   ]
  },
  {
   "cell_type": "code",
   "execution_count": null,
   "id": "739370e1",
   "metadata": {},
   "outputs": [],
   "source": [
    "fig = pls.plot_periodogram(\n",
    "            facet_col = 'period_group',\n",
    "            facet_arg = ['short', 'wt', 'long'],\n",
    "            title = 'Grouped Lomb Scargle Periodogram'\n",
    ")"
   ]
  },
  {
   "cell_type": "markdown",
   "id": "f6be9df7",
   "metadata": {},
   "source": [
    "We can see from both Chi Squared and Lomb Scargle that the different groups have periodicities of about 19, 24, and 27 respectively. But now we want to quantify this."
   ]
  },
  {
   "cell_type": "markdown",
   "id": "dba2e8d6",
   "metadata": {},
   "source": [
    "#### Quantify Periodogram"
   ]
  },
  {
   "cell_type": "code",
   "execution_count": null,
   "id": "6d6a125a",
   "metadata": {},
   "outputs": [],
   "source": [
    "# Quantify the periodograms by finding the highest power peak and comparing it across specimens in a group\n",
    "# call .quantify_periodogram() to get the results\n",
    "fig, stats = per_chi.plot_quantify_periodogram(\n",
    "        facet_col = 'period_group',\n",
    "        facet_arg = ['short', 'wt', 'long'],\n",
    "        title = 'Quantification of Chi Squared Periodogram'\n",
    ")\n",
    "fig.show()"
   ]
  },
  {
   "cell_type": "code",
   "execution_count": null,
   "id": "c840723f",
   "metadata": {},
   "outputs": [],
   "source": [
    "fig, stats = ps.plot_quantify_periodogram(\n",
    "        facet_col = 'period_group',\n",
    "        facet_arg = ['short', 'wt', 'long'],\n",
    "        title = 'Quantification of Chi Squared Periodogram'\n",
    ")"
   ]
  },
  {
   "cell_type": "code",
   "execution_count": null,
   "id": "ecf887c7",
   "metadata": {},
   "outputs": [],
   "source": [
    "fig, stats = per_lomb.quantify_periodogram(\n",
    "        facet_col = 'period_group',\n",
    "        facet_arg = ['short', 'wt', 'long'],\n",
    "        title = 'Quantification of Lomb Scargle Periodogram'\n",
    ")\n",
    "fig.show()"
   ]
  },
  {
   "cell_type": "code",
   "execution_count": null,
   "id": "65306cdd",
   "metadata": {},
   "outputs": [],
   "source": [
    "fig, stats = pls.plot_quantify_periodogram(\n",
    "        facet_col = 'period_group',\n",
    "        facet_arg = ['short', 'wt', 'long'],\n",
    "        title = 'Quantification of Lomb Scargle Periodogram'\n",
    ")"
   ]
  },
  {
   "cell_type": "code",
   "execution_count": null,
   "id": "2280d712",
   "metadata": {},
   "outputs": [],
   "source": [
    "# You can find the peaks in your periodograms without plotting, use .find_peaks()\n",
    "# Find peaks adds a column to your periodogram dataframe with the rank of your peak. I.e. false = no peak, 2 = 2nd highest peak, 1 = highest peak\n",
    "per_chi_peaks = per_chi.find_peaks(\n",
    "            num_peaks = 3 # maximum number of peaks you want returned, if there are less than your given number then only they will be returned\n",
    ")\n",
    "#Lets have a look at the peaks\n",
    "per_chi_peaks[per_chi_peaks['peak'] != False]"
   ]
  },
  {
   "cell_type": "markdown",
   "id": "af206e8f",
   "metadata": {},
   "source": [
    "### Wavelets"
   ]
  },
  {
   "cell_type": "markdown",
   "id": "6f868c41",
   "metadata": {},
   "source": [
    "The final periodogram is wavelets, which preserve the time dimension when finding the underlying frequencies. This means you can see how periodcity changes over the course of a long experiment"
   ]
  },
  {
   "cell_type": "code",
   "execution_count": null,
   "id": "946c4505",
   "metadata": {},
   "outputs": [],
   "source": [
    "# Wavelet plots are intensive to plot usually due to the amount of points. Therefore the .wavelet function will compute and plot just one wavelet transformation, averaging all the data in your dataframe\n",
    "# It's therefore recommended you filter prior to calling the function, either by groups or to individual specimens\n",
    "# This method is powered bythe python package pywt, Head to https://pywavelets.readthedocs.io/en/latest/ for information about the pacakage and the other wavelet types\n",
    "wt_df = df.xmv('period_group', 'wt')\n",
    "fig = wt_df.wavelet(\n",
    "        mov_variable = 'moving',\n",
    "        sampling_rate = 15, # increasing the sampling rate will increase the resolution of lower frequencues (16-30 hours), but lose resolution of higher frequencies (2-8 hours)\n",
    "        scale = 156, # the defualt is 156, increasing this number will increase the resolution of lower frequencies (and lower the high frequencies), but it will take longer to compute\n",
    "        wavelet_type = 'morl', # the default wavelet type and the most commonly used in circadian analysis. Head to the website above for the other wavelet types or call the method .wavelet_types() to see their names\n",
    "        title = 'Wavelet: WT'\n",
    "\n",
    ")\n",
    "fig.show()"
   ]
  },
  {
   "cell_type": "markdown",
   "id": "49cdb6b5",
   "metadata": {},
   "source": [
    "Areas of organge/red have high scores for the freqencies on the y-axis. Due to trying to fit all of the frequencies of the y-axis in the results are plotted on a natural log scale, this makes it hard to find accurate changes in periodicity. However we can see how it changes over time, which here seems to decrease slightly. (The edge cases of wavelets tend to have the lowest scores due to the effect of windowing, so the drop is not unexpected)"
   ]
  },
  {
   "cell_type": "markdown",
   "id": "205cb684",
   "metadata": {},
   "source": [
    "Here we've walked you through how to use behavpy to perform circadian analysis on your data, go forth and analyse"
   ]
  }
 ],
 "metadata": {
  "kernelspec": {
   "display_name": "Python 3 (ipykernel)",
   "language": "python",
   "name": "python3"
  },
  "language_info": {
   "codemirror_mode": {
    "name": "ipython",
    "version": 3
   },
   "file_extension": ".py",
   "mimetype": "text/x-python",
   "name": "python",
   "nbconvert_exporter": "python",
   "pygments_lexer": "ipython3",
   "version": "3.12.3"
  },
  "vscode": {
   "interpreter": {
    "hash": "211748f54154f02aba8591b85552ed265a1a0cd91e8e9c910b9a2d1a7391a4f0"
   }
  }
 },
 "nbformat": 4,
 "nbformat_minor": 5
}
